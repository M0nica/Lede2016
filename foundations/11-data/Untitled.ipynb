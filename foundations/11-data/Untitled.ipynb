{
 "cells": [
  {
   "cell_type": "code",
   "execution_count": 1,
   "metadata": {
    "collapsed": false
   },
   "outputs": [
    {
     "name": "stderr",
     "output_type": "stream",
     "text": [
      "/Users/Monica/.virtualenvs/dataanalysis/lib/python3.5/site-packages/matplotlib/__init__.py:1035: UserWarning: Duplicate key in file \"/Users/Monica/.matplotlib/matplotlibrc\", line #2\n",
      "  (fname, cnt))\n"
     ]
    }
   ],
   "source": [
    "import pandas as pd"
   ]
  },
  {
   "cell_type": "code",
   "execution_count": 2,
   "metadata": {
    "collapsed": false
   },
   "outputs": [],
   "source": [
    "df = pd.read_csv(\"Civil_List_2014.csv\")"
   ]
  },
  {
   "cell_type": "code",
   "execution_count": 3,
   "metadata": {
    "collapsed": false
   },
   "outputs": [
    {
     "data": {
      "text/html": [
       "<div>\n",
       "<table border=\"1\" class=\"dataframe\">\n",
       "  <thead>\n",
       "    <tr style=\"text-align: right;\">\n",
       "      <th></th>\n",
       "      <th>DPT</th>\n",
       "      <th>NAME</th>\n",
       "      <th>ADDRESS</th>\n",
       "      <th>TTL #</th>\n",
       "      <th>PC</th>\n",
       "      <th>SAL-RATE</th>\n",
       "    </tr>\n",
       "  </thead>\n",
       "  <tbody>\n",
       "    <tr>\n",
       "      <th>0</th>\n",
       "      <td>868</td>\n",
       "      <td>B J  SANDIFORD</td>\n",
       "      <td>DEPARTMENT OF CITYWIDE ADM</td>\n",
       "      <td>12702</td>\n",
       "      <td>X</td>\n",
       "      <td>$5.00</td>\n",
       "    </tr>\n",
       "    <tr>\n",
       "      <th>1</th>\n",
       "      <td>868</td>\n",
       "      <td>C A  WIGFALL</td>\n",
       "      <td>DEPARTMENT OF CITYWIDE ADM</td>\n",
       "      <td>12702</td>\n",
       "      <td>X</td>\n",
       "      <td>$5.00</td>\n",
       "    </tr>\n",
       "    <tr>\n",
       "      <th>2</th>\n",
       "      <td>69</td>\n",
       "      <td>A E A-AWOSOGBA</td>\n",
       "      <td>HRA/DEPARTMENT OF SOCIAL S</td>\n",
       "      <td>52311</td>\n",
       "      <td>A</td>\n",
       "      <td>$51955.00</td>\n",
       "    </tr>\n",
       "    <tr>\n",
       "      <th>3</th>\n",
       "      <td>868</td>\n",
       "      <td>K D AABY</td>\n",
       "      <td>DEPARTMENT OF CITYWIDE ADM</td>\n",
       "      <td>10209</td>\n",
       "      <td>X</td>\n",
       "      <td>$12.00</td>\n",
       "    </tr>\n",
       "    <tr>\n",
       "      <th>4</th>\n",
       "      <td>56</td>\n",
       "      <td>I D AADIL</td>\n",
       "      <td>POLICE DEPARTMENT</td>\n",
       "      <td>71012</td>\n",
       "      <td>A</td>\n",
       "      <td>$46953.00</td>\n",
       "    </tr>\n",
       "    <tr>\n",
       "      <th>5</th>\n",
       "      <td>69</td>\n",
       "      <td>M   AAKIRI</td>\n",
       "      <td>HRA/DEPARTMENT OF SOCIAL S</td>\n",
       "      <td>56056</td>\n",
       "      <td>A</td>\n",
       "      <td>$33000.00</td>\n",
       "    </tr>\n",
       "    <tr>\n",
       "      <th>6</th>\n",
       "      <td>464</td>\n",
       "      <td>A   AALAI</td>\n",
       "      <td>CUNY QUEENSBOROUGH COMMUNI</td>\n",
       "      <td>4607</td>\n",
       "      <td>N</td>\n",
       "      <td>$73.53</td>\n",
       "    </tr>\n",
       "    <tr>\n",
       "      <th>7</th>\n",
       "      <td>998</td>\n",
       "      <td>A V AALEVIK</td>\n",
       "      <td>N.Y.C. TRANSIT AUTHORITY</td>\n",
       "      <td>402</td>\n",
       "      <td>2</td>\n",
       "      <td>$33280.00</td>\n",
       "    </tr>\n",
       "    <tr>\n",
       "      <th>8</th>\n",
       "      <td>998</td>\n",
       "      <td>M   AAMIR</td>\n",
       "      <td>N.Y.C. TRANSIT AUTHORITY</td>\n",
       "      <td>00T07</td>\n",
       "      <td>4</td>\n",
       "      <td>$60878.00</td>\n",
       "    </tr>\n",
       "    <tr>\n",
       "      <th>9</th>\n",
       "      <td>826</td>\n",
       "      <td>M R AARABI</td>\n",
       "      <td>DEPARTMENT OF ENVIRONMENTA</td>\n",
       "      <td>34202</td>\n",
       "      <td>A</td>\n",
       "      <td>$69272.00</td>\n",
       "    </tr>\n",
       "  </tbody>\n",
       "</table>\n",
       "</div>"
      ],
      "text/plain": [
       "   DPT             NAME                        ADDRESS  TTL #    PC        \\\n",
       "0       868  B J  SANDIFORD  DEPARTMENT OF CITYWIDE ADM    12702        X   \n",
       "1       868    C A  WIGFALL  DEPARTMENT OF CITYWIDE ADM    12702        X   \n",
       "2        69  A E A-AWOSOGBA  HRA/DEPARTMENT OF SOCIAL S    52311        A   \n",
       "3       868        K D AABY  DEPARTMENT OF CITYWIDE ADM    10209        X   \n",
       "4        56       I D AADIL           POLICE DEPARTMENT    71012        A   \n",
       "5        69      M   AAKIRI  HRA/DEPARTMENT OF SOCIAL S    56056        A   \n",
       "6       464       A   AALAI  CUNY QUEENSBOROUGH COMMUNI     4607        N   \n",
       "7       998     A V AALEVIK    N.Y.C. TRANSIT AUTHORITY      402        2   \n",
       "8       998       M   AAMIR    N.Y.C. TRANSIT AUTHORITY    00T07        4   \n",
       "9       826      M R AARABI  DEPARTMENT OF ENVIRONMENTA    34202        A   \n",
       "\n",
       "    SAL-RATE  \n",
       "0      $5.00  \n",
       "1      $5.00  \n",
       "2  $51955.00  \n",
       "3     $12.00  \n",
       "4  $46953.00  \n",
       "5  $33000.00  \n",
       "6     $73.53  \n",
       "7  $33280.00  \n",
       "8  $60878.00  \n",
       "9  $69272.00  "
      ]
     },
     "execution_count": 3,
     "metadata": {},
     "output_type": "execute_result"
    }
   ],
   "source": [
    "df.head(10)"
   ]
  },
  {
   "cell_type": "code",
   "execution_count": 4,
   "metadata": {
    "collapsed": false
   },
   "outputs": [
    {
     "data": {
      "text/plain": [
       "count        269838\n",
       "unique        27533\n",
       "top       $76488.00\n",
       "freq          26024\n",
       "Name: SAL-RATE, dtype: object"
      ]
     },
     "execution_count": 4,
     "metadata": {},
     "output_type": "execute_result"
    }
   ],
   "source": [
    "df['SAL-RATE'].describe()"
   ]
  },
  {
   "cell_type": "code",
   "execution_count": 5,
   "metadata": {
    "collapsed": false
   },
   "outputs": [
    {
     "data": {
      "text/plain": [
       "Index(['DPT     ', 'NAME    ', 'ADDRESS ', 'TTL #   ', 'PC      ', 'SAL-RATE'], dtype='object')"
      ]
     },
     "execution_count": 5,
     "metadata": {},
     "output_type": "execute_result"
    }
   ],
   "source": [
    "df.columns # there are spaces after the names of the columns"
   ]
  },
  {
   "cell_type": "code",
   "execution_count": 8,
   "metadata": {
    "collapsed": false
   },
   "outputs": [
    {
     "name": "stdout",
     "output_type": "stream",
     "text": [
      "DPT\n",
      "NAME\n",
      "ADDRESS\n",
      "TTL #\n",
      "PC\n",
      "SAL-RATE\n"
     ]
    }
   ],
   "source": [
    "for col in df.columns:\n",
    "    print(col.strip()) # this prints out each column name with the spaces stripped"
   ]
  },
  {
   "cell_type": "code",
   "execution_count": 11,
   "metadata": {
    "collapsed": false
   },
   "outputs": [],
   "source": [
    "# it's a list, so - []\n",
    "# i's a loop, so - [for col in df.columns]\n",
    "# col.strip(), so- [col.strip() for col in columns]\n",
    "df.columns = [col.strip() for col in df.columns] # this strips the white space for each column and overwrites db "
   ]
  },
  {
   "cell_type": "code",
   "execution_count": 12,
   "metadata": {
    "collapsed": false
   },
   "outputs": [
    {
     "data": {
      "text/plain": [
       "Index(['DPT', 'NAME', 'ADDRESS', 'TTL #', 'PC', 'SAL-RATE'], dtype='object')"
      ]
     },
     "execution_count": 12,
     "metadata": {},
     "output_type": "execute_result"
    }
   ],
   "source": [
    "df.columns"
   ]
  },
  {
   "cell_type": "code",
   "execution_count": 13,
   "metadata": {
    "collapsed": false
   },
   "outputs": [
    {
     "data": {
      "text/plain": [
       "A     100521\n",
       "D      54881\n",
       "X      24403\n",
       "4      23259\n",
       "3      19866\n",
       "1      13083\n",
       "K       7635\n",
       "F       6361\n",
       "N       4671\n",
       "U       3409\n",
       "B       2817\n",
       "BW      1766\n",
       "E       1300\n",
       "W       1257\n",
       "G       1085\n",
       "I        730\n",
       "2        721\n",
       "M        708\n",
       "O        536\n",
       "WK       488\n",
       "P        307\n",
       "L         25\n",
       "S          4\n",
       "0          3\n",
       "V          2\n",
       "Name: PC, dtype: int64"
      ]
     },
     "execution_count": 13,
     "metadata": {},
     "output_type": "execute_result"
    }
   ],
   "source": [
    "df[\"PC\"].value_counts()"
   ]
  },
  {
   "cell_type": "code",
   "execution_count": 14,
   "metadata": {
    "collapsed": false
   },
   "outputs": [
    {
     "data": {
      "text/plain": [
       "count        269838\n",
       "unique        27533\n",
       "top       $76488.00\n",
       "freq          26024\n",
       "Name: SAL-RATE, dtype: object"
      ]
     },
     "execution_count": 14,
     "metadata": {},
     "output_type": "execute_result"
    }
   ],
   "source": [
    "df[\"SAL-RATE\"].describe() # It's a string :O"
   ]
  },
  {
   "cell_type": "code",
   "execution_count": 18,
   "metadata": {
    "collapsed": false
   },
   "outputs": [
    {
     "data": {
      "text/plain": [
       "76488.0"
      ]
     },
     "execution_count": 18,
     "metadata": {},
     "output_type": "execute_result"
    }
   ],
   "source": [
    "def money_to_int(money_str):\n",
    "    return float(money_str.replace(\"$\", \"\").replace(\",\",\"\"))\n",
    "money_to_int(\"$76488.00\")"
   ]
  },
  {
   "cell_type": "code",
   "execution_count": 19,
   "metadata": {
    "collapsed": false
   },
   "outputs": [
    {
     "name": "stdout",
     "output_type": "stream",
     "text": [
      "76488.0\n",
      "5.0\n",
      "1500.0\n"
     ]
    }
   ],
   "source": [
    "print(money_to_int(\"$76488.00\"))\n",
    "print(money_to_int(\"$5.00\"))\n",
    "print(money_to_int(\"$1,500.00\"))"
   ]
  },
  {
   "cell_type": "code",
   "execution_count": 22,
   "metadata": {
    "collapsed": false
   },
   "outputs": [
    {
     "data": {
      "text/plain": [
       "0              5.00\n",
       "1              5.00\n",
       "2          51955.00\n",
       "3             12.00\n",
       "4          46953.00\n",
       "5          33000.00\n",
       "6             73.53\n",
       "7          33280.00\n",
       "8          60878.00\n",
       "9          69272.00\n",
       "10         89960.00\n",
       "11         38324.00\n",
       "12         39019.00\n",
       "13           369.92\n",
       "14         66127.00\n",
       "15         64250.00\n",
       "16         32510.00\n",
       "17             2.65\n",
       "18        109087.00\n",
       "19        111606.00\n",
       "20             5.00\n",
       "21         56555.00\n",
       "22         51643.00\n",
       "23         77015.00\n",
       "24         76488.00\n",
       "25         67627.00\n",
       "26         68095.00\n",
       "27         66127.00\n",
       "28         76689.00\n",
       "29         48153.00\n",
       "            ...    \n",
       "269808     85287.00\n",
       "269809     65564.00\n",
       "269810     56937.00\n",
       "269811     81439.00\n",
       "269812    118506.00\n",
       "269813     42064.00\n",
       "269814        33.18\n",
       "269815    116364.00\n",
       "269816     98072.00\n",
       "269817    107563.00\n",
       "269818     37150.00\n",
       "269819     74646.00\n",
       "269820     64040.00\n",
       "269821     76488.00\n",
       "269822     83802.00\n",
       "269823        17.16\n",
       "269824     85667.00\n",
       "269825        46.89\n",
       "269826        67.42\n",
       "269827     51916.00\n",
       "269828     57514.00\n",
       "269829     74605.00\n",
       "269830     74605.00\n",
       "269831     64403.00\n",
       "269832     51936.00\n",
       "269833        47.58\n",
       "269834     87738.00\n",
       "269835     78683.00\n",
       "269836     76488.00\n",
       "269837         5.00\n",
       "Name: SAL-RATE, dtype: float64"
      ]
     },
     "execution_count": 22,
     "metadata": {},
     "output_type": "execute_result"
    }
   ],
   "source": [
    "df['SAL-RATE'].apply(money_to_int)"
   ]
  },
  {
   "cell_type": "code",
   "execution_count": 24,
   "metadata": {
    "collapsed": false
   },
   "outputs": [],
   "source": [
    "df['salary'] = df['SAL-RATE'].apply(money_to_int)"
   ]
  },
  {
   "cell_type": "code",
   "execution_count": 25,
   "metadata": {
    "collapsed": false
   },
   "outputs": [
    {
     "data": {
      "text/html": [
       "<div>\n",
       "<table border=\"1\" class=\"dataframe\">\n",
       "  <thead>\n",
       "    <tr style=\"text-align: right;\">\n",
       "      <th></th>\n",
       "      <th>DPT</th>\n",
       "      <th>NAME</th>\n",
       "      <th>ADDRESS</th>\n",
       "      <th>TTL #</th>\n",
       "      <th>PC</th>\n",
       "      <th>SAL-RATE</th>\n",
       "      <th>salary</th>\n",
       "    </tr>\n",
       "  </thead>\n",
       "  <tbody>\n",
       "    <tr>\n",
       "      <th>0</th>\n",
       "      <td>868</td>\n",
       "      <td>B J  SANDIFORD</td>\n",
       "      <td>DEPARTMENT OF CITYWIDE ADM</td>\n",
       "      <td>12702</td>\n",
       "      <td>X</td>\n",
       "      <td>$5.00</td>\n",
       "      <td>5.0</td>\n",
       "    </tr>\n",
       "    <tr>\n",
       "      <th>1</th>\n",
       "      <td>868</td>\n",
       "      <td>C A  WIGFALL</td>\n",
       "      <td>DEPARTMENT OF CITYWIDE ADM</td>\n",
       "      <td>12702</td>\n",
       "      <td>X</td>\n",
       "      <td>$5.00</td>\n",
       "      <td>5.0</td>\n",
       "    </tr>\n",
       "    <tr>\n",
       "      <th>2</th>\n",
       "      <td>69</td>\n",
       "      <td>A E A-AWOSOGBA</td>\n",
       "      <td>HRA/DEPARTMENT OF SOCIAL S</td>\n",
       "      <td>52311</td>\n",
       "      <td>A</td>\n",
       "      <td>$51955.00</td>\n",
       "      <td>51955.0</td>\n",
       "    </tr>\n",
       "    <tr>\n",
       "      <th>3</th>\n",
       "      <td>868</td>\n",
       "      <td>K D AABY</td>\n",
       "      <td>DEPARTMENT OF CITYWIDE ADM</td>\n",
       "      <td>10209</td>\n",
       "      <td>X</td>\n",
       "      <td>$12.00</td>\n",
       "      <td>12.0</td>\n",
       "    </tr>\n",
       "    <tr>\n",
       "      <th>4</th>\n",
       "      <td>56</td>\n",
       "      <td>I D AADIL</td>\n",
       "      <td>POLICE DEPARTMENT</td>\n",
       "      <td>71012</td>\n",
       "      <td>A</td>\n",
       "      <td>$46953.00</td>\n",
       "      <td>46953.0</td>\n",
       "    </tr>\n",
       "  </tbody>\n",
       "</table>\n",
       "</div>"
      ],
      "text/plain": [
       "   DPT            NAME                     ADDRESS  TTL # PC   SAL-RATE  \\\n",
       "0  868  B J  SANDIFORD  DEPARTMENT OF CITYWIDE ADM  12702  X      $5.00   \n",
       "1  868    C A  WIGFALL  DEPARTMENT OF CITYWIDE ADM  12702  X      $5.00   \n",
       "2   69  A E A-AWOSOGBA  HRA/DEPARTMENT OF SOCIAL S  52311  A  $51955.00   \n",
       "3  868        K D AABY  DEPARTMENT OF CITYWIDE ADM  10209  X     $12.00   \n",
       "4   56       I D AADIL           POLICE DEPARTMENT  71012  A  $46953.00   \n",
       "\n",
       "    salary  \n",
       "0      5.0  \n",
       "1      5.0  \n",
       "2  51955.0  \n",
       "3     12.0  \n",
       "4  46953.0  "
      ]
     },
     "execution_count": 25,
     "metadata": {},
     "output_type": "execute_result"
    }
   ],
   "source": [
    "df.head()"
   ]
  },
  {
   "cell_type": "code",
   "execution_count": 27,
   "metadata": {
    "collapsed": false
   },
   "outputs": [
    {
     "data": {
      "text/plain": [
       "count    269838.000000\n",
       "mean      54143.707486\n",
       "std       32345.656289\n",
       "min           0.500000\n",
       "25%       36899.000000\n",
       "50%       57855.000000\n",
       "75%       76488.000000\n",
       "max      300000.000000\n",
       "Name: salary, dtype: float64"
      ]
     },
     "execution_count": 27,
     "metadata": {},
     "output_type": "execute_result"
    }
   ],
   "source": [
    "df['salary'].describe()"
   ]
  },
  {
   "cell_type": "code",
   "execution_count": 28,
   "metadata": {
    "collapsed": true
   },
   "outputs": [],
   "source": [
    "%matplotlib inline"
   ]
  },
  {
   "cell_type": "code",
   "execution_count": 29,
   "metadata": {
    "collapsed": false
   },
   "outputs": [
    {
     "data": {
      "text/plain": [
       "<matplotlib.axes._subplots.AxesSubplot at 0x10b62aac8>"
      ]
     },
     "execution_count": 29,
     "metadata": {},
     "output_type": "execute_result"
    },
    {
     "data": {
      "image/png": "[encoded data removed]",
      "text/plain": [
       "<matplotlib.figure.Figure at 0x108d7ca58>"
      ]
     },
     "metadata": {},
     "output_type": "display_data"
    }
   ],
   "source": [
    "df['salary'].hist(bins=70)"
   ]
  },
  {
   "cell_type": "code",
   "execution_count": 32,
   "metadata": {
    "collapsed": true
   },
   "outputs": [],
   "source": [
    "agencies_df = pd.read_csv(\"cleaned-agencies.csv\", dtype='str') # reads every single line as string"
   ]
  },
  {
   "cell_type": "code",
   "execution_count": 34,
   "metadata": {
    "collapsed": true
   },
   "outputs": [],
   "source": [
    "#ensures that double digit 0s remain at the beginning of code -- instead of replacing 001 with 1\n",
    "col_types = { 'code': 'str'}\n",
    "agencies_df = pd.read_csv(\"cleaned-agencies.csv\", dtype=col_types) # reads every single line as string"
   ]
  },
  {
   "cell_type": "code",
   "execution_count": 35,
   "metadata": {
    "collapsed": false
   },
   "outputs": [
    {
     "data": {
      "text/html": [
       "<div>\n",
       "<table border=\"1\" class=\"dataframe\">\n",
       "  <thead>\n",
       "    <tr style=\"text-align: right;\">\n",
       "      <th></th>\n",
       "      <th>code</th>\n",
       "      <th>agency</th>\n",
       "      <th>is_mayoral</th>\n",
       "    </tr>\n",
       "  </thead>\n",
       "  <tbody>\n",
       "    <tr>\n",
       "      <th>0</th>\n",
       "      <td>002</td>\n",
       "      <td>OFFICE OF THE MAYOR</td>\n",
       "      <td>N</td>\n",
       "    </tr>\n",
       "    <tr>\n",
       "      <th>1</th>\n",
       "      <td>003</td>\n",
       "      <td>BOARD OF ELECTIONS</td>\n",
       "      <td>Y</td>\n",
       "    </tr>\n",
       "    <tr>\n",
       "      <th>2</th>\n",
       "      <td>004</td>\n",
       "      <td>CAMPAIGN FINANCE BOARD</td>\n",
       "      <td>Y</td>\n",
       "    </tr>\n",
       "    <tr>\n",
       "      <th>3</th>\n",
       "      <td>005</td>\n",
       "      <td>BOARD OF ESTIMATE-SECRETARY</td>\n",
       "      <td>Y</td>\n",
       "    </tr>\n",
       "    <tr>\n",
       "      <th>4</th>\n",
       "      <td>006</td>\n",
       "      <td>MAYOR'S OFFICE OF OPERATIONS</td>\n",
       "      <td>N</td>\n",
       "    </tr>\n",
       "  </tbody>\n",
       "</table>\n",
       "</div>"
      ],
      "text/plain": [
       "  code                        agency is_mayoral\n",
       "0  002           OFFICE OF THE MAYOR          N\n",
       "1  003            BOARD OF ELECTIONS          Y\n",
       "2  004        CAMPAIGN FINANCE BOARD          Y\n",
       "3  005   BOARD OF ESTIMATE-SECRETARY          Y\n",
       "4  006  MAYOR'S OFFICE OF OPERATIONS          N"
      ]
     },
     "execution_count": 35,
     "metadata": {},
     "output_type": "execute_result"
    }
   ],
   "source": [
    "agencies_df.head()"
   ]
  },
  {
   "cell_type": "code",
   "execution_count": null,
   "metadata": {
    "collapsed": true
   },
   "outputs": [],
   "source": []
  }
 ],
 "metadata": {
  "kernelspec": {
   "display_name": "Python 3",
   "language": "python",
   "name": "python3"
  },
  "language_info": {
   "codemirror_mode": {
    "name": "ipython",
    "version": 3
   },
   "file_extension": ".py",
   "mimetype": "text/x-python",
   "name": "python",
   "nbconvert_exporter": "python",
   "pygments_lexer": "ipython3",
   "version": "3.5.1"
  }
 },
 "nbformat": 4,
 "nbformat_minor": 0
}
