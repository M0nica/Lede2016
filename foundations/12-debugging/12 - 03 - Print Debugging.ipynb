{
 "cells": [
  {
   "cell_type": "code",
   "execution_count": 2,
   "metadata": {
    "collapsed": true
   },
   "outputs": [],
   "source": [
    "import requests\n",
    "import urllib\n",
    "import matplotlib.pyplot as plt\n",
    "from IPython.display import display, Image\n",
    "from IPython.core.display import HTML \n",
    "import requests\n",
    "%matplotlib inline"
   ]
  },
  {
   "cell_type": "markdown",
   "metadata": {
    "collapsed": true
   },
   "source": [
    "# Print Debugging"
   ]
  },
  {
   "cell_type": "code",
   "execution_count": 24,
   "metadata": {
    "collapsed": false
   },
   "outputs": [],
   "source": [
    "def display_image(url):\n",
    "    print(\"About to display an image\")\n",
    "    print(\"The URL is\", url)\n",
    "    response = urllib.request.urlopen(url).read()\n",
    "    img = Image(response, width=200)\n",
    "    display(img)"
   ]
  },
  {
   "cell_type": "code",
   "execution_count": 4,
   "metadata": {
    "collapsed": false
   },
   "outputs": [
    {
     "data": {
      "image/jpeg": "[encoded data removed]",
      "text/plain": [
       "<IPython.core.display.Image object>"
      ]
     },
     "metadata": {
      "image/jpeg": {
       "width": 200
      }
     },
     "output_type": "display_data"
    }
   ],
   "source": [
    "display_image(\"https://i.ytimg.com/vi/z_AbfPXTKms/hqdefault.jpg\")"
   ]
  },
  {
   "cell_type": "code",
   "execution_count": 5,
   "metadata": {
    "collapsed": true
   },
   "outputs": [],
   "source": [
    "response = requests.get(\"https://api.spotify.com/v1/search?query=lil&offset=0&limit=20&type=artist\")\n",
    "data = response.json()"
   ]
  },
  {
   "cell_type": "code",
   "execution_count": 6,
   "metadata": {
    "collapsed": false
   },
   "outputs": [
    {
     "data": {
      "text/plain": [
       "dict_keys(['artists'])"
      ]
     },
     "execution_count": 6,
     "metadata": {},
     "output_type": "execute_result"
    }
   ],
   "source": [
    "data.keys()"
   ]
  },
  {
   "cell_type": "code",
   "execution_count": 7,
   "metadata": {
    "collapsed": false
   },
   "outputs": [
    {
     "data": {
      "text/plain": [
       "dict_keys(['total', 'previous', 'limit', 'href', 'items', 'next', 'offset'])"
      ]
     },
     "execution_count": 7,
     "metadata": {},
     "output_type": "execute_result"
    }
   ],
   "source": [
    "data['artists'].keys()"
   ]
  },
  {
   "cell_type": "code",
   "execution_count": 8,
   "metadata": {
    "collapsed": false
   },
   "outputs": [],
   "source": [
    "artists = data['artists']['items']"
   ]
  },
  {
   "cell_type": "code",
   "execution_count": 9,
   "metadata": {
    "collapsed": false
   },
   "outputs": [
    {
     "data": {
      "text/plain": [
       "dict_keys(['id', 'genres', 'popularity', 'type', 'name', 'href', 'external_urls', 'followers', 'images', 'uri'])"
      ]
     },
     "execution_count": 9,
     "metadata": {},
     "output_type": "execute_result"
    }
   ],
   "source": [
    "artists[0].keys()"
   ]
  },
  {
   "cell_type": "code",
   "execution_count": 10,
   "metadata": {
    "collapsed": false
   },
   "outputs": [
    {
     "data": {
      "text/plain": [
       "[{'height': 1239,\n",
       "  'url': 'https://i.scdn.co/image/cf012139c3b8681b46a66bae70558a8a336ab231',\n",
       "  'width': 1000},\n",
       " {'height': 793,\n",
       "  'url': 'https://i.scdn.co/image/fffd48d60e27901f6e9ce99423f045cb2b893944',\n",
       "  'width': 640},\n",
       " {'height': 248,\n",
       "  'url': 'https://i.scdn.co/image/bf03141629c202e94b206f1374a39326a9d8c6ca',\n",
       "  'width': 200},\n",
       " {'height': 79,\n",
       "  'url': 'https://i.scdn.co/image/521f99f2469883b8806a69a3a2487fdd983bd621',\n",
       "  'width': 64}]"
      ]
     },
     "execution_count": 10,
     "metadata": {},
     "output_type": "execute_result"
    }
   ],
   "source": [
    "artists[0]['images']"
   ]
  },
  {
   "cell_type": "code",
   "execution_count": null,
   "metadata": {
    "collapsed": false
   },
   "outputs": [],
   "source": []
  },
  {
   "cell_type": "code",
   "execution_count": null,
   "metadata": {
    "collapsed": false
   },
   "outputs": [],
   "source": []
  },
  {
   "cell_type": "code",
   "execution_count": 28,
   "metadata": {
    "collapsed": true
   },
   "outputs": [],
   "source": [
    "def display_artist_image(artist):\n",
    "    print(\"Inside display_artist_image, looking art an artist\")\n",
    "    print(artist)\n",
    "    print(\"images\" + artist['image'][0]['url'])\n",
    "    display_image(artist['images'][0]['url'])"
   ]
  },
  {
   "cell_type": "code",
   "execution_count": null,
   "metadata": {
    "collapsed": false
   },
   "outputs": [],
   "source": []
  },
  {
   "cell_type": "code",
   "execution_count": 15,
   "metadata": {
    "collapsed": true
   },
   "outputs": [],
   "source": [
    "unpopular_response = requests.get(\"https://api.spotify.com/v1/search?query=lil&offset=1200&limit=20&type=artist\")\n",
    "unpopular_data = unpopular_response.json()"
   ]
  },
  {
   "cell_type": "code",
   "execution_count": 18,
   "metadata": {
    "collapsed": false
   },
   "outputs": [],
   "source": [
    "unpopular_artists = unpopular_data['artists']['items']"
   ]
  },
  {
   "cell_type": "code",
   "execution_count": 19,
   "metadata": {
    "collapsed": false
   },
   "outputs": [
    {
     "name": "stdout",
     "output_type": "stream",
     "text": [
      "[{'id': '4d5e17qy0VPTjsdfICnkO4', 'genres': [], 'popularity': 1, 'type': 'artist', 'name': 'Lil Chuuuch', 'href': 'https://api.spotify.com/v1/artists/4d5e17qy0VPTjsdfICnkO4', 'external_urls': {'spotify': 'https://open.spotify.com/artist/4d5e17qy0VPTjsdfICnkO4'}, 'followers': {'total': 36, 'href': None}, 'images': [{'height': 640, 'width': 640, 'url': 'https://i.scdn.co/image/2f460a72975d1f0701c56482aad3f820ac5635c6'}, {'height': 300, 'width': 300, 'url': 'https://i.scdn.co/image/6cabe0ef1ac8fe662b366871f908e4714ad9406a'}, {'height': 64, 'width': 64, 'url': 'https://i.scdn.co/image/984c525d4772cc4ca88bf4bfed215be361c6bda3'}], 'uri': 'spotify:artist:4d5e17qy0VPTjsdfICnkO4'}, {'id': '16yXrzdQsBFRalQjN7Wk6t', 'genres': [], 'popularity': 0, 'type': 'artist', 'name': 'Lil Chewy', 'href': 'https://api.spotify.com/v1/artists/16yXrzdQsBFRalQjN7Wk6t', 'external_urls': {'spotify': 'https://open.spotify.com/artist/16yXrzdQsBFRalQjN7Wk6t'}, 'followers': {'total': 0, 'href': None}, 'images': [], 'uri': 'spotify:artist:16yXrzdQsBFRalQjN7Wk6t'}, {'id': '20n9on68w2cI76FuX4tTEs', 'genres': [], 'popularity': 0, 'type': 'artist', 'name': 'Lil Kees', 'href': 'https://api.spotify.com/v1/artists/20n9on68w2cI76FuX4tTEs', 'external_urls': {'spotify': 'https://open.spotify.com/artist/20n9on68w2cI76FuX4tTEs'}, 'followers': {'total': 0, 'href': None}, 'images': [{'height': 640, 'width': 640, 'url': 'https://i.scdn.co/image/8166b56bbdfad479a749ac5e1f55b1867d5abdd8'}, {'height': 300, 'width': 300, 'url': 'https://i.scdn.co/image/e0a47aafa90cea0cd44c7f0f6547f459717402b6'}, {'height': 64, 'width': 64, 'url': 'https://i.scdn.co/image/86a83c7e7cf85272676fc7753d9bdb781d450de8'}], 'uri': 'spotify:artist:20n9on68w2cI76FuX4tTEs'}, {'id': '3PhvxkEuvXaIQh9ngiP4te', 'genres': [], 'popularity': 0, 'type': 'artist', 'name': 'Lil Chaz', 'href': 'https://api.spotify.com/v1/artists/3PhvxkEuvXaIQh9ngiP4te', 'external_urls': {'spotify': 'https://open.spotify.com/artist/3PhvxkEuvXaIQh9ngiP4te'}, 'followers': {'total': 0, 'href': None}, 'images': [{'height': 640, 'width': 640, 'url': 'https://i.scdn.co/image/5de36a16a2f9e3fbc1d1657829b029e7a2ef79b5'}, {'height': 300, 'width': 300, 'url': 'https://i.scdn.co/image/62ef41a6095098b6f6ee0ea570f543fb79acda69'}, {'height': 64, 'width': 64, 'url': 'https://i.scdn.co/image/167c43c01ce4b012eaa5f9d0672e4b21af3a0c48'}], 'uri': 'spotify:artist:3PhvxkEuvXaIQh9ngiP4te'}, {'id': '5wL5QDxL7ZFJwHdf2RFI80', 'genres': [], 'popularity': 0, 'type': 'artist', 'name': 'Lil Ruc', 'href': 'https://api.spotify.com/v1/artists/5wL5QDxL7ZFJwHdf2RFI80', 'external_urls': {'spotify': 'https://open.spotify.com/artist/5wL5QDxL7ZFJwHdf2RFI80'}, 'followers': {'total': 0, 'href': None}, 'images': [], 'uri': 'spotify:artist:5wL5QDxL7ZFJwHdf2RFI80'}, {'id': '3DIXQ22R7o1Sedd9XKubVL', 'genres': [], 'popularity': 0, 'type': 'artist', 'name': 'Lil Base', 'href': 'https://api.spotify.com/v1/artists/3DIXQ22R7o1Sedd9XKubVL', 'external_urls': {'spotify': 'https://open.spotify.com/artist/3DIXQ22R7o1Sedd9XKubVL'}, 'followers': {'total': 0, 'href': None}, 'images': [], 'uri': 'spotify:artist:3DIXQ22R7o1Sedd9XKubVL'}, {'id': '7wS3Af6UGKK8kEjyBnVXkz', 'genres': [], 'popularity': 0, 'type': 'artist', 'name': 'Lil David', 'href': 'https://api.spotify.com/v1/artists/7wS3Af6UGKK8kEjyBnVXkz', 'external_urls': {'spotify': 'https://open.spotify.com/artist/7wS3Af6UGKK8kEjyBnVXkz'}, 'followers': {'total': 12, 'href': None}, 'images': [{'height': 640, 'width': 640, 'url': 'https://i.scdn.co/image/77e3528535fc4f88a7a697b5f06f751893a2293b'}, {'height': 300, 'width': 300, 'url': 'https://i.scdn.co/image/c494b8537bc5511cfc98406d53a8ddd3785eabe7'}, {'height': 64, 'width': 64, 'url': 'https://i.scdn.co/image/6f15aef98c029ea0d3ae4d4328e6fadf01525bb1'}], 'uri': 'spotify:artist:7wS3Af6UGKK8kEjyBnVXkz'}, {'id': '7mPJnJU8LZBTRbqCCUabve', 'genres': [], 'popularity': 0, 'type': 'artist', 'name': 'Lil Nitty', 'href': 'https://api.spotify.com/v1/artists/7mPJnJU8LZBTRbqCCUabve', 'external_urls': {'spotify': 'https://open.spotify.com/artist/7mPJnJU8LZBTRbqCCUabve'}, 'followers': {'total': 0, 'href': None}, 'images': [], 'uri': 'spotify:artist:7mPJnJU8LZBTRbqCCUabve'}, {'id': '4uvqX12agXsiJZ3svWo4LW', 'genres': [], 'popularity': 0, 'type': 'artist', 'name': 'Lil Kmac', 'href': 'https://api.spotify.com/v1/artists/4uvqX12agXsiJZ3svWo4LW', 'external_urls': {'spotify': 'https://open.spotify.com/artist/4uvqX12agXsiJZ3svWo4LW'}, 'followers': {'total': 0, 'href': None}, 'images': [], 'uri': 'spotify:artist:4uvqX12agXsiJZ3svWo4LW'}, {'id': '22VXcrpKKr500AOElz6AFL', 'genres': [], 'popularity': 0, 'type': 'artist', 'name': 'Lil Woody', 'href': 'https://api.spotify.com/v1/artists/22VXcrpKKr500AOElz6AFL', 'external_urls': {'spotify': 'https://open.spotify.com/artist/22VXcrpKKr500AOElz6AFL'}, 'followers': {'total': 5, 'href': None}, 'images': [], 'uri': 'spotify:artist:22VXcrpKKr500AOElz6AFL'}, {'id': '06um7mcE6UqiCWUCHtSzKr', 'genres': [], 'popularity': 0, 'type': 'artist', 'name': 'Lil Tyreke', 'href': 'https://api.spotify.com/v1/artists/06um7mcE6UqiCWUCHtSzKr', 'external_urls': {'spotify': 'https://open.spotify.com/artist/06um7mcE6UqiCWUCHtSzKr'}, 'followers': {'total': 0, 'href': None}, 'images': [{'height': 640, 'width': 640, 'url': 'https://i.scdn.co/image/130169ce8313dd2f8cf3aa960f1ba4fa7c35ee43'}, {'height': 300, 'width': 300, 'url': 'https://i.scdn.co/image/b9c280adfd0c5da873a1476dfaee6f824222684d'}, {'height': 64, 'width': 64, 'url': 'https://i.scdn.co/image/ea55a8c93d9b632617ab4c4df8726f88aabb7173'}], 'uri': 'spotify:artist:06um7mcE6UqiCWUCHtSzKr'}, {'id': '5bWYTNdlv0sc3xKJiukdN9', 'genres': [], 'popularity': 0, 'type': 'artist', 'name': 'Lil Muggsy', 'href': 'https://api.spotify.com/v1/artists/5bWYTNdlv0sc3xKJiukdN9', 'external_urls': {'spotify': 'https://open.spotify.com/artist/5bWYTNdlv0sc3xKJiukdN9'}, 'followers': {'total': 5, 'href': None}, 'images': [], 'uri': 'spotify:artist:5bWYTNdlv0sc3xKJiukdN9'}, {'id': '0bIJ87vdm7bwlJ80F2On7B', 'genres': [], 'popularity': 0, 'type': 'artist', 'name': 'Lil Mbone', 'href': 'https://api.spotify.com/v1/artists/0bIJ87vdm7bwlJ80F2On7B', 'external_urls': {'spotify': 'https://open.spotify.com/artist/0bIJ87vdm7bwlJ80F2On7B'}, 'followers': {'total': 0, 'href': None}, 'images': [], 'uri': 'spotify:artist:0bIJ87vdm7bwlJ80F2On7B'}, {'id': '5cMdEsNuGJNpKIPkwZZtcx', 'genres': [], 'popularity': 3, 'type': 'artist', 'name': 'Lil Nardy', 'href': 'https://api.spotify.com/v1/artists/5cMdEsNuGJNpKIPkwZZtcx', 'external_urls': {'spotify': 'https://open.spotify.com/artist/5cMdEsNuGJNpKIPkwZZtcx'}, 'followers': {'total': 30, 'href': None}, 'images': [{'height': 640, 'width': 640, 'url': 'https://i.scdn.co/image/2992df10421065215585fccfd700fea7d5df5e58'}, {'height': 300, 'width': 300, 'url': 'https://i.scdn.co/image/99d78f0a204529ba1fba86ae17bdd84338a875d1'}, {'height': 64, 'width': 64, 'url': 'https://i.scdn.co/image/46421c8fe53cc83bdcc881a80cbd50930c823578'}], 'uri': 'spotify:artist:5cMdEsNuGJNpKIPkwZZtcx'}, {'id': '135iQfqImdgPiaOZyGuOu0', 'genres': [], 'popularity': 0, 'type': 'artist', 'name': 'Lil Tahj', 'href': 'https://api.spotify.com/v1/artists/135iQfqImdgPiaOZyGuOu0', 'external_urls': {'spotify': 'https://open.spotify.com/artist/135iQfqImdgPiaOZyGuOu0'}, 'followers': {'total': 0, 'href': None}, 'images': [{'height': 640, 'width': 640, 'url': 'https://i.scdn.co/image/815c7b8f4c2cccb415080e97420e5968eb73efe4'}, {'height': 300, 'width': 300, 'url': 'https://i.scdn.co/image/42b8846a5973c2e4d21df76107137befe6c24b9f'}, {'height': 64, 'width': 64, 'url': 'https://i.scdn.co/image/06a789c74e54202cf5686e2fd36f114b966e0277'}], 'uri': 'spotify:artist:135iQfqImdgPiaOZyGuOu0'}, {'id': '7zSzTMKvzdyqGvG2t8TjNH', 'genres': [], 'popularity': 0, 'type': 'artist', 'name': 'Lil Chan', 'href': 'https://api.spotify.com/v1/artists/7zSzTMKvzdyqGvG2t8TjNH', 'external_urls': {'spotify': 'https://open.spotify.com/artist/7zSzTMKvzdyqGvG2t8TjNH'}, 'followers': {'total': 0, 'href': None}, 'images': [], 'uri': 'spotify:artist:7zSzTMKvzdyqGvG2t8TjNH'}, {'id': '6FXueg4skBqUzEti7oayBm', 'genres': [], 'popularity': 0, 'type': 'artist', 'name': 'Lil Cone', 'href': 'https://api.spotify.com/v1/artists/6FXueg4skBqUzEti7oayBm', 'external_urls': {'spotify': 'https://open.spotify.com/artist/6FXueg4skBqUzEti7oayBm'}, 'followers': {'total': 0, 'href': None}, 'images': [], 'uri': 'spotify:artist:6FXueg4skBqUzEti7oayBm'}, {'id': '1336jOf1wgqwX7OhtRIQ2e', 'genres': [], 'popularity': 0, 'type': 'artist', 'name': 'Lil Dramma', 'href': 'https://api.spotify.com/v1/artists/1336jOf1wgqwX7OhtRIQ2e', 'external_urls': {'spotify': 'https://open.spotify.com/artist/1336jOf1wgqwX7OhtRIQ2e'}, 'followers': {'total': 0, 'href': None}, 'images': [], 'uri': 'spotify:artist:1336jOf1wgqwX7OhtRIQ2e'}, {'id': '1CAB2vZ8oghZz1a49fW633', 'genres': [], 'popularity': 0, 'type': 'artist', 'name': 'Lil Scott', 'href': 'https://api.spotify.com/v1/artists/1CAB2vZ8oghZz1a49fW633', 'external_urls': {'spotify': 'https://open.spotify.com/artist/1CAB2vZ8oghZz1a49fW633'}, 'followers': {'total': 0, 'href': None}, 'images': [{'height': 640, 'width': 640, 'url': 'https://i.scdn.co/image/6882d628412157c2ce70cfac22b7a4105ef590bd'}, {'height': 300, 'width': 300, 'url': 'https://i.scdn.co/image/b57cd677ff5fe5b66856031f943a3bbe0e5843b5'}, {'height': 64, 'width': 64, 'url': 'https://i.scdn.co/image/8a2de299660c7bfedd465743591a194ea0b692c7'}], 'uri': 'spotify:artist:1CAB2vZ8oghZz1a49fW633'}, {'id': '4qMzbuLu4eg8nLffEd7jpt', 'genres': [], 'popularity': 0, 'type': 'artist', 'name': 'Lil Ree', 'href': 'https://api.spotify.com/v1/artists/4qMzbuLu4eg8nLffEd7jpt', 'external_urls': {'spotify': 'https://open.spotify.com/artist/4qMzbuLu4eg8nLffEd7jpt'}, 'followers': {'total': 0, 'href': None}, 'images': [], 'uri': 'spotify:artist:4qMzbuLu4eg8nLffEd7jpt'}]\n"
     ]
    }
   ],
   "source": [
    "print(unpopular_artists)"
   ]
  },
  {
   "cell_type": "code",
   "execution_count": 35,
   "metadata": {
    "collapsed": false
   },
   "outputs": [
    {
     "name": "stdout",
     "output_type": "stream",
     "text": [
      "about to loop through the artists\n",
      "Inside display_artist_image, looking art an artist\n",
      "{'id': '4d5e17qy0VPTjsdfICnkO4', 'genres': [], 'popularity': 1, 'type': 'artist', 'name': 'Lil Chuuuch', 'href': 'https://api.spotify.com/v1/artists/4d5e17qy0VPTjsdfICnkO4', 'external_urls': {'spotify': 'https://open.spotify.com/artist/4d5e17qy0VPTjsdfICnkO4'}, 'followers': {'total': 36, 'href': None}, 'images': [{'height': 640, 'width': 640, 'url': 'https://i.scdn.co/image/2f460a72975d1f0701c56482aad3f820ac5635c6'}, {'height': 300, 'width': 300, 'url': 'https://i.scdn.co/image/6cabe0ef1ac8fe662b366871f908e4714ad9406a'}, {'height': 64, 'width': 64, 'url': 'https://i.scdn.co/image/984c525d4772cc4ca88bf4bfed215be361c6bda3'}], 'uri': 'spotify:artist:4d5e17qy0VPTjsdfICnkO4'}\n"
     ]
    },
    {
     "ename": "KeyError",
     "evalue": "'image'",
     "output_type": "error",
     "traceback": [
      "\u001b[0;31m---------------------------------------------------------------------------\u001b[0m",
      "\u001b[0;31mKeyError\u001b[0m                                  Traceback (most recent call last)",
      "\u001b[0;32m<ipython-input-35-ad2d43109509>\u001b[0m in \u001b[0;36m<module>\u001b[0;34m()\u001b[0m\n\u001b[1;32m      5\u001b[0m         \u001b[0mprint\u001b[0m\u001b[0;34m(\u001b[0m\u001b[0;34m\"looking at an artist\"\u001b[0m\u001b[0;34m)\u001b[0m\u001b[0;34m\u001b[0m\u001b[0m\n\u001b[1;32m      6\u001b[0m         \u001b[0mprint\u001b[0m\u001b[0;34m(\u001b[0m\u001b[0martist\u001b[0m\u001b[0;34m[\u001b[0m\u001b[0;34m'name'\u001b[0m\u001b[0;34m]\u001b[0m\u001b[0;34m)\u001b[0m\u001b[0;34m\u001b[0m\u001b[0m\n\u001b[0;32m----> 7\u001b[0;31m     \u001b[0mdisplay_artist_image\u001b[0m\u001b[0;34m(\u001b[0m\u001b[0martist\u001b[0m\u001b[0;34m)\u001b[0m\u001b[0;34m\u001b[0m\u001b[0m\n\u001b[0m\u001b[1;32m      8\u001b[0m    \u001b[0;31m# print(\"successfully displayed an image\")\u001b[0m\u001b[0;34m\u001b[0m\u001b[0;34m\u001b[0m\u001b[0m\n\u001b[1;32m      9\u001b[0m \u001b[0mprint\u001b[0m\u001b[0;34m(\u001b[0m\u001b[0;34m\"finished looping through the artists\"\u001b[0m\u001b[0;34m)\u001b[0m\u001b[0;34m\u001b[0m\u001b[0m\n",
      "\u001b[0;32m<ipython-input-28-8e1a30764728>\u001b[0m in \u001b[0;36mdisplay_artist_image\u001b[0;34m(artist)\u001b[0m\n\u001b[1;32m      2\u001b[0m     \u001b[0mprint\u001b[0m\u001b[0;34m(\u001b[0m\u001b[0;34m\"Inside display_artist_image, looking art an artist\"\u001b[0m\u001b[0;34m)\u001b[0m\u001b[0;34m\u001b[0m\u001b[0m\n\u001b[1;32m      3\u001b[0m     \u001b[0mprint\u001b[0m\u001b[0;34m(\u001b[0m\u001b[0martist\u001b[0m\u001b[0;34m)\u001b[0m\u001b[0;34m\u001b[0m\u001b[0m\n\u001b[0;32m----> 4\u001b[0;31m     \u001b[0mprint\u001b[0m\u001b[0;34m(\u001b[0m\u001b[0;34m\"images\"\u001b[0m \u001b[0;34m+\u001b[0m \u001b[0martist\u001b[0m\u001b[0;34m[\u001b[0m\u001b[0;34m'image'\u001b[0m\u001b[0;34m]\u001b[0m\u001b[0;34m[\u001b[0m\u001b[0;36m0\u001b[0m\u001b[0;34m]\u001b[0m\u001b[0;34m[\u001b[0m\u001b[0;34m'url'\u001b[0m\u001b[0;34m]\u001b[0m\u001b[0;34m)\u001b[0m\u001b[0;34m\u001b[0m\u001b[0m\n\u001b[0m\u001b[1;32m      5\u001b[0m     \u001b[0mdisplay_image\u001b[0m\u001b[0;34m(\u001b[0m\u001b[0martist\u001b[0m\u001b[0;34m[\u001b[0m\u001b[0;34m'images'\u001b[0m\u001b[0;34m]\u001b[0m\u001b[0;34m[\u001b[0m\u001b[0;36m0\u001b[0m\u001b[0;34m]\u001b[0m\u001b[0;34m[\u001b[0m\u001b[0;34m'url'\u001b[0m\u001b[0;34m]\u001b[0m\u001b[0;34m)\u001b[0m\u001b[0;34m\u001b[0m\u001b[0m\n",
      "\u001b[0;31mKeyError\u001b[0m: 'image'"
     ]
    }
   ],
   "source": [
    "print(\"about to loop through the artists\")\n",
    "for artist in unpopular_artists:\n",
    "    debug_mode = False\n",
    "    if debug_mode:\n",
    "        print(\"looking at an artist\")\n",
    "        print(artist['name'])\n",
    "    display_artist_image(artist)\n",
    "   # print(\"successfully displayed an image\")\n",
    "print(\"finished looping through the artists\")"
   ]
  },
  {
   "cell_type": "code",
   "execution_count": 30,
   "metadata": {
    "collapsed": true
   },
   "outputs": [],
   "source": [
    "def print_debug(*things_to_print):\n",
    "    debug_mode = False\n",
    "    if debug_mode:\n",
    "        print(*things_to_print)"
   ]
  },
  {
   "cell_type": "code",
   "execution_count": null,
   "metadata": {
    "collapsed": true
   },
   "outputs": [],
   "source": []
  }
 ],
 "metadata": {
  "kernelspec": {
   "display_name": "Python 3",
   "language": "python",
   "name": "python3"
  },
  "language_info": {
   "codemirror_mode": {
    "name": "ipython",
    "version": 3
   },
   "file_extension": ".py",
   "mimetype": "text/x-python",
   "name": "python",
   "nbconvert_exporter": "python",
   "pygments_lexer": "ipython3",
   "version": "3.5.1"
  }
 },
 "nbformat": 4,
 "nbformat_minor": 0
}
