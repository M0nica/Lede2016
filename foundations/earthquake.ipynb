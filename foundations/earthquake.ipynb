{
 "cells": [
  {
   "cell_type": "code",
   "execution_count": 6,
   "metadata": {
    "collapsed": false
   },
   "outputs": [
    {
     "data": {
      "text/plain": [
       "172"
      ]
     },
     "execution_count": 6,
     "metadata": {},
     "output_type": "execute_result"
    }
   ],
   "source": [
    "import requests\n",
    "\n",
    "response = requests.get('http://earthquake.usgs.gov/earthquakes/feed/v1.0/summary/all_day.geojson')\n",
    "geo_data = response.json()\n",
    "# print(geo_data['features'])\n",
    "# len(geo_data['features'])"
   ]
  },
  {
   "cell_type": "code",
   "execution_count": 7,
   "metadata": {
    "collapsed": false
   },
   "outputs": [
    {
     "data": {
      "text/plain": [
       "'6km NW of The Geysers, California'"
      ]
     },
     "execution_count": 7,
     "metadata": {},
     "output_type": "execute_result"
    }
   ],
   "source": [
    "geo_data['features'][0]['properties']['place']"
   ]
  },
  {
   "cell_type": "code",
   "execution_count": 14,
   "metadata": {
    "collapsed": false
   },
   "outputs": [
    {
     "name": "stdout",
     "output_type": "stream",
     "text": [
      "6km NW of The Geysers, California\n",
      "32km SW of Cantwell, Alaska\n",
      "10km SSW of Alamo, Nevada\n",
      "6km W of Cobb, California\n",
      "27km SSE of Medford, Oklahoma\n",
      "16km ESE of Anza, CA\n",
      "11km NE of Cabazon, CA\n",
      "6km WNW of The Geysers, California\n",
      "117km W of Cantwell, Alaska\n",
      "78km NE of Cape Yakataga, Alaska\n",
      "3km WSW of Cobb, California\n",
      "8km SSW of Ridgemark, California\n",
      "8km SSW of Ridgemark, California\n",
      "69km N of Charlotte Amalie, U.S. Virgin Islands\n",
      "63km ENE of Cape Yakataga, Alaska\n",
      "51km ENE of Mammoth Lakes, California\n",
      "3km SSE of The Geysers, California\n",
      "6km NW of The Geysers, California\n",
      "15km ESE of Cohoe, Alaska\n",
      "25km E of Little Lake, CA\n",
      "Southern Mid-Atlantic Ridge\n",
      "14km N of Ocotillo, CA\n",
      "9km WNW of The Geysers, California\n",
      "17km ESE of Anza, CA\n",
      "20km ESE of Anza, CA\n",
      "13km ENE of Willow, Alaska\n",
      "24km NNE of Cape Yakataga, Alaska\n",
      "25km SSW of Coalinga, California\n",
      "50km SSE of Korsakov, Russia\n",
      "16km W of Ocotillo, CA\n",
      "9km NNW of Anza, CA\n",
      "Mid-Indian Ridge\n",
      "21km SSE of Waimea, Hawaii\n",
      "9km WNW of Cobb, California\n",
      "38km S of Puerto San Jose, Guatemala\n",
      "8km SW of Alamo, Nevada\n",
      "11km W of Pablo, Montana\n",
      "56km SW of Tok, Alaska\n",
      "13km SSW of Talkeetna, Alaska\n",
      "9km WNW of Cobb, California\n",
      "78km SW of Puerto El Triunfo, El Salvador\n",
      "26km N of Cape Yakataga, Alaska\n",
      "33km SSE of Redoubt Volcano, Alaska\n",
      "8km WNW of Broadmoor, California\n",
      "142km SE of McGrath, Alaska\n",
      "23km SW of Coalinga, California\n",
      "10km NNE of Borrego Springs, CA\n",
      "45km E of Cape Yakataga, Alaska\n",
      "3km NNE of Murrieta Hot Springs, CA\n",
      "Central East Pacific Rise\n",
      "8km ENE of Anza, CA\n",
      "64km ENE of Cantwell, Alaska\n",
      "6km NW of The Geysers, California\n",
      "78km NW of Yakutat, Alaska\n",
      "5km WNW of Cobb, California\n",
      "44km ENE of Cape Yakataga, Alaska\n",
      "22km ESE of Hawthorne, Nevada\n",
      "66km NNE of Sutton-Alpine, Alaska\n",
      "80km NW of Yakutat, Alaska\n",
      "68km NNW of Road Town, British Virgin Islands\n",
      "19km NNW of North Nenana, Alaska\n",
      "44km W of Big Lake, Alaska\n",
      "62km N of Charlotte Amalie, U.S. Virgin Islands\n",
      "4km NE of Colwood, Canada\n",
      "80km NW of Yakutat, Alaska\n",
      "35km E of Sutton-Alpine, Alaska\n",
      "81km NW of Yakutat, Alaska\n",
      "29km W of Ferndale, California\n",
      "4km S of Idyllwild, CA\n",
      "32km NW of Redoubt Volcano, Alaska\n",
      "14km WNW of Anza, CA\n",
      "14km WNW of Anza, CA\n",
      "77km NW of Yakutat, Alaska\n",
      "1km WNW of Bonney Lake, Washington\n",
      "20km NNW of North Nenana, Alaska\n",
      "23km N of North Nenana, Alaska\n",
      "13km SE of Mammoth Lakes, California\n",
      "65km WSW of Cape Yakataga, Alaska\n",
      "125km SSE of Old Iliamna, Alaska\n",
      "24km WNW of Puerto Real, Puerto Rico\n",
      "8km N of Anza, CA\n",
      "2km NNE of The Geysers, California\n",
      "6km NW of West Bishop, California\n",
      "11km NW of Rancho Cucamonga, CA\n",
      "6km WSW of Huntington Beach, CA\n",
      "58km E of Cape Yakataga, Alaska\n",
      "39km SE of Hawthorne, Nevada\n",
      "36km N of Tierras Nuevas Poniente, Puerto Rico\n",
      "6km WNW of Cobb, California\n",
      "12km ENE of Cloverdale, California\n",
      "1km ENE of Captain Cook, Hawaii\n",
      "175km SSE of Naze, Japan\n",
      "147km SSE of Naze, Japan\n",
      "7km WNW of Cobb, California\n",
      "5km S of Volcano, Hawaii\n",
      "5km S of Volcano, Hawaii\n",
      "44km SSW of Ashkasham, Afghanistan\n",
      "22km W of Pole Ojea, Puerto Rico\n",
      "74km W of Cantwell, Alaska\n",
      "8km S of Gabbs, Nevada\n",
      "57km N of Valdez, Alaska\n",
      "28km ESE of Redoubt Volcano, Alaska\n",
      "94km ESE of Old Iliamna, Alaska\n",
      "87km S of Nishinoomote, Japan\n",
      "9km SSW of Idyllwild, CA\n",
      "14km WNW of Anza, CA\n",
      "19km ENE of Polson, Montana\n",
      "22km NW of West Yellowstone, Montana\n",
      "22km ESE of Anza, CA\n",
      "12km NNE of Borrego Springs, CA\n",
      "6km N of Cloverdale, California\n",
      "62km E of Sutton-Alpine, Alaska\n",
      "4km S of Encino, CA\n",
      "102km N of San Juan, Puerto Rico\n",
      "6km S of Salcha, Alaska\n",
      "47km S of Redoubt Volcano, Alaska\n",
      "17km SE of Medford, Oklahoma\n",
      "18km ESE of Anza, CA\n",
      "15km SE of Volcano, Hawaii\n",
      "2km ENE of Choctaw, Oklahoma\n",
      "2km ESE of El Centro, CA\n",
      "3km SE of El Centro, CA\n",
      "13km ESE of Anza, CA\n",
      "162km S of Cape Yakataga, Alaska\n",
      "20km NNE of Badger, Alaska\n",
      "0km N of Quarry near Portola Valley, CA\n",
      "28km E of Hawthorne, Nevada\n",
      "42km WNW of Nikiski, Alaska\n",
      "1km SW of Bonney Lake, Washington\n",
      "0km NW of Entiat, Washington\n",
      "4km SSE of Big Bear City, CA\n",
      "14km N of Ocotillo Wells, CA\n",
      "5km SE of Kelso, Washington\n",
      "8km NW of Broadmoor, California\n",
      "30km NNE of Charlotte Amalie, U.S. Virgin Islands\n",
      "118km W of Cantwell, Alaska\n",
      "9km ESE of Mammoth Lakes, California\n",
      "6km S of Princeton, Canada\n",
      "18km ENE of Talkeetna, Alaska\n",
      "61km NW of Nikiski, Alaska\n",
      "2km E of The Geysers, California\n",
      "2km E of The Geysers, California\n",
      "37km NNE of Amboy, Washington\n",
      "9km NNW of Anza, CA\n",
      "4km WNW of The Geysers, California\n",
      "6km W of Cobb, California\n",
      "13km ESE of Anza, CA\n",
      "32km E of Shady Cove, Oregon\n",
      "126km WNW of Kota Ternate, Indonesia\n",
      "25km ENE of Honaunau-Napoopoo, Hawaii\n",
      "5km S of Volcano, Hawaii\n",
      "22km S of Neah Bay, Washington\n",
      "29km N of Nikiski, Alaska\n",
      "77km NE of Diego de Almagro, Chile\n",
      "3km NNW of The Geysers, California\n",
      "17km E of Santa Margarita, California\n",
      "33km NW of Fairview, Oklahoma\n",
      "8km NW of The Geysers, California\n",
      "12km NNW of Caliente, Nevada\n",
      "14km SE of El Valle, Dominican Republic\n",
      "22km ESE of Anza, CA\n",
      "84km WNW of Talkeetna, Alaska\n",
      "20km ESE of Anza, CA\n",
      "26km ENE of Soledad, California\n",
      "252km NE of Kuril'sk, Russia\n",
      "8km W of Townsend, Montana\n",
      "18km ESE of Anza, CA\n",
      "10km W of Volcano, Hawaii\n",
      "5km NE of Edmond, Oklahoma\n",
      "2km SSE of Aguanga, CA\n",
      "3km W of Cobb, California\n",
      "85km W of Willow, Alaska\n",
      "['6km NW of The Geysers, California', '32km SW of Cantwell, Alaska', '10km SSW of Alamo, Nevada', '6km W of Cobb, California', '27km SSE of Medford, Oklahoma', '16km ESE of Anza, CA', '11km NE of Cabazon, CA', '6km WNW of The Geysers, California', '117km W of Cantwell, Alaska', '78km NE of Cape Yakataga, Alaska', '3km WSW of Cobb, California', '8km SSW of Ridgemark, California', '8km SSW of Ridgemark, California', '69km N of Charlotte Amalie, U.S. Virgin Islands', '63km ENE of Cape Yakataga, Alaska', '51km ENE of Mammoth Lakes, California', '3km SSE of The Geysers, California', '6km NW of The Geysers, California', '15km ESE of Cohoe, Alaska', '25km E of Little Lake, CA', 'Southern Mid-Atlantic Ridge', '14km N of Ocotillo, CA', '9km WNW of The Geysers, California', '17km ESE of Anza, CA', '20km ESE of Anza, CA', '13km ENE of Willow, Alaska', '24km NNE of Cape Yakataga, Alaska', '25km SSW of Coalinga, California', '50km SSE of Korsakov, Russia', '16km W of Ocotillo, CA', '9km NNW of Anza, CA', 'Mid-Indian Ridge', '21km SSE of Waimea, Hawaii', '9km WNW of Cobb, California', '38km S of Puerto San Jose, Guatemala', '8km SW of Alamo, Nevada', '11km W of Pablo, Montana', '56km SW of Tok, Alaska', '13km SSW of Talkeetna, Alaska', '9km WNW of Cobb, California', '78km SW of Puerto El Triunfo, El Salvador', '26km N of Cape Yakataga, Alaska', '33km SSE of Redoubt Volcano, Alaska', '8km WNW of Broadmoor, California', '142km SE of McGrath, Alaska', '23km SW of Coalinga, California', '10km NNE of Borrego Springs, CA', '45km E of Cape Yakataga, Alaska', '3km NNE of Murrieta Hot Springs, CA', 'Central East Pacific Rise', '8km ENE of Anza, CA', '64km ENE of Cantwell, Alaska', '6km NW of The Geysers, California', '78km NW of Yakutat, Alaska', '5km WNW of Cobb, California', '44km ENE of Cape Yakataga, Alaska', '22km ESE of Hawthorne, Nevada', '66km NNE of Sutton-Alpine, Alaska', '80km NW of Yakutat, Alaska', '68km NNW of Road Town, British Virgin Islands', '19km NNW of North Nenana, Alaska', '44km W of Big Lake, Alaska', '62km N of Charlotte Amalie, U.S. Virgin Islands', '4km NE of Colwood, Canada', '80km NW of Yakutat, Alaska', '35km E of Sutton-Alpine, Alaska', '81km NW of Yakutat, Alaska', '29km W of Ferndale, California', '4km S of Idyllwild, CA', '32km NW of Redoubt Volcano, Alaska', '14km WNW of Anza, CA', '14km WNW of Anza, CA', '77km NW of Yakutat, Alaska', '1km WNW of Bonney Lake, Washington', '20km NNW of North Nenana, Alaska', '23km N of North Nenana, Alaska', '13km SE of Mammoth Lakes, California', '65km WSW of Cape Yakataga, Alaska', '125km SSE of Old Iliamna, Alaska', '24km WNW of Puerto Real, Puerto Rico', '8km N of Anza, CA', '2km NNE of The Geysers, California', '6km NW of West Bishop, California', '11km NW of Rancho Cucamonga, CA', '6km WSW of Huntington Beach, CA', '58km E of Cape Yakataga, Alaska', '39km SE of Hawthorne, Nevada', '36km N of Tierras Nuevas Poniente, Puerto Rico', '6km WNW of Cobb, California', '12km ENE of Cloverdale, California', '1km ENE of Captain Cook, Hawaii', '175km SSE of Naze, Japan', '147km SSE of Naze, Japan', '7km WNW of Cobb, California', '5km S of Volcano, Hawaii', '5km S of Volcano, Hawaii', '44km SSW of Ashkasham, Afghanistan', '22km W of Pole Ojea, Puerto Rico', '74km W of Cantwell, Alaska', '8km S of Gabbs, Nevada', '57km N of Valdez, Alaska', '28km ESE of Redoubt Volcano, Alaska', '94km ESE of Old Iliamna, Alaska', '87km S of Nishinoomote, Japan', '9km SSW of Idyllwild, CA', '14km WNW of Anza, CA', '19km ENE of Polson, Montana', '22km NW of West Yellowstone, Montana', '22km ESE of Anza, CA', '12km NNE of Borrego Springs, CA', '6km N of Cloverdale, California', '62km E of Sutton-Alpine, Alaska', '4km S of Encino, CA', '102km N of San Juan, Puerto Rico', '6km S of Salcha, Alaska', '47km S of Redoubt Volcano, Alaska', '17km SE of Medford, Oklahoma', '18km ESE of Anza, CA', '15km SE of Volcano, Hawaii', '2km ENE of Choctaw, Oklahoma', '2km ESE of El Centro, CA', '3km SE of El Centro, CA', '13km ESE of Anza, CA', '162km S of Cape Yakataga, Alaska', '20km NNE of Badger, Alaska', '0km N of Quarry near Portola Valley, CA', '28km E of Hawthorne, Nevada', '42km WNW of Nikiski, Alaska', '1km SW of Bonney Lake, Washington', '0km NW of Entiat, Washington', '4km SSE of Big Bear City, CA', '14km N of Ocotillo Wells, CA', '5km SE of Kelso, Washington', '8km NW of Broadmoor, California', '30km NNE of Charlotte Amalie, U.S. Virgin Islands', '118km W of Cantwell, Alaska', '9km ESE of Mammoth Lakes, California', '6km S of Princeton, Canada', '18km ENE of Talkeetna, Alaska', '61km NW of Nikiski, Alaska', '2km E of The Geysers, California', '2km E of The Geysers, California', '37km NNE of Amboy, Washington', '9km NNW of Anza, CA', '4km WNW of The Geysers, California', '6km W of Cobb, California', '13km ESE of Anza, CA', '32km E of Shady Cove, Oregon', '126km WNW of Kota Ternate, Indonesia', '25km ENE of Honaunau-Napoopoo, Hawaii', '5km S of Volcano, Hawaii', '22km S of Neah Bay, Washington', '29km N of Nikiski, Alaska', '77km NE of Diego de Almagro, Chile', '3km NNW of The Geysers, California', '17km E of Santa Margarita, California', '33km NW of Fairview, Oklahoma', '8km NW of The Geysers, California', '12km NNW of Caliente, Nevada', '14km SE of El Valle, Dominican Republic', '22km ESE of Anza, CA', '84km WNW of Talkeetna, Alaska', '20km ESE of Anza, CA', '26km ENE of Soledad, California', \"252km NE of Kuril'sk, Russia\", '8km W of Townsend, Montana', '18km ESE of Anza, CA', '10km W of Volcano, Hawaii', '5km NE of Edmond, Oklahoma', '2km SSE of Aguanga, CA', '3km W of Cobb, California', '85km W of Willow, Alaska']\n"
     ]
    }
   ],
   "source": [
    "states = []\n",
    "for earthquake in geo_data['features']:\n",
    "    print(earthquake['properties']['place'])\n",
    "    place = earthquake['properties']['place']\n",
    "    states.append(place)\n",
    "    \n",
    "print(states)"
   ]
  },
  {
   "cell_type": "code",
   "execution_count": 38,
   "metadata": {
    "collapsed": false
   },
   "outputs": [
    {
     "name": "stdout",
     "output_type": "stream",
     "text": [
      "[(' Alaska', 46), (' California', 36), (' CA', 35)]\n"
     ]
    }
   ],
   "source": [
    "states = []\n",
    "for earthquake in geo_data['features']:\n",
    "    # print(earthquake['properties']['place'])\n",
    "    place = earthquake['properties']['place']\n",
    "    #states.append(place)\n",
    "    results = place.split(',')\n",
    "    if len(results) > 1:\n",
    "\n",
    "        if state_name == 'CA':\n",
    "            states.append('California')\n",
    "        else: \n",
    "            print\n",
    "            state_name = results[1]\n",
    "            states.append(state_name)\n",
    "        # print(state_name)\n",
    "from collections import Counter\n",
    "counts = Counter(states)\n",
    "print(counts.most_common(3))\n",
    "    #print(results)\n",
    "    \n",
    "# print(states)"
   ]
  },
  {
   "cell_type": "code",
   "execution_count": null,
   "metadata": {
    "collapsed": true
   },
   "outputs": [],
   "source": []
  },
  {
   "cell_type": "code",
   "execution_count": null,
   "metadata": {
    "collapsed": true
   },
   "outputs": [],
   "source": []
  }
 ],
 "metadata": {
  "kernelspec": {
   "display_name": "Python 3",
   "language": "python",
   "name": "python3"
  },
  "language_info": {
   "codemirror_mode": {
    "name": "ipython",
    "version": 3
   },
   "file_extension": ".py",
   "mimetype": "text/x-python",
   "name": "python",
   "nbconvert_exporter": "python",
   "pygments_lexer": "ipython3",
   "version": "3.5.1"
  }
 },
 "nbformat": 4,
 "nbformat_minor": 0
}
