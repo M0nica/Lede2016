{
 "cells": [
  {
   "cell_type": "code",
   "execution_count": 103,
   "metadata": {
    "collapsed": false
   },
   "outputs": [],
   "source": [
    "import random\n",
    "import pandas as pd \n",
    "import numpy as np\n",
    "import matplotlib.pyplot as plt\n",
    "%matplotlib inline\n",
    "plt.style.use('ggplot')\n",
    "import dateutil.parser\n",
    "import math"
   ]
  },
  {
   "cell_type": "code",
   "execution_count": 104,
   "metadata": {
    "collapsed": false
   },
   "outputs": [
    {
     "name": "stdout",
     "output_type": "stream",
     "text": [
      "1\n",
      "6\n",
      "1\n",
      "4\n",
      "2\n",
      "2\n"
     ]
    }
   ],
   "source": [
    "print(random.randint(1,6))\n",
    "print(random.randint(1,6))\n",
    "print(random.randint(1,6))\n",
    "print(random.randint(1,6))\n",
    "print(random.randint(1,6))\n",
    "print(random.randint(1,6))"
   ]
  },
  {
   "cell_type": "code",
   "execution_count": 105,
   "metadata": {
    "collapsed": false
   },
   "outputs": [
    {
     "name": "stdout",
     "output_type": "stream",
     "text": [
      "6\n",
      "7\n",
      "6\n",
      "10\n",
      "10\n",
      "6\n"
     ]
    }
   ],
   "source": [
    "print(random.randint(1,6) + random.randint(1,6) )\n",
    "print(random.randint(1,6) + random.randint(1,6) )\n",
    "print(random.randint(1,6) + random.randint(1,6) )\n",
    "print(random.randint(1,6) + random.randint(1,6) )\n",
    "print(random.randint(1,6) + random.randint(1,6) )\n",
    "print(random.randint(1,6) + random.randint(1,6) )"
   ]
  },
  {
   "cell_type": "code",
   "execution_count": 106,
   "metadata": {
    "collapsed": false
   },
   "outputs": [
    {
     "data": {
      "text/plain": [
       "[5, 1, 4, 5, 4, 4, 5, 1, 4, 2]"
      ]
     },
     "execution_count": 106,
     "metadata": {},
     "output_type": "execute_result"
    }
   ],
   "source": [
    "numbers = []\n",
    "for i in range(10):\n",
    "    numbers.append(random.randint(1,6))\n",
    "numbers"
   ]
  },
  {
   "cell_type": "markdown",
   "metadata": {},
   "source": [
    "# Central tendency\n",
    "It's the number your data points cluster around "
   ]
  },
  {
   "cell_type": "code",
   "execution_count": 107,
   "metadata": {
    "collapsed": false
   },
   "outputs": [
    {
     "data": {
      "text/plain": [
       "3.5714285714285716"
      ]
     },
     "execution_count": 107,
     "metadata": {},
     "output_type": "execute_result"
    }
   ],
   "source": [
    "# average\n",
    "(2 + 2 + 5 + 4 + 4 + 5 + 3)/7"
   ]
  },
  {
   "cell_type": "code",
   "execution_count": 108,
   "metadata": {
    "collapsed": false
   },
   "outputs": [
    {
     "data": {
      "text/html": [
       "<div>\n",
       "<table border=\"1\" class=\"dataframe\">\n",
       "  <thead>\n",
       "    <tr style=\"text-align: right;\">\n",
       "      <th></th>\n",
       "      <th>restaurant</th>\n",
       "      <th>reviewer</th>\n",
       "      <th>yelp_stars</th>\n",
       "    </tr>\n",
       "  </thead>\n",
       "  <tbody>\n",
       "    <tr>\n",
       "      <th>0</th>\n",
       "      <td>Burger King</td>\n",
       "      <td>Jeff</td>\n",
       "      <td>2</td>\n",
       "    </tr>\n",
       "    <tr>\n",
       "      <th>1</th>\n",
       "      <td>Burger King</td>\n",
       "      <td>Jen</td>\n",
       "      <td>2</td>\n",
       "    </tr>\n",
       "    <tr>\n",
       "      <th>2</th>\n",
       "      <td>Burger King</td>\n",
       "      <td>James</td>\n",
       "      <td>5</td>\n",
       "    </tr>\n",
       "    <tr>\n",
       "      <th>3</th>\n",
       "      <td>Burger King</td>\n",
       "      <td>John</td>\n",
       "      <td>4</td>\n",
       "    </tr>\n",
       "    <tr>\n",
       "      <th>4</th>\n",
       "      <td>Burger King</td>\n",
       "      <td>Josephine</td>\n",
       "      <td>4</td>\n",
       "    </tr>\n",
       "    <tr>\n",
       "      <th>5</th>\n",
       "      <td>Burger King</td>\n",
       "      <td>Jacques</td>\n",
       "      <td>3</td>\n",
       "    </tr>\n",
       "    <tr>\n",
       "      <th>6</th>\n",
       "      <td>Burger King</td>\n",
       "      <td>Jill</td>\n",
       "      <td>2</td>\n",
       "    </tr>\n",
       "  </tbody>\n",
       "</table>\n",
       "</div>"
      ],
      "text/plain": [
       "    restaurant   reviewer  yelp_stars\n",
       "0  Burger King       Jeff           2\n",
       "1  Burger King        Jen           2\n",
       "2  Burger King      James           5\n",
       "3  Burger King       John           4\n",
       "4  Burger King  Josephine           4\n",
       "5  Burger King    Jacques           3\n",
       "6  Burger King       Jill           2"
      ]
     },
     "execution_count": 108,
     "metadata": {},
     "output_type": "execute_result"
    }
   ],
   "source": [
    "# Let's build a data set\n",
    "reviews_df = pd.DataFrame([\n",
    " { 'restaurant': 'Burger King', 'reviewer': 'Jeff', 'yelp_stars': 2 } ,\n",
    " { 'restaurant': 'Burger King', 'reviewer': 'Jen', 'yelp_stars': 2 },\n",
    " { 'restaurant': 'Burger King', 'reviewer': 'James', 'yelp_stars': 5 },\n",
    " { 'restaurant': 'Burger King', 'reviewer': 'John', 'yelp_stars': 4 },\n",
    " { 'restaurant': 'Burger King', 'reviewer': 'Josephine', 'yelp_stars': 4 },\n",
    " { 'restaurant': 'Burger King', 'reviewer': 'Jacques', 'yelp_stars': 3 },\n",
    " { 'restaurant': 'Burger King', 'reviewer': 'Jill', 'yelp_stars': 2 }    \n",
    "])\n",
    "reviews_df"
   ]
  },
  {
   "cell_type": "code",
   "execution_count": 109,
   "metadata": {
    "collapsed": false
   },
   "outputs": [
    {
     "data": {
      "text/html": [
       "<div>\n",
       "<table border=\"1\" class=\"dataframe\">\n",
       "  <thead>\n",
       "    <tr style=\"text-align: right;\">\n",
       "      <th></th>\n",
       "      <th>restaurant</th>\n",
       "      <th>reviewer</th>\n",
       "      <th>yelp_stars</th>\n",
       "    </tr>\n",
       "  </thead>\n",
       "  <tbody>\n",
       "    <tr>\n",
       "      <th>0</th>\n",
       "      <td>Burger King</td>\n",
       "      <td>Jeff</td>\n",
       "      <td>2</td>\n",
       "    </tr>\n",
       "    <tr>\n",
       "      <th>1</th>\n",
       "      <td>Burger King</td>\n",
       "      <td>Jen</td>\n",
       "      <td>2</td>\n",
       "    </tr>\n",
       "    <tr>\n",
       "      <th>6</th>\n",
       "      <td>Burger King</td>\n",
       "      <td>Jill</td>\n",
       "      <td>2</td>\n",
       "    </tr>\n",
       "    <tr>\n",
       "      <th>5</th>\n",
       "      <td>Burger King</td>\n",
       "      <td>Jacques</td>\n",
       "      <td>3</td>\n",
       "    </tr>\n",
       "    <tr>\n",
       "      <th>3</th>\n",
       "      <td>Burger King</td>\n",
       "      <td>John</td>\n",
       "      <td>4</td>\n",
       "    </tr>\n",
       "    <tr>\n",
       "      <th>4</th>\n",
       "      <td>Burger King</td>\n",
       "      <td>Josephine</td>\n",
       "      <td>4</td>\n",
       "    </tr>\n",
       "    <tr>\n",
       "      <th>2</th>\n",
       "      <td>Burger King</td>\n",
       "      <td>James</td>\n",
       "      <td>5</td>\n",
       "    </tr>\n",
       "  </tbody>\n",
       "</table>\n",
       "</div>"
      ],
      "text/plain": [
       "    restaurant   reviewer  yelp_stars\n",
       "0  Burger King       Jeff           2\n",
       "1  Burger King        Jen           2\n",
       "6  Burger King       Jill           2\n",
       "5  Burger King    Jacques           3\n",
       "3  Burger King       John           4\n",
       "4  Burger King  Josephine           4\n",
       "2  Burger King      James           5"
      ]
     },
     "execution_count": 109,
     "metadata": {},
     "output_type": "execute_result"
    }
   ],
   "source": [
    "reviews_df.sort_values(by=\"yelp_stars\")"
   ]
  },
  {
   "cell_type": "code",
   "execution_count": 110,
   "metadata": {
    "collapsed": false
   },
   "outputs": [
    {
     "data": {
      "text/plain": [
       "3.0"
      ]
     },
     "execution_count": 110,
     "metadata": {},
     "output_type": "execute_result"
    }
   ],
   "source": [
    "reviews_df['yelp_stars'].median()"
   ]
  },
  {
   "cell_type": "code",
   "execution_count": 111,
   "metadata": {
    "collapsed": true
   },
   "outputs": [],
   "source": [
    "money = [0, 200, 300, 250, 150, 200, 150, 150, 2000]"
   ]
  },
  {
   "cell_type": "code",
   "execution_count": 112,
   "metadata": {
    "collapsed": false
   },
   "outputs": [
    {
     "data": {
      "text/plain": [
       "0       0\n",
       "1     200\n",
       "2     300\n",
       "3     250\n",
       "4     150\n",
       "5     200\n",
       "6     150\n",
       "7     150\n",
       "8    2000\n",
       "dtype: int64"
      ]
     },
     "execution_count": 112,
     "metadata": {},
     "output_type": "execute_result"
    }
   ],
   "source": [
    "money_series = pd.Series(money)\n",
    "money_series"
   ]
  },
  {
   "cell_type": "code",
   "execution_count": 113,
   "metadata": {
    "collapsed": false
   },
   "outputs": [
    {
     "data": {
      "text/plain": [
       "377.77777777777777"
      ]
     },
     "execution_count": 113,
     "metadata": {},
     "output_type": "execute_result"
    }
   ],
   "source": [
    "money_series.mean()"
   ]
  },
  {
   "cell_type": "code",
   "execution_count": 114,
   "metadata": {
    "collapsed": false
   },
   "outputs": [
    {
     "data": {
      "text/plain": [
       "200.0"
      ]
     },
     "execution_count": 114,
     "metadata": {},
     "output_type": "execute_result"
    }
   ],
   "source": [
    "money_series.median()"
   ]
  },
  {
   "cell_type": "code",
   "execution_count": 115,
   "metadata": {
    "collapsed": false
   },
   "outputs": [
    {
     "data": {
      "text/plain": [
       "0       0\n",
       "4     150\n",
       "6     150\n",
       "7     150\n",
       "1     200\n",
       "5     200\n",
       "3     250\n",
       "2     300\n",
       "8    2000\n",
       "dtype: int64"
      ]
     },
     "execution_count": 115,
     "metadata": {},
     "output_type": "execute_result"
    }
   ],
   "source": [
    "money_series.sort_values()"
   ]
  },
  {
   "cell_type": "code",
   "execution_count": 116,
   "metadata": {
    "collapsed": false
   },
   "outputs": [
    {
     "data": {
      "text/plain": [
       "0    2\n",
       "dtype: int64"
      ]
     },
     "execution_count": 116,
     "metadata": {},
     "output_type": "execute_result"
    }
   ],
   "source": [
    "reviews_df['yelp_stars'].mode()"
   ]
  },
  {
   "cell_type": "code",
   "execution_count": 117,
   "metadata": {
    "collapsed": false
   },
   "outputs": [
    {
     "data": {
      "text/plain": [
       "3.0"
      ]
     },
     "execution_count": 117,
     "metadata": {},
     "output_type": "execute_result"
    }
   ],
   "source": [
    "reviews_df['yelp_stars'].median()"
   ]
  },
  {
   "cell_type": "code",
   "execution_count": 118,
   "metadata": {
    "collapsed": false
   },
   "outputs": [
    {
     "data": {
      "text/plain": [
       "3.1428571428571428"
      ]
     },
     "execution_count": 118,
     "metadata": {},
     "output_type": "execute_result"
    }
   ],
   "source": [
    "reviews_df['yelp_stars'].mean()"
   ]
  },
  {
   "cell_type": "markdown",
   "metadata": {},
   "source": [
    "central tendency - \n",
    "* mean\n",
    "* median\n",
    "* mode "
   ]
  },
  {
   "cell_type": "markdown",
   "metadata": {},
   "source": [
    "# Spread"
   ]
  },
  {
   "cell_type": "code",
   "execution_count": 119,
   "metadata": {
    "collapsed": true
   },
   "outputs": [],
   "source": [
    "series_one = pd.Series([-10, 0, 10, 20, 30])"
   ]
  },
  {
   "cell_type": "code",
   "execution_count": 120,
   "metadata": {
    "collapsed": true
   },
   "outputs": [],
   "source": [
    "series_two = pd.Series([8,9,10,11,12])"
   ]
  },
  {
   "cell_type": "code",
   "execution_count": 121,
   "metadata": {
    "collapsed": false
   },
   "outputs": [
    {
     "name": "stdout",
     "output_type": "stream",
     "text": [
      "Series_one mean is 10.0\n",
      "Series_two mean is 10.0\n",
      "Series_one median is 10.0\n",
      "Series_two median is 10.0\n"
     ]
    }
   ],
   "source": [
    "print(\"Series_one mean is\", series_one.mean())\n",
    "print(\"Series_two mean is\", series_two.mean())\n",
    "print(\"Series_one median is\", series_one.median())\n",
    "print(\"Series_two median is\", series_two.median())"
   ]
  },
  {
   "cell_type": "code",
   "execution_count": 122,
   "metadata": {
    "collapsed": false
   },
   "outputs": [
    {
     "data": {
      "text/plain": [
       "40"
      ]
     },
     "execution_count": 122,
     "metadata": {},
     "output_type": "execute_result"
    }
   ],
   "source": [
    "# range\n",
    "series_one.max() - series_one.min()"
   ]
  },
  {
   "cell_type": "code",
   "execution_count": 123,
   "metadata": {
    "collapsed": false
   },
   "outputs": [
    {
     "data": {
      "text/plain": [
       "4"
      ]
     },
     "execution_count": 123,
     "metadata": {},
     "output_type": "execute_result"
    }
   ],
   "source": [
    "# range\n",
    "series_two.max() - series_two.min()"
   ]
  },
  {
   "cell_type": "code",
   "execution_count": 124,
   "metadata": {
    "collapsed": false
   },
   "outputs": [
    {
     "data": {
      "text/plain": [
       "count     5.000000\n",
       "mean     10.000000\n",
       "std      15.811388\n",
       "min     -10.000000\n",
       "25%       0.000000\n",
       "50%      10.000000\n",
       "75%      20.000000\n",
       "max      30.000000\n",
       "dtype: float64"
      ]
     },
     "execution_count": 124,
     "metadata": {},
     "output_type": "execute_result"
    }
   ],
   "source": [
    "series_one.describe()"
   ]
  },
  {
   "cell_type": "code",
   "execution_count": 125,
   "metadata": {
    "collapsed": false
   },
   "outputs": [
    {
     "data": {
      "text/plain": [
       "count     5.000000\n",
       "mean     10.000000\n",
       "std       1.581139\n",
       "min       8.000000\n",
       "25%       9.000000\n",
       "50%      10.000000\n",
       "75%      11.000000\n",
       "max      12.000000\n",
       "dtype: float64"
      ]
     },
     "execution_count": 125,
     "metadata": {},
     "output_type": "execute_result"
    }
   ],
   "source": [
    "series_two.describe()"
   ]
  },
  {
   "cell_type": "code",
   "execution_count": 126,
   "metadata": {
    "collapsed": false
   },
   "outputs": [],
   "source": [
    "rich_df = pd.read_excel(\"rich_people.xlsx\")"
   ]
  },
  {
   "cell_type": "code",
   "execution_count": 127,
   "metadata": {
    "collapsed": false
   },
   "outputs": [
    {
     "data": {
      "text/html": [
       "<div>\n",
       "<table border=\"1\" class=\"dataframe\">\n",
       "  <thead>\n",
       "    <tr style=\"text-align: right;\">\n",
       "      <th></th>\n",
       "      <th>year</th>\n",
       "      <th>name</th>\n",
       "      <th>rank</th>\n",
       "      <th>citizenship</th>\n",
       "      <th>countrycode</th>\n",
       "      <th>networthusbillion</th>\n",
       "      <th>selfmade</th>\n",
       "      <th>typeofwealth</th>\n",
       "      <th>gender</th>\n",
       "      <th>age</th>\n",
       "      <th>...</th>\n",
       "      <th>relationshiptocompany</th>\n",
       "      <th>foundingdate</th>\n",
       "      <th>gdpcurrentus</th>\n",
       "      <th>sourceofwealth</th>\n",
       "      <th>notes</th>\n",
       "      <th>notes2</th>\n",
       "      <th>source</th>\n",
       "      <th>source_2</th>\n",
       "      <th>source_3</th>\n",
       "      <th>source_4</th>\n",
       "    </tr>\n",
       "  </thead>\n",
       "  <tbody>\n",
       "    <tr>\n",
       "      <th>1</th>\n",
       "      <td>2014</td>\n",
       "      <td>A. Jerrold Perenchio</td>\n",
       "      <td>663</td>\n",
       "      <td>United States</td>\n",
       "      <td>USA</td>\n",
       "      <td>2.6</td>\n",
       "      <td>self-made</td>\n",
       "      <td>executive</td>\n",
       "      <td>male</td>\n",
       "      <td>83.0</td>\n",
       "      <td>...</td>\n",
       "      <td>former chairman and CEO</td>\n",
       "      <td>1955.0</td>\n",
       "      <td>NaN</td>\n",
       "      <td>television, Univision</td>\n",
       "      <td>represented Marlon Brando and Elizabeth Taylor</td>\n",
       "      <td>NaN</td>\n",
       "      <td>http://en.wikipedia.org/wiki/Jerry_Perenchio</td>\n",
       "      <td>http://www.forbes.com/profile/a-jerrold-perenc...</td>\n",
       "      <td>COLUMN ONE; A Hollywood Player Who Owns the Ga...</td>\n",
       "      <td>NaN</td>\n",
       "    </tr>\n",
       "    <tr>\n",
       "      <th>5</th>\n",
       "      <td>2014</td>\n",
       "      <td>Abdulla Al Futtaim</td>\n",
       "      <td>687</td>\n",
       "      <td>United Arab Emirates</td>\n",
       "      <td>ARE</td>\n",
       "      <td>2.5</td>\n",
       "      <td>inherited</td>\n",
       "      <td>inherited</td>\n",
       "      <td>male</td>\n",
       "      <td>NaN</td>\n",
       "      <td>...</td>\n",
       "      <td>relation</td>\n",
       "      <td>1930.0</td>\n",
       "      <td>NaN</td>\n",
       "      <td>auto dealers, investments</td>\n",
       "      <td>company split between him and cousin in 2000</td>\n",
       "      <td>NaN</td>\n",
       "      <td>http://en.wikipedia.org/wiki/Al-Futtaim_Group</td>\n",
       "      <td>http://www.al-futtaim.ae/content/groupProfile.asp</td>\n",
       "      <td>NaN</td>\n",
       "      <td>NaN</td>\n",
       "    </tr>\n",
       "    <tr>\n",
       "      <th>6</th>\n",
       "      <td>2014</td>\n",
       "      <td>Abdulla bin Ahmad Al Ghurair</td>\n",
       "      <td>305</td>\n",
       "      <td>United Arab Emirates</td>\n",
       "      <td>ARE</td>\n",
       "      <td>4.8</td>\n",
       "      <td>inherited</td>\n",
       "      <td>inherited</td>\n",
       "      <td>male</td>\n",
       "      <td>NaN</td>\n",
       "      <td>...</td>\n",
       "      <td>relation</td>\n",
       "      <td>1960.0</td>\n",
       "      <td>NaN</td>\n",
       "      <td>diversified</td>\n",
       "      <td>inherited from father</td>\n",
       "      <td>NaN</td>\n",
       "      <td>http://en.wikipedia.org/wiki/Al-Ghurair_Group</td>\n",
       "      <td>http://www.alghurair.com/about-us/our-history</td>\n",
       "      <td>NaN</td>\n",
       "      <td>NaN</td>\n",
       "    </tr>\n",
       "    <tr>\n",
       "      <th>8</th>\n",
       "      <td>2014</td>\n",
       "      <td>Abdullah Al Rajhi</td>\n",
       "      <td>731</td>\n",
       "      <td>Saudi Arabia</td>\n",
       "      <td>SAU</td>\n",
       "      <td>2.4</td>\n",
       "      <td>self-made</td>\n",
       "      <td>self-made finance</td>\n",
       "      <td>male</td>\n",
       "      <td>NaN</td>\n",
       "      <td>...</td>\n",
       "      <td>founder</td>\n",
       "      <td>1957.0</td>\n",
       "      <td>NaN</td>\n",
       "      <td>banking</td>\n",
       "      <td>NaN</td>\n",
       "      <td>NaN</td>\n",
       "      <td>http://en.wikipedia.org/wiki/Al-Rajhi_Bank</td>\n",
       "      <td>http://www.alrajhibank.com.sa/ar/investor-rela...</td>\n",
       "      <td>http://www.alrajhibank.com.sa/ar/about-us/page...</td>\n",
       "      <td>NaN</td>\n",
       "    </tr>\n",
       "    <tr>\n",
       "      <th>9</th>\n",
       "      <td>2014</td>\n",
       "      <td>Abdulsamad Rabiu</td>\n",
       "      <td>1372</td>\n",
       "      <td>Nigeria</td>\n",
       "      <td>NGA</td>\n",
       "      <td>1.2</td>\n",
       "      <td>self-made</td>\n",
       "      <td>founder non-finance</td>\n",
       "      <td>male</td>\n",
       "      <td>54.0</td>\n",
       "      <td>...</td>\n",
       "      <td>founder</td>\n",
       "      <td>1988.0</td>\n",
       "      <td>NaN</td>\n",
       "      <td>sugar, flour, cement</td>\n",
       "      <td>NaN</td>\n",
       "      <td>NaN</td>\n",
       "      <td>http://www.forbes.com/profile/abdulsamad-rabiu/</td>\n",
       "      <td>http://www.bloomberg.com/research/stocks/priva...</td>\n",
       "      <td>NaN</td>\n",
       "      <td>NaN</td>\n",
       "    </tr>\n",
       "  </tbody>\n",
       "</table>\n",
       "<p>5 rows × 30 columns</p>\n",
       "</div>"
      ],
      "text/plain": [
       "   year                          name  rank           citizenship countrycode  \\\n",
       "1  2014          A. Jerrold Perenchio   663         United States         USA   \n",
       "5  2014            Abdulla Al Futtaim   687  United Arab Emirates         ARE   \n",
       "6  2014  Abdulla bin Ahmad Al Ghurair   305  United Arab Emirates         ARE   \n",
       "8  2014             Abdullah Al Rajhi   731          Saudi Arabia         SAU   \n",
       "9  2014              Abdulsamad Rabiu  1372               Nigeria         NGA   \n",
       "\n",
       "   networthusbillion   selfmade         typeofwealth gender   age   ...     \\\n",
       "1                2.6  self-made            executive   male  83.0   ...      \n",
       "5                2.5  inherited            inherited   male   NaN   ...      \n",
       "6                4.8  inherited            inherited   male   NaN   ...      \n",
       "8                2.4  self-made    self-made finance   male   NaN   ...      \n",
       "9                1.2  self-made  founder non-finance   male  54.0   ...      \n",
       "\n",
       "     relationshiptocompany foundingdate gdpcurrentus  \\\n",
       "1  former chairman and CEO       1955.0          NaN   \n",
       "5                 relation       1930.0          NaN   \n",
       "6                 relation       1960.0          NaN   \n",
       "8                  founder       1957.0          NaN   \n",
       "9                  founder       1988.0          NaN   \n",
       "\n",
       "              sourceofwealth                                           notes  \\\n",
       "1      television, Univision  represented Marlon Brando and Elizabeth Taylor   \n",
       "5  auto dealers, investments    company split between him and cousin in 2000   \n",
       "6                diversified                           inherited from father   \n",
       "8                    banking                                             NaN   \n",
       "9       sugar, flour, cement                                             NaN   \n",
       "\n",
       "   notes2                                           source  \\\n",
       "1     NaN     http://en.wikipedia.org/wiki/Jerry_Perenchio   \n",
       "5     NaN    http://en.wikipedia.org/wiki/Al-Futtaim_Group   \n",
       "6     NaN    http://en.wikipedia.org/wiki/Al-Ghurair_Group   \n",
       "8     NaN       http://en.wikipedia.org/wiki/Al-Rajhi_Bank   \n",
       "9     NaN  http://www.forbes.com/profile/abdulsamad-rabiu/   \n",
       "\n",
       "                                            source_2  \\\n",
       "1  http://www.forbes.com/profile/a-jerrold-perenc...   \n",
       "5  http://www.al-futtaim.ae/content/groupProfile.asp   \n",
       "6      http://www.alghurair.com/about-us/our-history   \n",
       "8  http://www.alrajhibank.com.sa/ar/investor-rela...   \n",
       "9  http://www.bloomberg.com/research/stocks/priva...   \n",
       "\n",
       "                                            source_3 source_4  \n",
       "1  COLUMN ONE; A Hollywood Player Who Owns the Ga...      NaN  \n",
       "5                                                NaN      NaN  \n",
       "6                                                NaN      NaN  \n",
       "8  http://www.alrajhibank.com.sa/ar/about-us/page...      NaN  \n",
       "9                                                NaN      NaN  \n",
       "\n",
       "[5 rows x 30 columns]"
      ]
     },
     "execution_count": 127,
     "metadata": {},
     "output_type": "execute_result"
    }
   ],
   "source": [
    "rich_df = rich_df[rich_df['year'] == 2014]\n",
    "rich_df.head()"
   ]
  },
  {
   "cell_type": "raw",
   "metadata": {},
   "source": [
    "rich_df.describe()"
   ]
  },
  {
   "cell_type": "code",
   "execution_count": 128,
   "metadata": {
    "collapsed": false
   },
   "outputs": [
    {
     "name": "stderr",
     "output_type": "stream",
     "text": [
      "/Users/Monica/.virtualenvs/dataanalysis/lib/python3.5/site-packages/numpy/lib/function_base.py:3823: RuntimeWarning: Invalid value encountered in percentile\n",
      "  RuntimeWarning)\n"
     ]
    },
    {
     "data": {
      "text/html": [
       "<div>\n",
       "<table border=\"1\" class=\"dataframe\">\n",
       "  <thead>\n",
       "    <tr style=\"text-align: right;\">\n",
       "      <th></th>\n",
       "      <th>year</th>\n",
       "      <th>rank</th>\n",
       "      <th>networthusbillion</th>\n",
       "      <th>age</th>\n",
       "      <th>north</th>\n",
       "      <th>politicalconnection</th>\n",
       "      <th>founder</th>\n",
       "      <th>foundingdate</th>\n",
       "      <th>gdpcurrentus</th>\n",
       "    </tr>\n",
       "  </thead>\n",
       "  <tbody>\n",
       "    <tr>\n",
       "      <th>count</th>\n",
       "      <td>1578.0</td>\n",
       "      <td>1578.000000</td>\n",
       "      <td>1578.000000</td>\n",
       "      <td>1578.000000</td>\n",
       "      <td>1578.000000</td>\n",
       "      <td>54.0</td>\n",
       "      <td>1578.000000</td>\n",
       "      <td>1578.000000</td>\n",
       "      <td>0.0</td>\n",
       "    </tr>\n",
       "    <tr>\n",
       "      <th>mean</th>\n",
       "      <td>2014.0</td>\n",
       "      <td>805.160330</td>\n",
       "      <td>3.957668</td>\n",
       "      <td>63.392902</td>\n",
       "      <td>0.576679</td>\n",
       "      <td>1.0</td>\n",
       "      <td>0.519011</td>\n",
       "      <td>1963.464512</td>\n",
       "      <td>NaN</td>\n",
       "    </tr>\n",
       "    <tr>\n",
       "      <th>std</th>\n",
       "      <td>0.0</td>\n",
       "      <td>463.299595</td>\n",
       "      <td>5.856655</td>\n",
       "      <td>13.154475</td>\n",
       "      <td>0.494242</td>\n",
       "      <td>0.0</td>\n",
       "      <td>0.499797</td>\n",
       "      <td>38.329401</td>\n",
       "      <td>NaN</td>\n",
       "    </tr>\n",
       "    <tr>\n",
       "      <th>min</th>\n",
       "      <td>2014.0</td>\n",
       "      <td>1.000000</td>\n",
       "      <td>1.000000</td>\n",
       "      <td>24.000000</td>\n",
       "      <td>0.000000</td>\n",
       "      <td>1.0</td>\n",
       "      <td>0.000000</td>\n",
       "      <td>1615.000000</td>\n",
       "      <td>NaN</td>\n",
       "    </tr>\n",
       "    <tr>\n",
       "      <th>25%</th>\n",
       "      <td>2014.0</td>\n",
       "      <td>408.000000</td>\n",
       "      <td>1.400000</td>\n",
       "      <td>53.000000</td>\n",
       "      <td>0.000000</td>\n",
       "      <td>NaN</td>\n",
       "      <td>0.000000</td>\n",
       "      <td>1948.000000</td>\n",
       "      <td>NaN</td>\n",
       "    </tr>\n",
       "    <tr>\n",
       "      <th>50%</th>\n",
       "      <td>2014.0</td>\n",
       "      <td>796.000000</td>\n",
       "      <td>2.200000</td>\n",
       "      <td>63.000000</td>\n",
       "      <td>1.000000</td>\n",
       "      <td>NaN</td>\n",
       "      <td>1.000000</td>\n",
       "      <td>1973.000000</td>\n",
       "      <td>NaN</td>\n",
       "    </tr>\n",
       "    <tr>\n",
       "      <th>75%</th>\n",
       "      <td>2014.0</td>\n",
       "      <td>1210.000000</td>\n",
       "      <td>3.700000</td>\n",
       "      <td>73.000000</td>\n",
       "      <td>1.000000</td>\n",
       "      <td>NaN</td>\n",
       "      <td>1.000000</td>\n",
       "      <td>1991.000000</td>\n",
       "      <td>NaN</td>\n",
       "    </tr>\n",
       "    <tr>\n",
       "      <th>max</th>\n",
       "      <td>2014.0</td>\n",
       "      <td>1565.000000</td>\n",
       "      <td>76.000000</td>\n",
       "      <td>98.000000</td>\n",
       "      <td>1.000000</td>\n",
       "      <td>1.0</td>\n",
       "      <td>1.000000</td>\n",
       "      <td>2012.000000</td>\n",
       "      <td>NaN</td>\n",
       "    </tr>\n",
       "  </tbody>\n",
       "</table>\n",
       "</div>"
      ],
      "text/plain": [
       "         year         rank  networthusbillion          age        north  \\\n",
       "count  1578.0  1578.000000        1578.000000  1578.000000  1578.000000   \n",
       "mean   2014.0   805.160330           3.957668    63.392902     0.576679   \n",
       "std       0.0   463.299595           5.856655    13.154475     0.494242   \n",
       "min    2014.0     1.000000           1.000000    24.000000     0.000000   \n",
       "25%    2014.0   408.000000           1.400000    53.000000     0.000000   \n",
       "50%    2014.0   796.000000           2.200000    63.000000     1.000000   \n",
       "75%    2014.0  1210.000000           3.700000    73.000000     1.000000   \n",
       "max    2014.0  1565.000000          76.000000    98.000000     1.000000   \n",
       "\n",
       "       politicalconnection      founder  foundingdate  gdpcurrentus  \n",
       "count                 54.0  1578.000000   1578.000000           0.0  \n",
       "mean                   1.0     0.519011   1963.464512           NaN  \n",
       "std                    0.0     0.499797     38.329401           NaN  \n",
       "min                    1.0     0.000000   1615.000000           NaN  \n",
       "25%                    NaN     0.000000   1948.000000           NaN  \n",
       "50%                    NaN     1.000000   1973.000000           NaN  \n",
       "75%                    NaN     1.000000   1991.000000           NaN  \n",
       "max                    1.0     1.000000   2012.000000           NaN  "
      ]
     },
     "execution_count": 128,
     "metadata": {},
     "output_type": "execute_result"
    }
   ],
   "source": [
    "df = rich_df.dropna(subset=['age', 'networthusbillion', 'foundingdate']) # will drop any rows that are missing age, networthusbillion or founding date\n",
    "df.describe()"
   ]
  },
  {
   "cell_type": "code",
   "execution_count": 129,
   "metadata": {
    "collapsed": false
   },
   "outputs": [
    {
     "data": {
      "text/plain": [
       "74.0"
      ]
     },
     "execution_count": 129,
     "metadata": {},
     "output_type": "execute_result"
    }
   ],
   "source": [
    "df['age'].max() - df['age'].min()"
   ]
  },
  {
   "cell_type": "code",
   "execution_count": 130,
   "metadata": {
    "collapsed": false
   },
   "outputs": [
    {
     "data": {
      "text/plain": [
       "<matplotlib.axes._subplots.AxesSubplot at 0x11016f550>"
      ]
     },
     "execution_count": 130,
     "metadata": {},
     "output_type": "execute_result"
    },
    {
     "data": {
      "image/png": "[encoded data removed]",
      "text/plain": [
       "<matplotlib.figure.Figure at 0x1101e07b8>"
      ]
     },
     "metadata": {},
     "output_type": "display_data"
    }
   ],
   "source": [
    "df.boxplot(column='age', return_type='axes')"
   ]
  },
  {
   "cell_type": "code",
   "execution_count": 131,
   "metadata": {
    "collapsed": false
   },
   "outputs": [
    {
     "data": {
      "text/plain": [
       "<matplotlib.axes._subplots.AxesSubplot at 0x110033b70>"
      ]
     },
     "execution_count": 131,
     "metadata": {},
     "output_type": "execute_result"
    },
    {
     "data": {
      "image/png": "[encoded data removed]",
      "text/plain": [
       "<matplotlib.figure.Figure at 0x110a1cb00>"
      ]
     },
     "metadata": {},
     "output_type": "display_data"
    }
   ],
   "source": [
    "df.boxplot('networthusbillion', whis='range', return_type='axes')\n",
    "# the vast majority of people have very few billions of dollars,\n",
    "# whereas at least one person has 76 billion dollars"
   ]
  },
  {
   "cell_type": "code",
   "execution_count": 132,
   "metadata": {
    "collapsed": false
   },
   "outputs": [
    {
     "data": {
      "text/plain": [
       "0   -10\n",
       "1     0\n",
       "2    10\n",
       "3    20\n",
       "4    30\n",
       "dtype: int64"
      ]
     },
     "execution_count": 132,
     "metadata": {},
     "output_type": "execute_result"
    }
   ],
   "source": [
    "series_one"
   ]
  },
  {
   "cell_type": "code",
   "execution_count": 133,
   "metadata": {
    "collapsed": false
   },
   "outputs": [
    {
     "data": {
      "text/plain": [
       "0     8\n",
       "1     9\n",
       "2    10\n",
       "3    11\n",
       "4    12\n",
       "dtype: int64"
      ]
     },
     "execution_count": 133,
     "metadata": {},
     "output_type": "execute_result"
    }
   ],
   "source": [
    "series_two"
   ]
  },
  {
   "cell_type": "code",
   "execution_count": 134,
   "metadata": {
    "collapsed": false
   },
   "outputs": [
    {
     "data": {
      "text/plain": [
       "15.811388300841896"
      ]
     },
     "execution_count": 134,
     "metadata": {},
     "output_type": "execute_result"
    }
   ],
   "source": [
    "series_one.std()"
   ]
  },
  {
   "cell_type": "code",
   "execution_count": 135,
   "metadata": {
    "collapsed": false
   },
   "outputs": [
    {
     "data": {
      "text/plain": [
       "1.5811388300841898"
      ]
     },
     "execution_count": 135,
     "metadata": {},
     "output_type": "execute_result"
    }
   ],
   "source": [
    "series_two.std()"
   ]
  },
  {
   "cell_type": "code",
   "execution_count": null,
   "metadata": {
    "collapsed": false
   },
   "outputs": [],
   "source": []
  },
  {
   "cell_type": "code",
   "execution_count": 136,
   "metadata": {
    "collapsed": false
   },
   "outputs": [
    {
     "data": {
      "text/html": [
       "<div>\n",
       "<table border=\"1\" class=\"dataframe\">\n",
       "  <thead>\n",
       "    <tr style=\"text-align: right;\">\n",
       "      <th></th>\n",
       "      <th>year</th>\n",
       "      <th>name</th>\n",
       "      <th>rank</th>\n",
       "      <th>citizenship</th>\n",
       "      <th>countrycode</th>\n",
       "      <th>networthusbillion</th>\n",
       "      <th>selfmade</th>\n",
       "      <th>typeofwealth</th>\n",
       "      <th>gender</th>\n",
       "      <th>age</th>\n",
       "      <th>...</th>\n",
       "      <th>relationshiptocompany</th>\n",
       "      <th>foundingdate</th>\n",
       "      <th>gdpcurrentus</th>\n",
       "      <th>sourceofwealth</th>\n",
       "      <th>notes</th>\n",
       "      <th>notes2</th>\n",
       "      <th>source</th>\n",
       "      <th>source_2</th>\n",
       "      <th>source_3</th>\n",
       "      <th>source_4</th>\n",
       "    </tr>\n",
       "  </thead>\n",
       "  <tbody>\n",
       "    <tr>\n",
       "      <th>284</th>\n",
       "      <td>2014</td>\n",
       "      <td>Bill Gates</td>\n",
       "      <td>1</td>\n",
       "      <td>United States</td>\n",
       "      <td>USA</td>\n",
       "      <td>76.0</td>\n",
       "      <td>self-made</td>\n",
       "      <td>founder non-finance</td>\n",
       "      <td>male</td>\n",
       "      <td>58.0</td>\n",
       "      <td>...</td>\n",
       "      <td>founder</td>\n",
       "      <td>1975.0</td>\n",
       "      <td>NaN</td>\n",
       "      <td>Microsoft</td>\n",
       "      <td>NaN</td>\n",
       "      <td>NaN</td>\n",
       "      <td>http://www.forbes.com/profile/bill-gates/</td>\n",
       "      <td>NaN</td>\n",
       "      <td>NaN</td>\n",
       "      <td>NaN</td>\n",
       "    </tr>\n",
       "    <tr>\n",
       "      <th>348</th>\n",
       "      <td>2014</td>\n",
       "      <td>Carlos Slim Helu</td>\n",
       "      <td>2</td>\n",
       "      <td>Mexico</td>\n",
       "      <td>MEX</td>\n",
       "      <td>72.0</td>\n",
       "      <td>self-made</td>\n",
       "      <td>privatized and resources</td>\n",
       "      <td>male</td>\n",
       "      <td>74.0</td>\n",
       "      <td>...</td>\n",
       "      <td>founder</td>\n",
       "      <td>1990.0</td>\n",
       "      <td>NaN</td>\n",
       "      <td>telecom</td>\n",
       "      <td>NaN</td>\n",
       "      <td>NaN</td>\n",
       "      <td>http://www.ozy.com/provocateurs/carlos-slims-w...</td>\n",
       "      <td>NaN</td>\n",
       "      <td>NaN</td>\n",
       "      <td>NaN</td>\n",
       "    </tr>\n",
       "    <tr>\n",
       "      <th>124</th>\n",
       "      <td>2014</td>\n",
       "      <td>Amancio Ortega</td>\n",
       "      <td>3</td>\n",
       "      <td>Spain</td>\n",
       "      <td>ESP</td>\n",
       "      <td>64.0</td>\n",
       "      <td>self-made</td>\n",
       "      <td>founder non-finance</td>\n",
       "      <td>male</td>\n",
       "      <td>77.0</td>\n",
       "      <td>...</td>\n",
       "      <td>founder</td>\n",
       "      <td>1975.0</td>\n",
       "      <td>NaN</td>\n",
       "      <td>retail</td>\n",
       "      <td>NaN</td>\n",
       "      <td>NaN</td>\n",
       "      <td>http://www.forbes.com/profile/amancio-ortega/</td>\n",
       "      <td>NaN</td>\n",
       "      <td>NaN</td>\n",
       "      <td>NaN</td>\n",
       "    </tr>\n",
       "    <tr>\n",
       "      <th>2491</th>\n",
       "      <td>2014</td>\n",
       "      <td>Warren Buffett</td>\n",
       "      <td>4</td>\n",
       "      <td>United States</td>\n",
       "      <td>USA</td>\n",
       "      <td>58.2</td>\n",
       "      <td>self-made</td>\n",
       "      <td>founder non-finance</td>\n",
       "      <td>male</td>\n",
       "      <td>83.0</td>\n",
       "      <td>...</td>\n",
       "      <td>founder</td>\n",
       "      <td>1839.0</td>\n",
       "      <td>NaN</td>\n",
       "      <td>Berkshire Hathaway</td>\n",
       "      <td>NaN</td>\n",
       "      <td>NaN</td>\n",
       "      <td>http://www.forbes.com/lists/2009/10/billionair...</td>\n",
       "      <td>http://www.forbes.com/companies/berkshire-hath...</td>\n",
       "      <td>NaN</td>\n",
       "      <td>NaN</td>\n",
       "    </tr>\n",
       "  </tbody>\n",
       "</table>\n",
       "<p>4 rows × 30 columns</p>\n",
       "</div>"
      ],
      "text/plain": [
       "      year              name  rank    citizenship countrycode  \\\n",
       "284   2014        Bill Gates     1  United States         USA   \n",
       "348   2014  Carlos Slim Helu     2         Mexico         MEX   \n",
       "124   2014    Amancio Ortega     3          Spain         ESP   \n",
       "2491  2014    Warren Buffett     4  United States         USA   \n",
       "\n",
       "      networthusbillion   selfmade              typeofwealth gender   age  \\\n",
       "284                76.0  self-made       founder non-finance   male  58.0   \n",
       "348                72.0  self-made  privatized and resources   male  74.0   \n",
       "124                64.0  self-made       founder non-finance   male  77.0   \n",
       "2491               58.2  self-made       founder non-finance   male  83.0   \n",
       "\n",
       "       ...    relationshiptocompany foundingdate gdpcurrentus  \\\n",
       "284    ...                  founder       1975.0          NaN   \n",
       "348    ...                  founder       1990.0          NaN   \n",
       "124    ...                  founder       1975.0          NaN   \n",
       "2491   ...                  founder       1839.0          NaN   \n",
       "\n",
       "          sourceofwealth  notes  notes2  \\\n",
       "284            Microsoft    NaN     NaN   \n",
       "348              telecom    NaN     NaN   \n",
       "124               retail    NaN     NaN   \n",
       "2491  Berkshire Hathaway    NaN     NaN   \n",
       "\n",
       "                                                 source  \\\n",
       "284           http://www.forbes.com/profile/bill-gates/   \n",
       "348   http://www.ozy.com/provocateurs/carlos-slims-w...   \n",
       "124       http://www.forbes.com/profile/amancio-ortega/   \n",
       "2491  http://www.forbes.com/lists/2009/10/billionair...   \n",
       "\n",
       "                                               source_2 source_3 source_4  \n",
       "284                                                 NaN      NaN      NaN  \n",
       "348                                                 NaN      NaN      NaN  \n",
       "124                                                 NaN      NaN      NaN  \n",
       "2491  http://www.forbes.com/companies/berkshire-hath...      NaN      NaN  \n",
       "\n",
       "[4 rows x 30 columns]"
      ]
     },
     "execution_count": 136,
     "metadata": {},
     "output_type": "execute_result"
    }
   ],
   "source": [
    "df.sort_values(by=\"networthusbillion\", ascending=False).head(4)"
   ]
  },
  {
   "cell_type": "code",
   "execution_count": 137,
   "metadata": {
    "collapsed": true
   },
   "outputs": [],
   "source": [
    "# if you are more than 3 standard deviations above the mean, you are an OUTLIER."
   ]
  },
  {
   "cell_type": "code",
   "execution_count": 138,
   "metadata": {
    "collapsed": false
   },
   "outputs": [
    {
     "data": {
      "text/plain": [
       "3.9576679340937901"
      ]
     },
     "execution_count": 138,
     "metadata": {},
     "output_type": "execute_result"
    }
   ],
   "source": [
    "df['networthusbillion'].mean()"
   ]
  },
  {
   "cell_type": "code",
   "execution_count": 139,
   "metadata": {
    "collapsed": false
   },
   "outputs": [
    {
     "data": {
      "text/plain": [
       "5.8566554945192237"
      ]
     },
     "execution_count": 139,
     "metadata": {},
     "output_type": "execute_result"
    }
   ],
   "source": [
    "df['networthusbillion'].std()"
   ]
  },
  {
   "cell_type": "code",
   "execution_count": 140,
   "metadata": {
    "collapsed": false
   },
   "outputs": [
    {
     "data": {
      "text/plain": [
       "21.527634417651463"
      ]
     },
     "execution_count": 140,
     "metadata": {},
     "output_type": "execute_result"
    }
   ],
   "source": [
    "df['networthusbillion'].mean() + 3 * df['networthusbillion'].std()"
   ]
  },
  {
   "cell_type": "code",
   "execution_count": 141,
   "metadata": {
    "collapsed": false
   },
   "outputs": [
    {
     "data": {
      "text/plain": [
       "<matplotlib.axes._subplots.AxesSubplot at 0x1105b1ac8>"
      ]
     },
     "execution_count": 141,
     "metadata": {},
     "output_type": "execute_result"
    },
    {
     "data": {
      "image/png": "[encoded data removed]",
      "text/plain": [
       "<matplotlib.figure.Figure at 0x110bc9ba8>"
      ]
     },
     "metadata": {},
     "output_type": "display_data"
    }
   ],
   "source": [
    "df['networthusbillion'].hist(bins=25)"
   ]
  },
  {
   "cell_type": "code",
   "execution_count": 142,
   "metadata": {
    "collapsed": false
   },
   "outputs": [
    {
     "data": {
      "text/plain": [
       "<matplotlib.axes._subplots.AxesSubplot at 0x110c356d8>"
      ]
     },
     "execution_count": 142,
     "metadata": {},
     "output_type": "execute_result"
    },
    {
     "data": {
      "image/png": "[encoded data removed]",
      "text/plain": [
       "<matplotlib.figure.Figure at 0x110b21588>"
      ]
     },
     "metadata": {},
     "output_type": "display_data"
    }
   ],
   "source": [
    "df['age'].hist(bins=25)"
   ]
  },
  {
   "cell_type": "code",
   "execution_count": 143,
   "metadata": {
    "collapsed": false
   },
   "outputs": [
    {
     "data": {
      "text/plain": [
       "102.85632634909365"
      ]
     },
     "execution_count": 143,
     "metadata": {},
     "output_type": "execute_result"
    }
   ],
   "source": [
    "df['age'].mean() + 3 * df['age'].std()"
   ]
  },
  {
   "cell_type": "code",
   "execution_count": 144,
   "metadata": {
    "collapsed": false
   },
   "outputs": [
    {
     "data": {
      "text/plain": [
       "23.929478467129421"
      ]
     },
     "execution_count": 144,
     "metadata": {},
     "output_type": "execute_result"
    }
   ],
   "source": [
    "df['age'].mean()-3 * df['age'].std()"
   ]
  },
  {
   "cell_type": "markdown",
   "metadata": {},
   "source": [
    "# Let's actually detect some outliers\n",
    "Where is our bad data?"
   ]
  },
  {
   "cell_type": "code",
   "execution_count": 145,
   "metadata": {
    "collapsed": true
   },
   "outputs": [],
   "source": [
    "nba_df = pd.read_csv(\"nba.csv\")"
   ]
  },
  {
   "cell_type": "code",
   "execution_count": 146,
   "metadata": {
    "collapsed": false
   },
   "outputs": [
    {
     "data": {
      "text/html": [
       "<div>\n",
       "<table border=\"1\" class=\"dataframe\">\n",
       "  <thead>\n",
       "    <tr style=\"text-align: right;\">\n",
       "      <th></th>\n",
       "      <th>Name</th>\n",
       "      <th>Age</th>\n",
       "      <th>Team</th>\n",
       "      <th>POS</th>\n",
       "      <th>#</th>\n",
       "      <th>2013 $</th>\n",
       "      <th>Ht (In.)</th>\n",
       "      <th>WT</th>\n",
       "      <th>EXP</th>\n",
       "      <th>1st Year</th>\n",
       "      <th>DOB</th>\n",
       "      <th>School</th>\n",
       "      <th>City</th>\n",
       "      <th>State (Province, Territory, Etc..)</th>\n",
       "      <th>Country</th>\n",
       "      <th>Race</th>\n",
       "      <th>HS Only</th>\n",
       "    </tr>\n",
       "  </thead>\n",
       "  <tbody>\n",
       "    <tr>\n",
       "      <th>0</th>\n",
       "      <td>Gee, Alonzo</td>\n",
       "      <td>26</td>\n",
       "      <td>Cavaliers</td>\n",
       "      <td>F</td>\n",
       "      <td>33</td>\n",
       "      <td>$3,250,000</td>\n",
       "      <td>78</td>\n",
       "      <td>219</td>\n",
       "      <td>4</td>\n",
       "      <td>2009</td>\n",
       "      <td>5/29/1987</td>\n",
       "      <td>Alabama</td>\n",
       "      <td>Riviera Beach, FL</td>\n",
       "      <td>Florida</td>\n",
       "      <td>US</td>\n",
       "      <td>Black</td>\n",
       "      <td>No</td>\n",
       "    </tr>\n",
       "    <tr>\n",
       "      <th>1</th>\n",
       "      <td>Wallace, Gerald</td>\n",
       "      <td>31</td>\n",
       "      <td>Celtics</td>\n",
       "      <td>F</td>\n",
       "      <td>45</td>\n",
       "      <td>$10,105,855</td>\n",
       "      <td>79</td>\n",
       "      <td>220</td>\n",
       "      <td>12</td>\n",
       "      <td>2001</td>\n",
       "      <td>7/23/1982</td>\n",
       "      <td>Alabama</td>\n",
       "      <td>Sylacauga, AL</td>\n",
       "      <td>Alabama</td>\n",
       "      <td>US</td>\n",
       "      <td>Black</td>\n",
       "      <td>No</td>\n",
       "    </tr>\n",
       "    <tr>\n",
       "      <th>2</th>\n",
       "      <td>Williams, Mo</td>\n",
       "      <td>30</td>\n",
       "      <td>Trail Blazers</td>\n",
       "      <td>G</td>\n",
       "      <td>25</td>\n",
       "      <td>$2,652,000</td>\n",
       "      <td>73</td>\n",
       "      <td>195</td>\n",
       "      <td>10</td>\n",
       "      <td>2003</td>\n",
       "      <td>12/19/1982</td>\n",
       "      <td>Alabama</td>\n",
       "      <td>Jackson, MS</td>\n",
       "      <td>Mississippi</td>\n",
       "      <td>US</td>\n",
       "      <td>Black</td>\n",
       "      <td>No</td>\n",
       "    </tr>\n",
       "    <tr>\n",
       "      <th>3</th>\n",
       "      <td>Gladness, Mickell</td>\n",
       "      <td>27</td>\n",
       "      <td>Magic</td>\n",
       "      <td>C</td>\n",
       "      <td>40</td>\n",
       "      <td>$762,195</td>\n",
       "      <td>83</td>\n",
       "      <td>220</td>\n",
       "      <td>2</td>\n",
       "      <td>2011</td>\n",
       "      <td>7/26/1986</td>\n",
       "      <td>Alabama A&amp;M</td>\n",
       "      <td>Birmingham, AL</td>\n",
       "      <td>Alabama</td>\n",
       "      <td>US</td>\n",
       "      <td>Black</td>\n",
       "      <td>No</td>\n",
       "    </tr>\n",
       "    <tr>\n",
       "      <th>4</th>\n",
       "      <td>Jefferson, Richard</td>\n",
       "      <td>33</td>\n",
       "      <td>Jazz</td>\n",
       "      <td>F</td>\n",
       "      <td>44</td>\n",
       "      <td>$11,046,000</td>\n",
       "      <td>79</td>\n",
       "      <td>230</td>\n",
       "      <td>12</td>\n",
       "      <td>2001</td>\n",
       "      <td>6/21/1980</td>\n",
       "      <td>Arizona</td>\n",
       "      <td>Los Angeles, CA</td>\n",
       "      <td>California</td>\n",
       "      <td>US</td>\n",
       "      <td>Black</td>\n",
       "      <td>No</td>\n",
       "    </tr>\n",
       "    <tr>\n",
       "      <th>5</th>\n",
       "      <td>Hill, Solomon</td>\n",
       "      <td>22</td>\n",
       "      <td>Pacers</td>\n",
       "      <td>F</td>\n",
       "      <td>9</td>\n",
       "      <td>$1,246,680</td>\n",
       "      <td>79</td>\n",
       "      <td>220</td>\n",
       "      <td>0</td>\n",
       "      <td>2013</td>\n",
       "      <td>3/18/1991</td>\n",
       "      <td>Arizona</td>\n",
       "      <td>Los Angeles, CA</td>\n",
       "      <td>California</td>\n",
       "      <td>US</td>\n",
       "      <td>Black</td>\n",
       "      <td>No</td>\n",
       "    </tr>\n",
       "    <tr>\n",
       "      <th>6</th>\n",
       "      <td>Budinger, Chase</td>\n",
       "      <td>25</td>\n",
       "      <td>Timberwolves</td>\n",
       "      <td>F</td>\n",
       "      <td>10</td>\n",
       "      <td>$5,000,000</td>\n",
       "      <td>79</td>\n",
       "      <td>218</td>\n",
       "      <td>4</td>\n",
       "      <td>2009</td>\n",
       "      <td>5/22/1988</td>\n",
       "      <td>Arizona</td>\n",
       "      <td>Encinitas, CA</td>\n",
       "      <td>California</td>\n",
       "      <td>US</td>\n",
       "      <td>White</td>\n",
       "      <td>No</td>\n",
       "    </tr>\n",
       "    <tr>\n",
       "      <th>7</th>\n",
       "      <td>Williams, Derrick</td>\n",
       "      <td>22</td>\n",
       "      <td>Timberwolves</td>\n",
       "      <td>F</td>\n",
       "      <td>7</td>\n",
       "      <td>$5,016,960</td>\n",
       "      <td>80</td>\n",
       "      <td>241</td>\n",
       "      <td>2</td>\n",
       "      <td>2011</td>\n",
       "      <td>5/25/1991</td>\n",
       "      <td>Arizona</td>\n",
       "      <td>La Mirada, CA</td>\n",
       "      <td>California</td>\n",
       "      <td>US</td>\n",
       "      <td>Black</td>\n",
       "      <td>No</td>\n",
       "    </tr>\n",
       "    <tr>\n",
       "      <th>8</th>\n",
       "      <td>Hill, Jordan</td>\n",
       "      <td>26</td>\n",
       "      <td>Lakers</td>\n",
       "      <td>F/C</td>\n",
       "      <td>27</td>\n",
       "      <td>$3,563,600</td>\n",
       "      <td>82</td>\n",
       "      <td>235</td>\n",
       "      <td>1</td>\n",
       "      <td>2012</td>\n",
       "      <td>7/27/1987</td>\n",
       "      <td>Arizona</td>\n",
       "      <td>Newberry, SC</td>\n",
       "      <td>South Carolina</td>\n",
       "      <td>US</td>\n",
       "      <td>Black</td>\n",
       "      <td>No</td>\n",
       "    </tr>\n",
       "    <tr>\n",
       "      <th>9</th>\n",
       "      <td>Frye, Channing</td>\n",
       "      <td>30</td>\n",
       "      <td>Suns</td>\n",
       "      <td>F/C</td>\n",
       "      <td>8</td>\n",
       "      <td>$6,500,000</td>\n",
       "      <td>83</td>\n",
       "      <td>245</td>\n",
       "      <td>8</td>\n",
       "      <td>2005</td>\n",
       "      <td>5/17/1983</td>\n",
       "      <td>Arizona</td>\n",
       "      <td>White Plains, NY</td>\n",
       "      <td>New York</td>\n",
       "      <td>US</td>\n",
       "      <td>Black</td>\n",
       "      <td>No</td>\n",
       "    </tr>\n",
       "    <tr>\n",
       "      <th>10</th>\n",
       "      <td>Bayless, Jerryd</td>\n",
       "      <td>25</td>\n",
       "      <td>Grizzlies</td>\n",
       "      <td>G</td>\n",
       "      <td>7</td>\n",
       "      <td>$3,135,000</td>\n",
       "      <td>75</td>\n",
       "      <td>200</td>\n",
       "      <td>5</td>\n",
       "      <td>2008</td>\n",
       "      <td>8/20/1988</td>\n",
       "      <td>Arizona</td>\n",
       "      <td>Phoenix, AZ</td>\n",
       "      <td>Arizona</td>\n",
       "      <td>US</td>\n",
       "      <td>Black</td>\n",
       "      <td>No</td>\n",
       "    </tr>\n",
       "    <tr>\n",
       "      <th>11</th>\n",
       "      <td>Terry, Jason</td>\n",
       "      <td>36</td>\n",
       "      <td>Nets</td>\n",
       "      <td>G</td>\n",
       "      <td>31</td>\n",
       "      <td>$5,625,313</td>\n",
       "      <td>74</td>\n",
       "      <td>180</td>\n",
       "      <td>14</td>\n",
       "      <td>1999</td>\n",
       "      <td>9/15/1977</td>\n",
       "      <td>Arizona</td>\n",
       "      <td>Seattle, WA</td>\n",
       "      <td>Washington</td>\n",
       "      <td>US</td>\n",
       "      <td>Black</td>\n",
       "      <td>No</td>\n",
       "    </tr>\n",
       "    <tr>\n",
       "      <th>12</th>\n",
       "      <td>Fogg, Kyle</td>\n",
       "      <td>23</td>\n",
       "      <td>Nuggets</td>\n",
       "      <td>G</td>\n",
       "      <td>6</td>\n",
       "      <td>n/a</td>\n",
       "      <td>75</td>\n",
       "      <td>183</td>\n",
       "      <td>0</td>\n",
       "      <td>2013</td>\n",
       "      <td>1/27/1990</td>\n",
       "      <td>Arizona</td>\n",
       "      <td>Brea, CA</td>\n",
       "      <td>California</td>\n",
       "      <td>US</td>\n",
       "      <td>Black</td>\n",
       "      <td>No</td>\n",
       "    </tr>\n",
       "    <tr>\n",
       "      <th>13</th>\n",
       "      <td>Iguodala, Andre</td>\n",
       "      <td>29</td>\n",
       "      <td>Warriors</td>\n",
       "      <td>G/F</td>\n",
       "      <td>9</td>\n",
       "      <td>$12,868,632</td>\n",
       "      <td>78</td>\n",
       "      <td>207</td>\n",
       "      <td>9</td>\n",
       "      <td>2004</td>\n",
       "      <td>1/28/1984</td>\n",
       "      <td>Arizona</td>\n",
       "      <td>Springfield, IL</td>\n",
       "      <td>Illinois</td>\n",
       "      <td>US</td>\n",
       "      <td>Black</td>\n",
       "      <td>No</td>\n",
       "    </tr>\n",
       "    <tr>\n",
       "      <th>14</th>\n",
       "      <td>Boateng, Eric</td>\n",
       "      <td>27</td>\n",
       "      <td>Lakers</td>\n",
       "      <td>C</td>\n",
       "      <td>12</td>\n",
       "      <td>n/a</td>\n",
       "      <td>82</td>\n",
       "      <td>257</td>\n",
       "      <td>17</td>\n",
       "      <td>1996</td>\n",
       "      <td>11/20/1985</td>\n",
       "      <td>Arizona State</td>\n",
       "      <td>London, ENG</td>\n",
       "      <td>n/a</td>\n",
       "      <td>England</td>\n",
       "      <td>Black</td>\n",
       "      <td>No</td>\n",
       "    </tr>\n",
       "    <tr>\n",
       "      <th>15</th>\n",
       "      <td>Diogu, Ike</td>\n",
       "      <td>29</td>\n",
       "      <td>Knicks</td>\n",
       "      <td>F/C</td>\n",
       "      <td>50</td>\n",
       "      <td>$792,377</td>\n",
       "      <td>80</td>\n",
       "      <td>255</td>\n",
       "      <td>8</td>\n",
       "      <td>2005</td>\n",
       "      <td>11/9/1983</td>\n",
       "      <td>Arizona State</td>\n",
       "      <td>Buffalo, NY</td>\n",
       "      <td>New York</td>\n",
       "      <td>US</td>\n",
       "      <td>Black</td>\n",
       "      <td>No</td>\n",
       "    </tr>\n",
       "    <tr>\n",
       "      <th>16</th>\n",
       "      <td>Ayres, Jeff</td>\n",
       "      <td>26</td>\n",
       "      <td>Spurs</td>\n",
       "      <td>F/C</td>\n",
       "      <td>11</td>\n",
       "      <td>$1,750,000</td>\n",
       "      <td>81</td>\n",
       "      <td>250</td>\n",
       "      <td>4</td>\n",
       "      <td>2009</td>\n",
       "      <td>4/29/1987</td>\n",
       "      <td>Arizona State</td>\n",
       "      <td>Ontario, CA</td>\n",
       "      <td>California</td>\n",
       "      <td>US</td>\n",
       "      <td>Black</td>\n",
       "      <td>No</td>\n",
       "    </tr>\n",
       "    <tr>\n",
       "      <th>17</th>\n",
       "      <td>Harden, James</td>\n",
       "      <td>24</td>\n",
       "      <td>Rockets</td>\n",
       "      <td>G</td>\n",
       "      <td>13</td>\n",
       "      <td>$13,701,250</td>\n",
       "      <td>77</td>\n",
       "      <td>220</td>\n",
       "      <td>4</td>\n",
       "      <td>2009</td>\n",
       "      <td>8/26/1989</td>\n",
       "      <td>Arizona State</td>\n",
       "      <td>Los Angeles, CA</td>\n",
       "      <td>California</td>\n",
       "      <td>US</td>\n",
       "      <td>Black</td>\n",
       "      <td>No</td>\n",
       "    </tr>\n",
       "    <tr>\n",
       "      <th>18</th>\n",
       "      <td>Felix, Carrick</td>\n",
       "      <td>23</td>\n",
       "      <td>Cavaliers</td>\n",
       "      <td>G/F</td>\n",
       "      <td>30</td>\n",
       "      <td>$510,000</td>\n",
       "      <td>78</td>\n",
       "      <td>210</td>\n",
       "      <td>0</td>\n",
       "      <td>2013</td>\n",
       "      <td>8/17/1990</td>\n",
       "      <td>Arizona State</td>\n",
       "      <td>Goodyear, AZ</td>\n",
       "      <td>Arizona</td>\n",
       "      <td>US</td>\n",
       "      <td>Black</td>\n",
       "      <td>No</td>\n",
       "    </tr>\n",
       "    <tr>\n",
       "      <th>19</th>\n",
       "      <td>Pargo, Jannero</td>\n",
       "      <td>33</td>\n",
       "      <td>Bobcats</td>\n",
       "      <td>G</td>\n",
       "      <td>5</td>\n",
       "      <td>$884,293</td>\n",
       "      <td>73</td>\n",
       "      <td>185</td>\n",
       "      <td>11</td>\n",
       "      <td>2002</td>\n",
       "      <td>10/22/1979</td>\n",
       "      <td>Arkansas</td>\n",
       "      <td>Chicago, IL</td>\n",
       "      <td>Illinois</td>\n",
       "      <td>US</td>\n",
       "      <td>Black</td>\n",
       "      <td>No</td>\n",
       "    </tr>\n",
       "    <tr>\n",
       "      <th>20</th>\n",
       "      <td>Beverley, Patrick</td>\n",
       "      <td>25</td>\n",
       "      <td>Rockets</td>\n",
       "      <td>G</td>\n",
       "      <td>2</td>\n",
       "      <td>$788,872</td>\n",
       "      <td>73</td>\n",
       "      <td>185</td>\n",
       "      <td>5</td>\n",
       "      <td>2008</td>\n",
       "      <td>7/12/1988</td>\n",
       "      <td>Arkansas</td>\n",
       "      <td>Chicago, IL</td>\n",
       "      <td>Illinois</td>\n",
       "      <td>US</td>\n",
       "      <td>Black</td>\n",
       "      <td>No</td>\n",
       "    </tr>\n",
       "    <tr>\n",
       "      <th>21</th>\n",
       "      <td>Johnson, Joe</td>\n",
       "      <td>32</td>\n",
       "      <td>Nets</td>\n",
       "      <td>G/F</td>\n",
       "      <td>7</td>\n",
       "      <td>$21,466,718</td>\n",
       "      <td>79</td>\n",
       "      <td>240</td>\n",
       "      <td>12</td>\n",
       "      <td>2001</td>\n",
       "      <td>6/29/1981</td>\n",
       "      <td>Arkansas</td>\n",
       "      <td>Little Rock, AR</td>\n",
       "      <td>Arkansas</td>\n",
       "      <td>US</td>\n",
       "      <td>Black</td>\n",
       "      <td>No</td>\n",
       "    </tr>\n",
       "    <tr>\n",
       "      <th>22</th>\n",
       "      <td>Brewer, Ronnie</td>\n",
       "      <td>28</td>\n",
       "      <td>Rockets</td>\n",
       "      <td>G/F</td>\n",
       "      <td>10</td>\n",
       "      <td>$1,186,459</td>\n",
       "      <td>79</td>\n",
       "      <td>235</td>\n",
       "      <td>7</td>\n",
       "      <td>2006</td>\n",
       "      <td>3/20/1985</td>\n",
       "      <td>Arkansas</td>\n",
       "      <td>Portland, OR</td>\n",
       "      <td>Oregon</td>\n",
       "      <td>US</td>\n",
       "      <td>Black</td>\n",
       "      <td>No</td>\n",
       "    </tr>\n",
       "    <tr>\n",
       "      <th>23</th>\n",
       "      <td>Fisher, Derek</td>\n",
       "      <td>39</td>\n",
       "      <td>Thunder</td>\n",
       "      <td>G</td>\n",
       "      <td>6</td>\n",
       "      <td>$884,293</td>\n",
       "      <td>73</td>\n",
       "      <td>210</td>\n",
       "      <td>17</td>\n",
       "      <td>1996</td>\n",
       "      <td>8/9/1974</td>\n",
       "      <td>Arkansas-Little Rock</td>\n",
       "      <td>Little Rock, AR</td>\n",
       "      <td>Arkansas</td>\n",
       "      <td>US</td>\n",
       "      <td>Black</td>\n",
       "      <td>No</td>\n",
       "    </tr>\n",
       "    <tr>\n",
       "      <th>24</th>\n",
       "      <td>Miller, Quincy</td>\n",
       "      <td>20</td>\n",
       "      <td>Nuggets</td>\n",
       "      <td>F</td>\n",
       "      <td>30</td>\n",
       "      <td>$788,872</td>\n",
       "      <td>81</td>\n",
       "      <td>210</td>\n",
       "      <td>1</td>\n",
       "      <td>2012</td>\n",
       "      <td>11/18/1992</td>\n",
       "      <td>Baylor</td>\n",
       "      <td>North Carolina, IL</td>\n",
       "      <td>Illinois</td>\n",
       "      <td>US</td>\n",
       "      <td>Black</td>\n",
       "      <td>No</td>\n",
       "    </tr>\n",
       "    <tr>\n",
       "      <th>25</th>\n",
       "      <td>Acy, Quincy</td>\n",
       "      <td>23</td>\n",
       "      <td>Raptors</td>\n",
       "      <td>F</td>\n",
       "      <td>4</td>\n",
       "      <td>$788,872</td>\n",
       "      <td>79</td>\n",
       "      <td>225</td>\n",
       "      <td>1</td>\n",
       "      <td>2012</td>\n",
       "      <td>10/6/1990</td>\n",
       "      <td>Baylor</td>\n",
       "      <td>Tyler, TX</td>\n",
       "      <td>Texas</td>\n",
       "      <td>US</td>\n",
       "      <td>Black</td>\n",
       "      <td>No</td>\n",
       "    </tr>\n",
       "    <tr>\n",
       "      <th>26</th>\n",
       "      <td>Jones, Perry</td>\n",
       "      <td>22</td>\n",
       "      <td>Thunder</td>\n",
       "      <td>F</td>\n",
       "      <td>3</td>\n",
       "      <td>$1,082,520</td>\n",
       "      <td>83</td>\n",
       "      <td>235</td>\n",
       "      <td>1</td>\n",
       "      <td>2012</td>\n",
       "      <td>9/24/1991</td>\n",
       "      <td>Baylor</td>\n",
       "      <td>Winnsboro, LA</td>\n",
       "      <td>Louisiana</td>\n",
       "      <td>US</td>\n",
       "      <td>Black</td>\n",
       "      <td>No</td>\n",
       "    </tr>\n",
       "    <tr>\n",
       "      <th>27</th>\n",
       "      <td>Udoh, Ekpe</td>\n",
       "      <td>26</td>\n",
       "      <td>Bucks</td>\n",
       "      <td>F/C</td>\n",
       "      <td>5</td>\n",
       "      <td>$4,469,548</td>\n",
       "      <td>82</td>\n",
       "      <td>245</td>\n",
       "      <td>3</td>\n",
       "      <td>2010</td>\n",
       "      <td>5/20/1987</td>\n",
       "      <td>Baylor</td>\n",
       "      <td>Edmond, OK</td>\n",
       "      <td>Oklahoma</td>\n",
       "      <td>US</td>\n",
       "      <td>Black</td>\n",
       "      <td>No</td>\n",
       "    </tr>\n",
       "    <tr>\n",
       "      <th>28</th>\n",
       "      <td>Clark, Ian</td>\n",
       "      <td>22</td>\n",
       "      <td>Jazz</td>\n",
       "      <td>G</td>\n",
       "      <td>21</td>\n",
       "      <td>$490,180</td>\n",
       "      <td>75</td>\n",
       "      <td>175</td>\n",
       "      <td>0</td>\n",
       "      <td>2013</td>\n",
       "      <td>3/7/1991</td>\n",
       "      <td>Belmont</td>\n",
       "      <td>Memphis, TN</td>\n",
       "      <td>Tennessee</td>\n",
       "      <td>US</td>\n",
       "      <td>Black</td>\n",
       "      <td>No</td>\n",
       "    </tr>\n",
       "    <tr>\n",
       "      <th>29</th>\n",
       "      <td>Andersen, Chris</td>\n",
       "      <td>35</td>\n",
       "      <td>Heat</td>\n",
       "      <td>F/C</td>\n",
       "      <td>11</td>\n",
       "      <td>$1,399,507</td>\n",
       "      <td>82</td>\n",
       "      <td>228</td>\n",
       "      <td>12</td>\n",
       "      <td>2001</td>\n",
       "      <td>7/7/1978</td>\n",
       "      <td>Blinn College</td>\n",
       "      <td>Long Beach, CA</td>\n",
       "      <td>California</td>\n",
       "      <td>US</td>\n",
       "      <td>White</td>\n",
       "      <td>No</td>\n",
       "    </tr>\n",
       "    <tr>\n",
       "      <th>...</th>\n",
       "      <td>...</td>\n",
       "      <td>...</td>\n",
       "      <td>...</td>\n",
       "      <td>...</td>\n",
       "      <td>...</td>\n",
       "      <td>...</td>\n",
       "      <td>...</td>\n",
       "      <td>...</td>\n",
       "      <td>...</td>\n",
       "      <td>...</td>\n",
       "      <td>...</td>\n",
       "      <td>...</td>\n",
       "      <td>...</td>\n",
       "      <td>...</td>\n",
       "      <td>...</td>\n",
       "      <td>...</td>\n",
       "      <td>...</td>\n",
       "    </tr>\n",
       "    <tr>\n",
       "      <th>498</th>\n",
       "      <td>Paul, Chris</td>\n",
       "      <td>28</td>\n",
       "      <td>Clippers</td>\n",
       "      <td>G</td>\n",
       "      <td>3</td>\n",
       "      <td>$18,668,431</td>\n",
       "      <td>72</td>\n",
       "      <td>175</td>\n",
       "      <td>8</td>\n",
       "      <td>2005</td>\n",
       "      <td>5/6/1985</td>\n",
       "      <td>Wake Forest</td>\n",
       "      <td>Forsyth County, NC</td>\n",
       "      <td>North Carolina</td>\n",
       "      <td>US</td>\n",
       "      <td>Black</td>\n",
       "      <td>No</td>\n",
       "    </tr>\n",
       "    <tr>\n",
       "      <th>499</th>\n",
       "      <td>Teague, Jeff</td>\n",
       "      <td>25</td>\n",
       "      <td>Hawks</td>\n",
       "      <td>G</td>\n",
       "      <td>0</td>\n",
       "      <td>$8,000,000</td>\n",
       "      <td>74</td>\n",
       "      <td>181</td>\n",
       "      <td>4</td>\n",
       "      <td>2009</td>\n",
       "      <td>6/10/1988</td>\n",
       "      <td>Wake Forest</td>\n",
       "      <td>Indianapolis, IN</td>\n",
       "      <td>Indiana</td>\n",
       "      <td>US</td>\n",
       "      <td>Black</td>\n",
       "      <td>No</td>\n",
       "    </tr>\n",
       "    <tr>\n",
       "      <th>500</th>\n",
       "      <td>Smith, Ish</td>\n",
       "      <td>25</td>\n",
       "      <td>Suns</td>\n",
       "      <td>G</td>\n",
       "      <td>30</td>\n",
       "      <td>$951,463</td>\n",
       "      <td>72</td>\n",
       "      <td>175</td>\n",
       "      <td>3</td>\n",
       "      <td>2010</td>\n",
       "      <td>7/5/1988</td>\n",
       "      <td>Wake Forest</td>\n",
       "      <td>Charlotte, NC</td>\n",
       "      <td>North Carolina</td>\n",
       "      <td>US</td>\n",
       "      <td>Black</td>\n",
       "      <td>No</td>\n",
       "    </tr>\n",
       "    <tr>\n",
       "      <th>501</th>\n",
       "      <td>Duncan, Tim</td>\n",
       "      <td>37</td>\n",
       "      <td>Spurs</td>\n",
       "      <td>F/C</td>\n",
       "      <td>21</td>\n",
       "      <td>$10,361,446</td>\n",
       "      <td>83</td>\n",
       "      <td>255</td>\n",
       "      <td>16</td>\n",
       "      <td>1997</td>\n",
       "      <td>4/25/1976</td>\n",
       "      <td>Wake Forest</td>\n",
       "      <td>Christiansted, VI</td>\n",
       "      <td>Virgin Islands</td>\n",
       "      <td>Virgin Islands</td>\n",
       "      <td>Black</td>\n",
       "      <td>No</td>\n",
       "    </tr>\n",
       "    <tr>\n",
       "      <th>502</th>\n",
       "      <td>Hawes, Spencer</td>\n",
       "      <td>25</td>\n",
       "      <td>76ers</td>\n",
       "      <td>C</td>\n",
       "      <td>0</td>\n",
       "      <td>$6,500,000</td>\n",
       "      <td>85</td>\n",
       "      <td>245</td>\n",
       "      <td>6</td>\n",
       "      <td>2007</td>\n",
       "      <td>4/28/1988</td>\n",
       "      <td>Washington</td>\n",
       "      <td>Seattle, WA</td>\n",
       "      <td>Washington</td>\n",
       "      <td>US</td>\n",
       "      <td>White</td>\n",
       "      <td>No</td>\n",
       "    </tr>\n",
       "    <tr>\n",
       "      <th>503</th>\n",
       "      <td>Wroten, Tony</td>\n",
       "      <td>20</td>\n",
       "      <td>76ers</td>\n",
       "      <td>G</td>\n",
       "      <td>8</td>\n",
       "      <td>$1,160,040</td>\n",
       "      <td>78</td>\n",
       "      <td>205</td>\n",
       "      <td>1</td>\n",
       "      <td>2012</td>\n",
       "      <td>4/13/1993</td>\n",
       "      <td>Washington</td>\n",
       "      <td>Renton, WA</td>\n",
       "      <td>Washington</td>\n",
       "      <td>US</td>\n",
       "      <td>Black</td>\n",
       "      <td>No</td>\n",
       "    </tr>\n",
       "    <tr>\n",
       "      <th>504</th>\n",
       "      <td>Gaddy, Abdul</td>\n",
       "      <td>21</td>\n",
       "      <td>Bobcats</td>\n",
       "      <td>G</td>\n",
       "      <td>10</td>\n",
       "      <td>n/a</td>\n",
       "      <td>75</td>\n",
       "      <td>185</td>\n",
       "      <td>0</td>\n",
       "      <td>2013</td>\n",
       "      <td>1/26/1992</td>\n",
       "      <td>Washington</td>\n",
       "      <td>Tacoma, WA</td>\n",
       "      <td>Washington</td>\n",
       "      <td>US</td>\n",
       "      <td>Black</td>\n",
       "      <td>No</td>\n",
       "    </tr>\n",
       "    <tr>\n",
       "      <th>505</th>\n",
       "      <td>Thomas, Isaiah</td>\n",
       "      <td>24</td>\n",
       "      <td>Kings</td>\n",
       "      <td>G</td>\n",
       "      <td>22</td>\n",
       "      <td>$884,293</td>\n",
       "      <td>69</td>\n",
       "      <td>185</td>\n",
       "      <td>2</td>\n",
       "      <td>2011</td>\n",
       "      <td>2/7/1989</td>\n",
       "      <td>Washington</td>\n",
       "      <td>Tacoma, WA</td>\n",
       "      <td>Washington</td>\n",
       "      <td>US</td>\n",
       "      <td>Black</td>\n",
       "      <td>No</td>\n",
       "    </tr>\n",
       "    <tr>\n",
       "      <th>506</th>\n",
       "      <td>Robinson, Nate</td>\n",
       "      <td>29</td>\n",
       "      <td>Nuggets</td>\n",
       "      <td>G</td>\n",
       "      <td>10</td>\n",
       "      <td>$2,016,000</td>\n",
       "      <td>69</td>\n",
       "      <td>180</td>\n",
       "      <td>8</td>\n",
       "      <td>2005</td>\n",
       "      <td>5/31/1984</td>\n",
       "      <td>Washington</td>\n",
       "      <td>Seattle, WA</td>\n",
       "      <td>Washington</td>\n",
       "      <td>US</td>\n",
       "      <td>Black</td>\n",
       "      <td>No</td>\n",
       "    </tr>\n",
       "    <tr>\n",
       "      <th>507</th>\n",
       "      <td>Ross, Terrence</td>\n",
       "      <td>22</td>\n",
       "      <td>Raptors</td>\n",
       "      <td>G</td>\n",
       "      <td>31</td>\n",
       "      <td>$2,678,640</td>\n",
       "      <td>78</td>\n",
       "      <td>195</td>\n",
       "      <td>1</td>\n",
       "      <td>2012</td>\n",
       "      <td>2/5/1991</td>\n",
       "      <td>Washington</td>\n",
       "      <td>Portland, OR</td>\n",
       "      <td>Oregon</td>\n",
       "      <td>US</td>\n",
       "      <td>Black</td>\n",
       "      <td>No</td>\n",
       "    </tr>\n",
       "    <tr>\n",
       "      <th>508</th>\n",
       "      <td>Pondexter, Quincy</td>\n",
       "      <td>25</td>\n",
       "      <td>Grizzlies</td>\n",
       "      <td>G/F</td>\n",
       "      <td>20</td>\n",
       "      <td>$225,479</td>\n",
       "      <td>78</td>\n",
       "      <td>225</td>\n",
       "      <td>3</td>\n",
       "      <td>2010</td>\n",
       "      <td>3/10/1988</td>\n",
       "      <td>Washington</td>\n",
       "      <td>Fresno, CA</td>\n",
       "      <td>California</td>\n",
       "      <td>US</td>\n",
       "      <td>Black</td>\n",
       "      <td>No</td>\n",
       "    </tr>\n",
       "    <tr>\n",
       "      <th>509</th>\n",
       "      <td>Holiday, Justin</td>\n",
       "      <td>24</td>\n",
       "      <td>Jazz</td>\n",
       "      <td>G/F</td>\n",
       "      <td>22</td>\n",
       "      <td>$788,872</td>\n",
       "      <td>78</td>\n",
       "      <td>185</td>\n",
       "      <td>0</td>\n",
       "      <td>2013</td>\n",
       "      <td>4/5/1989</td>\n",
       "      <td>Washington</td>\n",
       "      <td>Mission Hills, CA</td>\n",
       "      <td>California</td>\n",
       "      <td>US</td>\n",
       "      <td>Black</td>\n",
       "      <td>No</td>\n",
       "    </tr>\n",
       "    <tr>\n",
       "      <th>510</th>\n",
       "      <td>Baynes, Aron</td>\n",
       "      <td>26</td>\n",
       "      <td>Spurs</td>\n",
       "      <td>F/C</td>\n",
       "      <td>16</td>\n",
       "      <td>$788,872</td>\n",
       "      <td>82</td>\n",
       "      <td>260</td>\n",
       "      <td>0</td>\n",
       "      <td>2013</td>\n",
       "      <td>12/9/1986</td>\n",
       "      <td>Washington State</td>\n",
       "      <td>Gisborne, NZ</td>\n",
       "      <td>n/a</td>\n",
       "      <td>New Zealand</td>\n",
       "      <td>White</td>\n",
       "      <td>No</td>\n",
       "    </tr>\n",
       "    <tr>\n",
       "      <th>511</th>\n",
       "      <td>Thompson, Klay</td>\n",
       "      <td>23</td>\n",
       "      <td>Warriors</td>\n",
       "      <td>G/F</td>\n",
       "      <td>11</td>\n",
       "      <td>$2,317,920</td>\n",
       "      <td>79</td>\n",
       "      <td>205</td>\n",
       "      <td>2</td>\n",
       "      <td>2011</td>\n",
       "      <td>2/8/1990</td>\n",
       "      <td>Washington State</td>\n",
       "      <td>Los Angeles, CA</td>\n",
       "      <td>California</td>\n",
       "      <td>US</td>\n",
       "      <td>Mixed</td>\n",
       "      <td>No</td>\n",
       "    </tr>\n",
       "    <tr>\n",
       "      <th>512</th>\n",
       "      <td>Lillard, Damian</td>\n",
       "      <td>23</td>\n",
       "      <td>Trail Blazers</td>\n",
       "      <td>G</td>\n",
       "      <td>0</td>\n",
       "      <td>$3,202,920</td>\n",
       "      <td>75</td>\n",
       "      <td>195</td>\n",
       "      <td>1</td>\n",
       "      <td>2012</td>\n",
       "      <td>7/15/1990</td>\n",
       "      <td>Weber State</td>\n",
       "      <td>Oakland, CA</td>\n",
       "      <td>California</td>\n",
       "      <td>US</td>\n",
       "      <td>Black</td>\n",
       "      <td>No</td>\n",
       "    </tr>\n",
       "    <tr>\n",
       "      <th>513</th>\n",
       "      <td>Alexander, Joe</td>\n",
       "      <td>26</td>\n",
       "      <td>Warriors</td>\n",
       "      <td>F</td>\n",
       "      <td>25</td>\n",
       "      <td>$854,389</td>\n",
       "      <td>80</td>\n",
       "      <td>230</td>\n",
       "      <td>5</td>\n",
       "      <td>2008</td>\n",
       "      <td>12/26/1986</td>\n",
       "      <td>West Virginia</td>\n",
       "      <td>Kaohsiung, TA</td>\n",
       "      <td>n/a</td>\n",
       "      <td>Taiwan</td>\n",
       "      <td>White</td>\n",
       "      <td>No</td>\n",
       "    </tr>\n",
       "    <tr>\n",
       "      <th>514</th>\n",
       "      <td>Fischer, D'or</td>\n",
       "      <td>32</td>\n",
       "      <td>Wizards</td>\n",
       "      <td>C</td>\n",
       "      <td>21</td>\n",
       "      <td>n/a</td>\n",
       "      <td>83</td>\n",
       "      <td>255</td>\n",
       "      <td>0</td>\n",
       "      <td>2013</td>\n",
       "      <td>10/12/1981</td>\n",
       "      <td>West Virginia</td>\n",
       "      <td>Philadelphia, PA</td>\n",
       "      <td>Pennsylvania</td>\n",
       "      <td>US</td>\n",
       "      <td>Black</td>\n",
       "      <td>No</td>\n",
       "    </tr>\n",
       "    <tr>\n",
       "      <th>515</th>\n",
       "      <td>Ebanks, Devin</td>\n",
       "      <td>23</td>\n",
       "      <td>Mavericks</td>\n",
       "      <td>F</td>\n",
       "      <td>37</td>\n",
       "      <td>$884,293</td>\n",
       "      <td>81</td>\n",
       "      <td>215</td>\n",
       "      <td>3</td>\n",
       "      <td>2010</td>\n",
       "      <td>10/28/1989</td>\n",
       "      <td>West Virginia</td>\n",
       "      <td>New York City, NY</td>\n",
       "      <td>New York</td>\n",
       "      <td>US</td>\n",
       "      <td>Black</td>\n",
       "      <td>No</td>\n",
       "    </tr>\n",
       "    <tr>\n",
       "      <th>516</th>\n",
       "      <td>Johnson, Amir</td>\n",
       "      <td>26</td>\n",
       "      <td>Raptors</td>\n",
       "      <td>F/C</td>\n",
       "      <td>15</td>\n",
       "      <td>$6,500,000</td>\n",
       "      <td>81</td>\n",
       "      <td>210</td>\n",
       "      <td>8</td>\n",
       "      <td>2005</td>\n",
       "      <td>5/1/1987</td>\n",
       "      <td>Westchester HS (CA)</td>\n",
       "      <td>Los Angeles, CA</td>\n",
       "      <td>California</td>\n",
       "      <td>US</td>\n",
       "      <td>Black</td>\n",
       "      <td>Yes</td>\n",
       "    </tr>\n",
       "    <tr>\n",
       "      <th>517</th>\n",
       "      <td>Martin, Kevin</td>\n",
       "      <td>30</td>\n",
       "      <td>Timberwolves</td>\n",
       "      <td>G</td>\n",
       "      <td>23</td>\n",
       "      <td>$6,500,000</td>\n",
       "      <td>79</td>\n",
       "      <td>185</td>\n",
       "      <td>9</td>\n",
       "      <td>2004</td>\n",
       "      <td>2/1/1983</td>\n",
       "      <td>Western Carolina</td>\n",
       "      <td>Zanesville, OH</td>\n",
       "      <td>Ohio</td>\n",
       "      <td>US</td>\n",
       "      <td>Mixed</td>\n",
       "      <td>No</td>\n",
       "    </tr>\n",
       "    <tr>\n",
       "      <th>518</th>\n",
       "      <td>Evans, Jeremy</td>\n",
       "      <td>25</td>\n",
       "      <td>Jazz</td>\n",
       "      <td>F</td>\n",
       "      <td>40</td>\n",
       "      <td>$1,660,257</td>\n",
       "      <td>81</td>\n",
       "      <td>194</td>\n",
       "      <td>3</td>\n",
       "      <td>2010</td>\n",
       "      <td>10/24/1987</td>\n",
       "      <td>Western Kentucky</td>\n",
       "      <td>Crossett, AR</td>\n",
       "      <td>Arkansas</td>\n",
       "      <td>US</td>\n",
       "      <td>Black</td>\n",
       "      <td>No</td>\n",
       "    </tr>\n",
       "    <tr>\n",
       "      <th>519</th>\n",
       "      <td>Lee, Courtney</td>\n",
       "      <td>28</td>\n",
       "      <td>Celtics</td>\n",
       "      <td>G/F</td>\n",
       "      <td>11</td>\n",
       "      <td>$5,225,000</td>\n",
       "      <td>77</td>\n",
       "      <td>200</td>\n",
       "      <td>5</td>\n",
       "      <td>2008</td>\n",
       "      <td>10/3/1985</td>\n",
       "      <td>Western Kentucky</td>\n",
       "      <td>Indianapolis, IN</td>\n",
       "      <td>Indiana</td>\n",
       "      <td>US</td>\n",
       "      <td>Black</td>\n",
       "      <td>No</td>\n",
       "    </tr>\n",
       "    <tr>\n",
       "      <th>520</th>\n",
       "      <td>Mekel, Gal</td>\n",
       "      <td>25</td>\n",
       "      <td>Mavericks</td>\n",
       "      <td>G</td>\n",
       "      <td>33</td>\n",
       "      <td>$490,180</td>\n",
       "      <td>75</td>\n",
       "      <td>191</td>\n",
       "      <td>5</td>\n",
       "      <td>2008</td>\n",
       "      <td>3/4/1988</td>\n",
       "      <td>Wichita State</td>\n",
       "      <td>Petah Tikva</td>\n",
       "      <td>n/a</td>\n",
       "      <td>Israel</td>\n",
       "      <td>White</td>\n",
       "      <td>No</td>\n",
       "    </tr>\n",
       "    <tr>\n",
       "      <th>521</th>\n",
       "      <td>Murry, Toure'</td>\n",
       "      <td>23</td>\n",
       "      <td>Knicks</td>\n",
       "      <td>G/F</td>\n",
       "      <td>23</td>\n",
       "      <td>$490,180</td>\n",
       "      <td>77</td>\n",
       "      <td>195</td>\n",
       "      <td>0</td>\n",
       "      <td>2013</td>\n",
       "      <td>11/8/1989</td>\n",
       "      <td>Wichita State</td>\n",
       "      <td>Houston, TX</td>\n",
       "      <td>Texas</td>\n",
       "      <td>US</td>\n",
       "      <td>Black</td>\n",
       "      <td>No</td>\n",
       "    </tr>\n",
       "    <tr>\n",
       "      <th>522</th>\n",
       "      <td>Stiemsma, Greg</td>\n",
       "      <td>28</td>\n",
       "      <td>Pelicans</td>\n",
       "      <td>C</td>\n",
       "      <td>34</td>\n",
       "      <td>$2,676,000</td>\n",
       "      <td>83</td>\n",
       "      <td>260</td>\n",
       "      <td>2</td>\n",
       "      <td>2011</td>\n",
       "      <td>9/26/1985</td>\n",
       "      <td>Wisconsin</td>\n",
       "      <td>Randolph, WI</td>\n",
       "      <td>Wisconsin</td>\n",
       "      <td>US</td>\n",
       "      <td>White</td>\n",
       "      <td>No</td>\n",
       "    </tr>\n",
       "    <tr>\n",
       "      <th>523</th>\n",
       "      <td>Leuer, Jon</td>\n",
       "      <td>24</td>\n",
       "      <td>Grizzlies</td>\n",
       "      <td>F</td>\n",
       "      <td>30</td>\n",
       "      <td>$900,000</td>\n",
       "      <td>82</td>\n",
       "      <td>228</td>\n",
       "      <td>2</td>\n",
       "      <td>2011</td>\n",
       "      <td>5/14/1989</td>\n",
       "      <td>Wisconsin</td>\n",
       "      <td>Long Lake, MN</td>\n",
       "      <td>Minnesota</td>\n",
       "      <td>US</td>\n",
       "      <td>White</td>\n",
       "      <td>No</td>\n",
       "    </tr>\n",
       "    <tr>\n",
       "      <th>524</th>\n",
       "      <td>Landry, Marcus</td>\n",
       "      <td>27</td>\n",
       "      <td>Lakers</td>\n",
       "      <td>F</td>\n",
       "      <td>14</td>\n",
       "      <td>$788,872</td>\n",
       "      <td>79</td>\n",
       "      <td>225</td>\n",
       "      <td>17</td>\n",
       "      <td>1996</td>\n",
       "      <td>11/1/1985</td>\n",
       "      <td>Wisconsin</td>\n",
       "      <td>Milwaukee, WI</td>\n",
       "      <td>Wisconsin</td>\n",
       "      <td>US</td>\n",
       "      <td>Black</td>\n",
       "      <td>No</td>\n",
       "    </tr>\n",
       "    <tr>\n",
       "      <th>525</th>\n",
       "      <td>Harris, Devin</td>\n",
       "      <td>30</td>\n",
       "      <td>Mavericks</td>\n",
       "      <td>G</td>\n",
       "      <td>20</td>\n",
       "      <td>$854,389</td>\n",
       "      <td>75</td>\n",
       "      <td>192</td>\n",
       "      <td>9</td>\n",
       "      <td>2004</td>\n",
       "      <td>2/27/1983</td>\n",
       "      <td>Wisconsin</td>\n",
       "      <td>Milwaukee, WI</td>\n",
       "      <td>Wisconsin</td>\n",
       "      <td>US</td>\n",
       "      <td>Black</td>\n",
       "      <td>No</td>\n",
       "    </tr>\n",
       "    <tr>\n",
       "      <th>526</th>\n",
       "      <td>West, David</td>\n",
       "      <td>33</td>\n",
       "      <td>Pacers</td>\n",
       "      <td>F</td>\n",
       "      <td>21</td>\n",
       "      <td>$12,000,000</td>\n",
       "      <td>81</td>\n",
       "      <td>250</td>\n",
       "      <td>10</td>\n",
       "      <td>2003</td>\n",
       "      <td>8/29/1980</td>\n",
       "      <td>Xavier</td>\n",
       "      <td>Teaneck, NJ</td>\n",
       "      <td>New Jersey</td>\n",
       "      <td>US</td>\n",
       "      <td>Black</td>\n",
       "      <td>No</td>\n",
       "    </tr>\n",
       "    <tr>\n",
       "      <th>527</th>\n",
       "      <td>Crawford, Jordan</td>\n",
       "      <td>24</td>\n",
       "      <td>Celtics</td>\n",
       "      <td>G</td>\n",
       "      <td>27</td>\n",
       "      <td>$2,162,419</td>\n",
       "      <td>76</td>\n",
       "      <td>195</td>\n",
       "      <td>3</td>\n",
       "      <td>2010</td>\n",
       "      <td>10/23/1988</td>\n",
       "      <td>Xavier</td>\n",
       "      <td>Detroit, MI</td>\n",
       "      <td>Michigan</td>\n",
       "      <td>US</td>\n",
       "      <td>Black</td>\n",
       "      <td>No</td>\n",
       "    </tr>\n",
       "  </tbody>\n",
       "</table>\n",
       "<p>528 rows × 17 columns</p>\n",
       "</div>"
      ],
      "text/plain": [
       "                   Name  Age           Team  POS   #       2013 $  Ht (In.)  \\\n",
       "0           Gee, Alonzo   26      Cavaliers    F  33   $3,250,000        78   \n",
       "1       Wallace, Gerald   31        Celtics    F  45  $10,105,855        79   \n",
       "2          Williams, Mo   30  Trail Blazers    G  25   $2,652,000        73   \n",
       "3     Gladness, Mickell   27          Magic    C  40     $762,195        83   \n",
       "4    Jefferson, Richard   33           Jazz    F  44  $11,046,000        79   \n",
       "5         Hill, Solomon   22         Pacers    F   9   $1,246,680        79   \n",
       "6       Budinger, Chase   25   Timberwolves    F  10   $5,000,000        79   \n",
       "7     Williams, Derrick   22   Timberwolves    F   7   $5,016,960        80   \n",
       "8          Hill, Jordan   26         Lakers  F/C  27   $3,563,600        82   \n",
       "9        Frye, Channing   30           Suns  F/C   8   $6,500,000        83   \n",
       "10      Bayless, Jerryd   25      Grizzlies    G   7   $3,135,000        75   \n",
       "11         Terry, Jason   36           Nets    G  31   $5,625,313        74   \n",
       "12           Fogg, Kyle   23        Nuggets    G   6          n/a        75   \n",
       "13      Iguodala, Andre   29       Warriors  G/F   9  $12,868,632        78   \n",
       "14        Boateng, Eric   27         Lakers    C  12          n/a        82   \n",
       "15           Diogu, Ike   29         Knicks  F/C  50     $792,377        80   \n",
       "16          Ayres, Jeff   26          Spurs  F/C  11   $1,750,000        81   \n",
       "17        Harden, James   24        Rockets    G  13  $13,701,250        77   \n",
       "18       Felix, Carrick   23      Cavaliers  G/F  30     $510,000        78   \n",
       "19       Pargo, Jannero   33        Bobcats    G   5     $884,293        73   \n",
       "20    Beverley, Patrick   25        Rockets    G   2     $788,872        73   \n",
       "21         Johnson, Joe   32           Nets  G/F   7  $21,466,718        79   \n",
       "22       Brewer, Ronnie   28        Rockets  G/F  10   $1,186,459        79   \n",
       "23        Fisher, Derek   39        Thunder    G   6     $884,293        73   \n",
       "24       Miller, Quincy   20        Nuggets    F  30     $788,872        81   \n",
       "25          Acy, Quincy   23        Raptors    F   4     $788,872        79   \n",
       "26         Jones, Perry   22        Thunder    F   3   $1,082,520        83   \n",
       "27           Udoh, Ekpe   26          Bucks  F/C   5   $4,469,548        82   \n",
       "28           Clark, Ian   22           Jazz    G  21     $490,180        75   \n",
       "29      Andersen, Chris   35           Heat  F/C  11   $1,399,507        82   \n",
       "..                  ...  ...            ...  ...  ..          ...       ...   \n",
       "498         Paul, Chris   28       Clippers    G   3  $18,668,431        72   \n",
       "499        Teague, Jeff   25          Hawks    G   0   $8,000,000        74   \n",
       "500          Smith, Ish   25           Suns    G  30     $951,463        72   \n",
       "501         Duncan, Tim   37          Spurs  F/C  21  $10,361,446        83   \n",
       "502      Hawes, Spencer   25          76ers    C   0   $6,500,000        85   \n",
       "503        Wroten, Tony   20          76ers    G   8   $1,160,040        78   \n",
       "504        Gaddy, Abdul   21        Bobcats    G  10          n/a        75   \n",
       "505      Thomas, Isaiah   24          Kings    G  22     $884,293        69   \n",
       "506      Robinson, Nate   29        Nuggets    G  10   $2,016,000        69   \n",
       "507      Ross, Terrence   22        Raptors    G  31   $2,678,640        78   \n",
       "508   Pondexter, Quincy   25      Grizzlies  G/F  20     $225,479        78   \n",
       "509     Holiday, Justin   24           Jazz  G/F  22     $788,872        78   \n",
       "510        Baynes, Aron   26          Spurs  F/C  16     $788,872        82   \n",
       "511      Thompson, Klay   23       Warriors  G/F  11   $2,317,920        79   \n",
       "512     Lillard, Damian   23  Trail Blazers    G   0   $3,202,920        75   \n",
       "513      Alexander, Joe   26       Warriors    F  25     $854,389        80   \n",
       "514       Fischer, D'or   32        Wizards    C  21          n/a        83   \n",
       "515       Ebanks, Devin   23      Mavericks    F  37     $884,293        81   \n",
       "516       Johnson, Amir   26        Raptors  F/C  15   $6,500,000        81   \n",
       "517       Martin, Kevin   30   Timberwolves    G  23   $6,500,000        79   \n",
       "518       Evans, Jeremy   25           Jazz    F  40   $1,660,257        81   \n",
       "519       Lee, Courtney   28        Celtics  G/F  11   $5,225,000        77   \n",
       "520          Mekel, Gal   25      Mavericks    G  33     $490,180        75   \n",
       "521       Murry, Toure'   23         Knicks  G/F  23     $490,180        77   \n",
       "522      Stiemsma, Greg   28       Pelicans    C  34   $2,676,000        83   \n",
       "523          Leuer, Jon   24      Grizzlies    F  30     $900,000        82   \n",
       "524      Landry, Marcus   27         Lakers    F  14     $788,872        79   \n",
       "525       Harris, Devin   30      Mavericks    G  20     $854,389        75   \n",
       "526         West, David   33         Pacers    F  21  $12,000,000        81   \n",
       "527    Crawford, Jordan   24        Celtics    G  27   $2,162,419        76   \n",
       "\n",
       "      WT  EXP  1st Year         DOB                School                City  \\\n",
       "0    219    4      2009   5/29/1987               Alabama   Riviera Beach, FL   \n",
       "1    220   12      2001   7/23/1982               Alabama       Sylacauga, AL   \n",
       "2    195   10      2003  12/19/1982               Alabama         Jackson, MS   \n",
       "3    220    2      2011   7/26/1986           Alabama A&M      Birmingham, AL   \n",
       "4    230   12      2001   6/21/1980               Arizona     Los Angeles, CA   \n",
       "5    220    0      2013   3/18/1991               Arizona     Los Angeles, CA   \n",
       "6    218    4      2009   5/22/1988               Arizona       Encinitas, CA   \n",
       "7    241    2      2011   5/25/1991               Arizona       La Mirada, CA   \n",
       "8    235    1      2012   7/27/1987               Arizona        Newberry, SC   \n",
       "9    245    8      2005   5/17/1983               Arizona    White Plains, NY   \n",
       "10   200    5      2008   8/20/1988               Arizona         Phoenix, AZ   \n",
       "11   180   14      1999   9/15/1977               Arizona         Seattle, WA   \n",
       "12   183    0      2013   1/27/1990               Arizona            Brea, CA   \n",
       "13   207    9      2004   1/28/1984               Arizona     Springfield, IL   \n",
       "14   257   17      1996  11/20/1985         Arizona State         London, ENG   \n",
       "15   255    8      2005   11/9/1983         Arizona State         Buffalo, NY   \n",
       "16   250    4      2009   4/29/1987         Arizona State         Ontario, CA   \n",
       "17   220    4      2009   8/26/1989         Arizona State     Los Angeles, CA   \n",
       "18   210    0      2013   8/17/1990         Arizona State        Goodyear, AZ   \n",
       "19   185   11      2002  10/22/1979              Arkansas         Chicago, IL   \n",
       "20   185    5      2008   7/12/1988              Arkansas         Chicago, IL   \n",
       "21   240   12      2001   6/29/1981              Arkansas     Little Rock, AR   \n",
       "22   235    7      2006   3/20/1985              Arkansas        Portland, OR   \n",
       "23   210   17      1996    8/9/1974  Arkansas-Little Rock     Little Rock, AR   \n",
       "24   210    1      2012  11/18/1992                Baylor  North Carolina, IL   \n",
       "25   225    1      2012   10/6/1990                Baylor           Tyler, TX   \n",
       "26   235    1      2012   9/24/1991                Baylor       Winnsboro, LA   \n",
       "27   245    3      2010   5/20/1987                Baylor          Edmond, OK   \n",
       "28   175    0      2013    3/7/1991               Belmont         Memphis, TN   \n",
       "29   228   12      2001    7/7/1978         Blinn College      Long Beach, CA   \n",
       "..   ...  ...       ...         ...                   ...                 ...   \n",
       "498  175    8      2005    5/6/1985           Wake Forest  Forsyth County, NC   \n",
       "499  181    4      2009   6/10/1988           Wake Forest    Indianapolis, IN   \n",
       "500  175    3      2010    7/5/1988           Wake Forest       Charlotte, NC   \n",
       "501  255   16      1997   4/25/1976           Wake Forest   Christiansted, VI   \n",
       "502  245    6      2007   4/28/1988            Washington         Seattle, WA   \n",
       "503  205    1      2012   4/13/1993            Washington          Renton, WA   \n",
       "504  185    0      2013   1/26/1992            Washington          Tacoma, WA   \n",
       "505  185    2      2011    2/7/1989            Washington          Tacoma, WA   \n",
       "506  180    8      2005   5/31/1984            Washington         Seattle, WA   \n",
       "507  195    1      2012    2/5/1991            Washington        Portland, OR   \n",
       "508  225    3      2010   3/10/1988            Washington          Fresno, CA   \n",
       "509  185    0      2013    4/5/1989            Washington   Mission Hills, CA   \n",
       "510  260    0      2013   12/9/1986      Washington State        Gisborne, NZ   \n",
       "511  205    2      2011    2/8/1990      Washington State     Los Angeles, CA   \n",
       "512  195    1      2012   7/15/1990           Weber State         Oakland, CA   \n",
       "513  230    5      2008  12/26/1986         West Virginia       Kaohsiung, TA   \n",
       "514  255    0      2013  10/12/1981         West Virginia    Philadelphia, PA   \n",
       "515  215    3      2010  10/28/1989         West Virginia   New York City, NY   \n",
       "516  210    8      2005    5/1/1987   Westchester HS (CA)     Los Angeles, CA   \n",
       "517  185    9      2004    2/1/1983      Western Carolina      Zanesville, OH   \n",
       "518  194    3      2010  10/24/1987      Western Kentucky        Crossett, AR   \n",
       "519  200    5      2008   10/3/1985      Western Kentucky    Indianapolis, IN   \n",
       "520  191    5      2008    3/4/1988         Wichita State         Petah Tikva   \n",
       "521  195    0      2013   11/8/1989         Wichita State         Houston, TX   \n",
       "522  260    2      2011   9/26/1985             Wisconsin        Randolph, WI   \n",
       "523  228    2      2011   5/14/1989             Wisconsin       Long Lake, MN   \n",
       "524  225   17      1996   11/1/1985             Wisconsin       Milwaukee, WI   \n",
       "525  192    9      2004   2/27/1983             Wisconsin       Milwaukee, WI   \n",
       "526  250   10      2003   8/29/1980                Xavier         Teaneck, NJ   \n",
       "527  195    3      2010  10/23/1988                Xavier         Detroit, MI   \n",
       "\n",
       "    State (Province, Territory, Etc..)         Country   Race HS Only  \n",
       "0                              Florida              US  Black      No  \n",
       "1                              Alabama              US  Black      No  \n",
       "2                          Mississippi              US  Black      No  \n",
       "3                              Alabama              US  Black      No  \n",
       "4                           California              US  Black      No  \n",
       "5                           California              US  Black      No  \n",
       "6                           California              US  White      No  \n",
       "7                           California              US  Black      No  \n",
       "8                       South Carolina              US  Black      No  \n",
       "9                             New York              US  Black      No  \n",
       "10                             Arizona              US  Black      No  \n",
       "11                          Washington              US  Black      No  \n",
       "12                          California              US  Black      No  \n",
       "13                            Illinois              US  Black      No  \n",
       "14                                 n/a         England  Black      No  \n",
       "15                            New York              US  Black      No  \n",
       "16                          California              US  Black      No  \n",
       "17                          California              US  Black      No  \n",
       "18                             Arizona              US  Black      No  \n",
       "19                            Illinois              US  Black      No  \n",
       "20                            Illinois              US  Black      No  \n",
       "21                            Arkansas              US  Black      No  \n",
       "22                              Oregon              US  Black      No  \n",
       "23                            Arkansas              US  Black      No  \n",
       "24                            Illinois              US  Black      No  \n",
       "25                               Texas              US  Black      No  \n",
       "26                           Louisiana              US  Black      No  \n",
       "27                            Oklahoma              US  Black      No  \n",
       "28                           Tennessee              US  Black      No  \n",
       "29                          California              US  White      No  \n",
       "..                                 ...             ...    ...     ...  \n",
       "498                     North Carolina              US  Black      No  \n",
       "499                            Indiana              US  Black      No  \n",
       "500                     North Carolina              US  Black      No  \n",
       "501                     Virgin Islands  Virgin Islands  Black      No  \n",
       "502                         Washington              US  White      No  \n",
       "503                         Washington              US  Black      No  \n",
       "504                         Washington              US  Black      No  \n",
       "505                         Washington              US  Black      No  \n",
       "506                         Washington              US  Black      No  \n",
       "507                             Oregon              US  Black      No  \n",
       "508                         California              US  Black      No  \n",
       "509                         California              US  Black      No  \n",
       "510                                n/a     New Zealand  White      No  \n",
       "511                         California              US  Mixed      No  \n",
       "512                         California              US  Black      No  \n",
       "513                                n/a          Taiwan  White      No  \n",
       "514                       Pennsylvania              US  Black      No  \n",
       "515                           New York              US  Black      No  \n",
       "516                         California              US  Black     Yes  \n",
       "517                               Ohio              US  Mixed      No  \n",
       "518                           Arkansas              US  Black      No  \n",
       "519                            Indiana              US  Black      No  \n",
       "520                                n/a          Israel  White      No  \n",
       "521                              Texas              US  Black      No  \n",
       "522                          Wisconsin              US  White      No  \n",
       "523                          Minnesota              US  White      No  \n",
       "524                          Wisconsin              US  Black      No  \n",
       "525                          Wisconsin              US  Black      No  \n",
       "526                         New Jersey              US  Black      No  \n",
       "527                           Michigan              US  Black      No  \n",
       "\n",
       "[528 rows x 17 columns]"
      ]
     },
     "execution_count": 146,
     "metadata": {},
     "output_type": "execute_result"
    }
   ],
   "source": [
    "nba_df"
   ]
  },
  {
   "cell_type": "code",
   "execution_count": 147,
   "metadata": {
    "collapsed": false
   },
   "outputs": [
    {
     "data": {
      "text/plain": [
       "<matplotlib.axes._subplots.AxesSubplot at 0x1109b3be0>"
      ]
     },
     "execution_count": 147,
     "metadata": {},
     "output_type": "execute_result"
    },
    {
     "data": {
      "image/png": "[encoded data removed]",
      "text/plain": [
       "<matplotlib.figure.Figure at 0x1109b3048>"
      ]
     },
     "metadata": {},
     "output_type": "display_data"
    }
   ],
   "source": [
    "nba_df['WT'].hist(bins=20)"
   ]
  },
  {
   "cell_type": "code",
   "execution_count": 148,
   "metadata": {
    "collapsed": false
   },
   "outputs": [
    {
     "data": {
      "text/plain": [
       "count    528.000000\n",
       "mean     221.206439\n",
       "std       27.943169\n",
       "min       20.000000\n",
       "25%      200.000000\n",
       "50%      220.000000\n",
       "75%      240.000000\n",
       "max      290.000000\n",
       "Name: WT, dtype: float64"
      ]
     },
     "execution_count": 148,
     "metadata": {},
     "output_type": "execute_result"
    }
   ],
   "source": [
    "nba_df['WT'].describe()"
   ]
  },
  {
   "cell_type": "code",
   "execution_count": 149,
   "metadata": {
    "collapsed": false
   },
   "outputs": [
    {
     "name": "stdout",
     "output_type": "stream",
     "text": [
      "179.291686276\n",
      "137.376933159\n"
     ]
    }
   ],
   "source": [
    "print(nba_df['WT'].mean() - 1.5 * nba_df['WT'].std())\n",
    "print(nba_df['WT'].mean() - 3 * nba_df['WT'].std())"
   ]
  },
  {
   "cell_type": "code",
   "execution_count": 154,
   "metadata": {
    "collapsed": false
   },
   "outputs": [
    {
     "data": {
      "text/html": [
       "<div>\n",
       "<table border=\"1\" class=\"dataframe\">\n",
       "  <thead>\n",
       "    <tr style=\"text-align: right;\">\n",
       "      <th></th>\n",
       "      <th>Name</th>\n",
       "      <th>Age</th>\n",
       "      <th>Team</th>\n",
       "      <th>POS</th>\n",
       "      <th>#</th>\n",
       "      <th>2013 $</th>\n",
       "      <th>Ht (In.)</th>\n",
       "      <th>WT</th>\n",
       "      <th>EXP</th>\n",
       "      <th>1st Year</th>\n",
       "      <th>DOB</th>\n",
       "      <th>School</th>\n",
       "      <th>City</th>\n",
       "      <th>State (Province, Territory, Etc..)</th>\n",
       "      <th>Country</th>\n",
       "      <th>Race</th>\n",
       "      <th>HS Only</th>\n",
       "    </tr>\n",
       "  </thead>\n",
       "  <tbody>\n",
       "    <tr>\n",
       "      <th>40</th>\n",
       "      <td>Taylor, Jermaine</td>\n",
       "      <td>26</td>\n",
       "      <td>Cavaliers</td>\n",
       "      <td>G</td>\n",
       "      <td>8</td>\n",
       "      <td>$780,871</td>\n",
       "      <td>77</td>\n",
       "      <td>20</td>\n",
       "      <td>4</td>\n",
       "      <td>2009</td>\n",
       "      <td>12/8/1986</td>\n",
       "      <td>Central Florida</td>\n",
       "      <td>Tavares, FL</td>\n",
       "      <td>Florida</td>\n",
       "      <td>US</td>\n",
       "      <td>Black</td>\n",
       "      <td>No</td>\n",
       "    </tr>\n",
       "  </tbody>\n",
       "</table>\n",
       "</div>"
      ],
      "text/plain": [
       "                Name  Age       Team POS  #    2013 $  Ht (In.)  WT  EXP  \\\n",
       "40  Taylor, Jermaine   26  Cavaliers   G  8  $780,871        77  20    4   \n",
       "\n",
       "    1st Year        DOB           School         City  \\\n",
       "40      2009  12/8/1986  Central Florida  Tavares, FL   \n",
       "\n",
       "   State (Province, Territory, Etc..) Country   Race HS Only  \n",
       "40                            Florida      US  Black      No  "
      ]
     },
     "execution_count": 154,
     "metadata": {},
     "output_type": "execute_result"
    }
   ],
   "source": [
    "nba_df[nba_df['WT'] < 140] # only one person in the nba is below 140lbs"
   ]
  },
  {
   "cell_type": "code",
   "execution_count": 155,
   "metadata": {
    "collapsed": false
   },
   "outputs": [
    {
     "name": "stdout",
     "output_type": "stream",
     "text": [
      "305.035945629\n"
     ]
    }
   ],
   "source": [
    "print(nba_df['WT'].mean() + 3 * nba_df['WT'].std())"
   ]
  },
  {
   "cell_type": "code",
   "execution_count": 156,
   "metadata": {
    "collapsed": false
   },
   "outputs": [
    {
     "data": {
      "text/html": [
       "<div>\n",
       "<table border=\"1\" class=\"dataframe\">\n",
       "  <thead>\n",
       "    <tr style=\"text-align: right;\">\n",
       "      <th></th>\n",
       "      <th>Name</th>\n",
       "      <th>Age</th>\n",
       "      <th>Team</th>\n",
       "      <th>POS</th>\n",
       "      <th>#</th>\n",
       "      <th>2013 $</th>\n",
       "      <th>Ht (In.)</th>\n",
       "      <th>WT</th>\n",
       "      <th>EXP</th>\n",
       "      <th>1st Year</th>\n",
       "      <th>DOB</th>\n",
       "      <th>School</th>\n",
       "      <th>City</th>\n",
       "      <th>State (Province, Territory, Etc..)</th>\n",
       "      <th>Country</th>\n",
       "      <th>Race</th>\n",
       "      <th>HS Only</th>\n",
       "    </tr>\n",
       "  </thead>\n",
       "  <tbody>\n",
       "  </tbody>\n",
       "</table>\n",
       "</div>"
      ],
      "text/plain": [
       "Empty DataFrame\n",
       "Columns: [Name, Age, Team, POS, #, 2013 $, Ht (In.), WT, EXP, 1st Year, DOB, School, City, State (Province, Territory, Etc..), Country, Race, HS Only]\n",
       "Index: []"
      ]
     },
     "execution_count": 156,
     "metadata": {},
     "output_type": "execute_result"
    }
   ],
   "source": [
    "nba_df[nba_df['WT'] > 305] # nobody in the NBA is above 305 lbs "
   ]
  },
  {
   "cell_type": "code",
   "execution_count": 158,
   "metadata": {
    "collapsed": false
   },
   "outputs": [
    {
     "data": {
      "text/plain": [
       "<matplotlib.axes._subplots.AxesSubplot at 0x110ed7e48>"
      ]
     },
     "execution_count": 158,
     "metadata": {},
     "output_type": "execute_result"
    },
    {
     "data": {
      "image/png": "[encoded data removed]",
      "text/plain": [
       "<matplotlib.figure.Figure at 0x110eea080>"
      ]
     },
     "metadata": {},
     "output_type": "display_data"
    }
   ],
   "source": [
    "nba_df.boxplot(column='WT', return_type='axes', whis='range')"
   ]
  },
  {
   "cell_type": "code",
   "execution_count": 159,
   "metadata": {
    "collapsed": false
   },
   "outputs": [
    {
     "data": {
      "text/plain": [
       "<matplotlib.axes._subplots.AxesSubplot at 0x1110b1c50>"
      ]
     },
     "execution_count": 159,
     "metadata": {},
     "output_type": "execute_result"
    },
    {
     "data": {
      "image/png": "[encoded data removed]",
      "text/plain": [
       "<matplotlib.figure.Figure at 0x11092cdd8>"
      ]
     },
     "metadata": {},
     "output_type": "display_data"
    }
   ],
   "source": [
    "nba_df.boxplot(column='Ht (In.)', return_type='axes', whis='range')"
   ]
  },
  {
   "cell_type": "markdown",
   "metadata": {},
   "source": [
    "There is a larger range of people being different heights than different weights in the NBA. "
   ]
  },
  {
   "cell_type": "code",
   "execution_count": 160,
   "metadata": {
    "collapsed": true
   },
   "outputs": [],
   "source": [
    "# calculate the standard deviations of networthusbillion for each person"
   ]
  },
  {
   "cell_type": "code",
   "execution_count": 166,
   "metadata": {
    "collapsed": false
   },
   "outputs": [],
   "source": [
    "mean = rich_df['networthusbillion'].mean()"
   ]
  },
  {
   "cell_type": "code",
   "execution_count": 171,
   "metadata": {
    "collapsed": false
   },
   "outputs": [
    {
     "data": {
      "text/plain": [
       "0.22888740302055807"
      ]
     },
     "execution_count": 171,
     "metadata": {},
     "output_type": "execute_result"
    }
   ],
   "source": [
    "# mean minus the data point\n",
    "# person has 2.6 billion dollars\n",
    "abs(mean - 2.6) / 5.7"
   ]
  },
  {
   "cell_type": "code",
   "execution_count": 174,
   "metadata": {
    "collapsed": false
   },
   "outputs": [
    {
     "data": {
      "text/plain": [
       "10.543042421540845"
      ]
     },
     "execution_count": 174,
     "metadata": {},
     "output_type": "execute_result"
    }
   ],
   "source": [
    "# mean minus the data point\n",
    "# person has 64 billion dollars\n",
    "datapoint = 64\n",
    "std_deviation = 5.7\n",
    "abs(mean-datapoint) / std_deviation"
   ]
  },
  {
   "cell_type": "code",
   "execution_count": 165,
   "metadata": {
    "collapsed": true
   },
   "outputs": [],
   "source": [
    "# look at the absolute values"
   ]
  },
  {
   "cell_type": "code",
   "execution_count": 175,
   "metadata": {
    "collapsed": true
   },
   "outputs": [],
   "source": [
    "rich_df['networth_devs'] = ((rich_df['networthusbillion'] - rich_df['networthusbillion'].mean()))"
   ]
  },
  {
   "cell_type": "code",
   "execution_count": 176,
   "metadata": {
    "collapsed": false
   },
   "outputs": [
    {
     "data": {
      "text/plain": [
       "1    1.304658\n",
       "5    1.404658\n",
       "6    0.895342\n",
       "8    1.504658\n",
       "9    2.704658\n",
       "Name: networthusbillion, dtype: float64"
      ]
     },
     "execution_count": 176,
     "metadata": {},
     "output_type": "execute_result"
    }
   ],
   "source": [
    "# STEP ONE: find distance from the mean\n",
    "# STEP TWO: make it absolute value\n",
    "(rich_df['networthusbillion'] - rich_df['networthusbillion'].mean()).apply(abs).head(5)"
   ]
  },
  {
   "cell_type": "code",
   "execution_count": 180,
   "metadata": {
    "collapsed": false
   },
   "outputs": [],
   "source": [
    "# STEP THREE: Dividee by the standard deviation \n",
    "#(rich_df['networthusbillion'] - rich_df['networthusbillion'].mean()).apply(abs) / ri.head(5)"
   ]
  },
  {
   "cell_type": "code",
   "execution_count": 181,
   "metadata": {
    "collapsed": true
   },
   "outputs": [],
   "source": [
    "#STEP Four: Assign that to a new column"
   ]
  },
  {
   "cell_type": "code",
   "execution_count": 182,
   "metadata": {
    "collapsed": true
   },
   "outputs": [],
   "source": [
    "#STEP Five: look at it \n",
    "rich_df['networth_devs'] = ((rich_df['networthusbillion'] - rich_df['networthusbillion'].mean()).apply(abs) / rich_df['networthusbillion'].std())\n",
    "\n"
   ]
  },
  {
   "cell_type": "code",
   "execution_count": 186,
   "metadata": {
    "collapsed": false
   },
   "outputs": [
    {
     "data": {
      "text/plain": [
       "1    0.226955\n",
       "5    0.244351\n",
       "6    0.155752\n",
       "8    0.261747\n",
       "Name: networth_devs, dtype: float64"
      ]
     },
     "execution_count": 186,
     "metadata": {},
     "output_type": "execute_result"
    }
   ],
   "source": [
    "rich_df['networth_devs'].head(4)"
   ]
  },
  {
   "cell_type": "code",
   "execution_count": null,
   "metadata": {
    "collapsed": true
   },
   "outputs": [],
   "source": []
  }
 ],
 "metadata": {
  "kernelspec": {
   "display_name": "Python 3",
   "language": "python",
   "name": "python3"
  },
  "language_info": {
   "codemirror_mode": {
    "name": "ipython",
    "version": 3
   },
   "file_extension": ".py",
   "mimetype": "text/x-python",
   "name": "python",
   "nbconvert_exporter": "python",
   "pygments_lexer": "ipython3",
   "version": "3.5.1"
  }
 },
 "nbformat": 4,
 "nbformat_minor": 0
}
