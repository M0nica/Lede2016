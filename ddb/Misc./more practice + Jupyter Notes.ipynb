{
 "cells": [
  {
   "cell_type": "code",
   "execution_count": 1,
   "metadata": {
    "collapsed": false
   },
   "outputs": [
    {
     "name": "stdout",
     "output_type": "stream",
     "text": [
      "Hello\n",
      "15\n"
     ]
    }
   ],
   "source": [
    "print(\"Hello\")\n",
    "print(5+10)"
   ]
  },
  {
   "cell_type": "code",
   "execution_count": 2,
   "metadata": {
    "collapsed": true
   },
   "outputs": [],
   "source": [
    "message = \"mother said there'd be days like these\""
   ]
  },
  {
   "cell_type": "code",
   "execution_count": 4,
   "metadata": {
    "collapsed": false
   },
   "outputs": [
    {
     "name": "stdout",
     "output_type": "stream",
     "text": [
      "mother said there'd be days like these\n"
     ]
    }
   ],
   "source": [
    "print(message)"
   ]
  },
  {
   "cell_type": "code",
   "execution_count": null,
   "metadata": {
    "collapsed": true
   },
   "outputs": [],
   "source": [
    "4 * 5 ##this automatically evaluates/prints to the value of python \n",
    "## expression even without an explicit print statement"
   ]
  },
  {
   "cell_type": "markdown",
   "metadata": {},
   "source": [
    " # useful commands in view mode \n",
    " 'dd' (deletes cell)\n",
    " 'h' (pops up helpful commands)\n",
    " 'm' will change the cell type b/w code & markdown \n",
    "*There are different types of cell mode - cell > cell type > code || markdown*\n",
    "'command + s' (saves the file)\n"
   ]
  }
 ],
 "metadata": {
  "kernelspec": {
   "display_name": "Python 3",
   "language": "python",
   "name": "python3"
  },
  "language_info": {
   "codemirror_mode": {
    "name": "ipython",
    "version": 3
   },
   "file_extension": ".py",
   "mimetype": "text/x-python",
   "name": "python",
   "nbconvert_exporter": "python",
   "pygments_lexer": "ipython3",
   "version": "3.5.1"
  }
 },
 "nbformat": 4,
 "nbformat_minor": 0
}
