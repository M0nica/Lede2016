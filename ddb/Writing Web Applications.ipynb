{
 "cells": [
  {
   "cell_type": "markdown",
   "metadata": {},
   "source": [
    "## Writing Web Applications"
   ]
  },
  {
   "cell_type": "code",
   "execution_count": 1,
   "metadata": {
    "collapsed": false
   },
   "outputs": [
    {
     "name": "stdout",
     "output_type": "stream",
     "text": [
      "Collecting Flask\n",
      "  Downloading Flask-0.11.1-py2.py3-none-any.whl (80kB)\n",
      "\u001b[K    100% |████████████████████████████████| 81kB 3.5MB/s \n",
      "\u001b[?25hRequirement already satisfied (use --upgrade to upgrade): Jinja2>=2.4 in /usr/local/lib/python3.5/site-packages (from Flask)\n",
      "Collecting click>=2.0 (from Flask)\n",
      "  Downloading click-6.6.tar.gz (283kB)\n",
      "\u001b[K    100% |████████████████████████████████| 286kB 2.7MB/s \n",
      "\u001b[?25hCollecting Werkzeug>=0.7 (from Flask)\n",
      "  Downloading Werkzeug-0.11.10-py2.py3-none-any.whl (306kB)\n",
      "\u001b[K    100% |████████████████████████████████| 307kB 2.6MB/s \n",
      "\u001b[?25hCollecting itsdangerous>=0.21 (from Flask)\n",
      "  Downloading itsdangerous-0.24.tar.gz (46kB)\n",
      "\u001b[K    100% |████████████████████████████████| 51kB 6.8MB/s \n",
      "\u001b[?25hRequirement already satisfied (use --upgrade to upgrade): MarkupSafe in /usr/local/lib/python3.5/site-packages (from Jinja2>=2.4->Flask)\n",
      "Building wheels for collected packages: click, itsdangerous\n",
      "  Running setup.py bdist_wheel for click ... \u001b[?25l-\b \b\\\b \b|\b \bdone\n",
      "\u001b[?25h  Stored in directory: /Users/Monica/Library/Caches/pip/wheels/b0/6d/8c/cf5ca1146e48bc7914748bfb1dbf3a40a440b8b4f4f0d952dd\n",
      "  Running setup.py bdist_wheel for itsdangerous ... \u001b[?25l-\b \bdone\n",
      "\u001b[?25h  Stored in directory: /Users/Monica/Library/Caches/pip/wheels/fc/a8/66/24d655233c757e178d45dea2de22a04c6d92766abfb741129a\n",
      "Successfully built click itsdangerous\n",
      "Installing collected packages: click, Werkzeug, itsdangerous, Flask\n",
      "Successfully installed Flask-0.11.1 Werkzeug-0.11.10 click-6.6 itsdangerous-0.24\n"
     ]
    }
   ],
   "source": [
    "#Installing Flask locally\n",
    "!pip3 install Flask"
   ]
  },
  {
   "cell_type": "code",
   "execution_count": 12,
   "metadata": {
    "collapsed": false
   },
   "outputs": [],
   "source": [
    "#default Flask port is 5000\n",
    "\n",
    "from flask import Flask\n",
    "app = Flask(__name__)\n",
    "\n",
    "\n",
    "#routing function \n",
    "@app.route(\"/hello\")\n",
    "#this function returns a string \"Hello, world!\"\n",
    "def hello():\n",
    "    return \"Hello, world!\"\n",
    "\n",
    "@app.route(\"/blah\")\n",
    "def fun_response_yay():\n",
    "    return \"You went to /blah congratulations.\"\n",
    "\n",
    "@app.route(\"/\")\n",
    "def index_resource():\n",
    "    return \"Welcome to Example Server. Welcome.\"\n",
    "\n",
    "\n",
    "app.run()"
   ]
  },
  {
   "cell_type": "markdown",
   "metadata": {},
   "source": [
    "localhost = 127.0.0.1"
   ]
  },
  {
   "cell_type": "markdown",
   "metadata": {},
   "source": [
    "## the query string\n",
    "works like this:\n",
    " request: curl -s curl -s http://localhost:5000/reverse?word=mammoth\n",
    " \n",
    " responds with mammoth reversed:\n",
    " response: htommam"
   ]
  },
  {
   "cell_type": "code",
   "execution_count": 18,
   "metadata": {
    "collapsed": false
   },
   "outputs": [
    {
     "data": {
      "text/plain": [
       "'htommam'"
      ]
     },
     "execution_count": 18,
     "metadata": {},
     "output_type": "execute_result"
    }
   ],
   "source": [
    "''.join(reversed('mammoth'))"
   ]
  },
  {
   "cell_type": "code",
   "execution_count": 22,
   "metadata": {
    "collapsed": false
   },
   "outputs": [
    {
     "data": {
      "text/plain": [
       "'htommam'"
      ]
     },
     "execution_count": 22,
     "metadata": {},
     "output_type": "execute_result"
    }
   ],
   "source": [
    "''.join(list(reversed('mammoth')))"
   ]
  },
  {
   "cell_type": "code",
   "execution_count": 38,
   "metadata": {
    "collapsed": false
   },
   "outputs": [],
   "source": [
    "#default Flask port is 5000\n",
    "\n",
    "from flask import Flask, request\n",
    "app = Flask(__name__)\n",
    "\n",
    "\n",
    "#routing function\n",
    "#this application only has one path\n",
    "\n",
    "@app.route(\"/reverse\")\n",
    "def reverser():\n",
    "    word = request.args.get('word', None) #evalates to whatever the value is for the key word\n",
    "    if word:\n",
    "        word_in_reverse = ''.join(reversed(word))\n",
    "        return word_in_reverse\n",
    "    else:\n",
    "        return \"you did not use the API correctly. happens to us all.\"\n",
    "\n",
    "# can test with: http://localhost:5000/reverse?word=mammoth\n",
    "# which should return mammoth reversed\n",
    "# mammoth can be replaced with any word\n",
    "\n",
    "app.run()"
   ]
  },
  {
   "cell_type": "code",
   "execution_count": 32,
   "metadata": {
    "collapsed": true
   },
   "outputs": [],
   "source": [
    "x = {'oranges':6, 'apples':4, 'durians':2}"
   ]
  },
  {
   "cell_type": "code",
   "execution_count": 34,
   "metadata": {
    "collapsed": true
   },
   "outputs": [],
   "source": [
    "if 'passionfruit' in x:\n",
    "    print(x['passionfruit'])"
   ]
  },
  {
   "cell_type": "code",
   "execution_count": 36,
   "metadata": {
    "collapsed": false
   },
   "outputs": [
    {
     "data": {
      "text/plain": [
       "'not found'"
      ]
     },
     "execution_count": 36,
     "metadata": {},
     "output_type": "execute_result"
    }
   ],
   "source": [
    "x.get('passionfruit', 'not found')"
   ]
  },
  {
   "cell_type": "code",
   "execution_count": 37,
   "metadata": {
    "collapsed": false
   },
   "outputs": [
    {
     "data": {
      "text/plain": [
       "4"
      ]
     },
     "execution_count": 37,
     "metadata": {},
     "output_type": "execute_result"
    }
   ],
   "source": [
    "x.get('apples', 'not found')"
   ]
  },
  {
   "cell_type": "markdown",
   "metadata": {},
   "source": [
    "### a more interesting hello world\n",
    "    request: http://localhost:5000.greeting?to_greet=galaxy\n",
    "    response: Hello, galaxy!\n",
    "    \n",
    " additionally: choose a random greeting.\n",
    "     \n",
    "     [\"hello\",\"hi\",\"salutations\",\"howdy\",\"sup\",\"hey\"]"
   ]
  },
  {
   "cell_type": "code",
   "execution_count": 40,
   "metadata": {
    "collapsed": true
   },
   "outputs": [],
   "source": [
    "import random"
   ]
  },
  {
   "cell_type": "code",
   "execution_count": 41,
   "metadata": {
    "collapsed": false
   },
   "outputs": [
    {
     "data": {
      "text/plain": [
       "48"
      ]
     },
     "execution_count": 41,
     "metadata": {},
     "output_type": "execute_result"
    }
   ],
   "source": [
    "random.randrange(110) # random number between 0 and 110"
   ]
  },
  {
   "cell_type": "code",
   "execution_count": 43,
   "metadata": {
    "collapsed": false
   },
   "outputs": [
    {
     "data": {
      "text/plain": [
       "4"
      ]
     },
     "execution_count": 43,
     "metadata": {},
     "output_type": "execute_result"
    }
   ],
   "source": [
    "random.randrange(1,21)"
   ]
  },
  {
   "cell_type": "code",
   "execution_count": 44,
   "metadata": {
    "collapsed": false
   },
   "outputs": [
    {
     "data": {
      "text/plain": [
       "0.5969274327052541"
      ]
     },
     "execution_count": 44,
     "metadata": {},
     "output_type": "execute_result"
    }
   ],
   "source": [
    "random.uniform(0, 1)"
   ]
  },
  {
   "cell_type": "code",
   "execution_count": 49,
   "metadata": {
    "collapsed": false
   },
   "outputs": [
    {
     "data": {
      "text/plain": [
       "'salutations'"
      ]
     },
     "execution_count": 49,
     "metadata": {},
     "output_type": "execute_result"
    }
   ],
   "source": [
    "random.choice(['hello', 'hi', 'salutations'])"
   ]
  },
  {
   "cell_type": "code",
   "execution_count": null,
   "metadata": {
    "collapsed": true
   },
   "outputs": [],
   "source": [
    "#default Flask port is 5000\n",
    "\n",
    "from flask import Flask, request\n",
    "app = Flask(__name__)\n",
    "\n",
    "\n",
    "greets =  [\"hello\",\"hi\",\"salutations\",\"howdy\",\"sup\",\"hey\"]\n",
    "punc = [\"!\", \"!!\", \"?\", \".\", \"...\"]\n",
    "\n",
    "@app.route(\"/greeting\")\n",
    "def greet_generator():\n",
    "    thing = request.args['to_greet']\n",
    "    #generates a random greeting from the array of greetings\n",
    "    greeting = random.choice(greets) +  \" \" + thing + random.choice(punc)\n",
    "    # you can return HTML, .json and more from a web API\n",
    "    return \"<h1>Welcome to Greet-O-Tron</h1>\" + \"<b>\" + greeting + \"</b>\"\n",
    "\n",
    "app.run()"
   ]
  },
  {
   "cell_type": "code",
   "execution_count": null,
   "metadata": {
    "collapsed": true
   },
   "outputs": [],
   "source": []
  }
 ],
 "metadata": {
  "kernelspec": {
   "display_name": "Python 3",
   "language": "python",
   "name": "python3"
  },
  "language_info": {
   "codemirror_mode": {
    "name": "ipython",
    "version": 3
   },
   "file_extension": ".py",
   "mimetype": "text/x-python",
   "name": "python",
   "nbconvert_exporter": "python",
   "pygments_lexer": "ipython3",
   "version": "3.5.1"
  }
 },
 "nbformat": 4,
 "nbformat_minor": 0
}
