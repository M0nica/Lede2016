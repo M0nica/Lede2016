{
 "cells": [
  {
   "cell_type": "markdown",
   "metadata": {},
   "source": [
    "## Writing Web Applications"
   ]
  },
  {
   "cell_type": "code",
   "execution_count": 1,
   "metadata": {
    "collapsed": false
   },
   "outputs": [
    {
     "name": "stdout",
     "output_type": "stream",
     "text": [
      "Requirement already satisfied (use --upgrade to upgrade): Flask in /usr/local/lib/python3.5/site-packages\n",
      "Requirement already satisfied (use --upgrade to upgrade): itsdangerous>=0.21 in /usr/local/lib/python3.5/site-packages (from Flask)\n",
      "Requirement already satisfied (use --upgrade to upgrade): Werkzeug>=0.7 in /usr/local/lib/python3.5/site-packages (from Flask)\n",
      "Requirement already satisfied (use --upgrade to upgrade): click>=2.0 in /usr/local/lib/python3.5/site-packages (from Flask)\n",
      "Requirement already satisfied (use --upgrade to upgrade): Jinja2>=2.4 in /usr/local/lib/python3.5/site-packages (from Flask)\n",
      "Requirement already satisfied (use --upgrade to upgrade): MarkupSafe in /usr/local/lib/python3.5/site-packages (from Jinja2>=2.4->Flask)\n"
     ]
    }
   ],
   "source": [
    "#Installing Flask locally\n",
    "!pip3 install Flask"
   ]
  },
  {
   "cell_type": "code",
   "execution_count": 7,
   "metadata": {
    "collapsed": false
   },
   "outputs": [],
   "source": [
    "#default Flask port is 5000\n",
    "\n",
    "from flask import Flask\n",
    "app = Flask(__name__)\n",
    "\n",
    "\n",
    "#routing function \n",
    "@app.route(\"/hello\")\n",
    "#this function returns a string \"Hello, world!\"\n",
    "def hello():\n",
    "    return \"Hello, world!\"\n",
    "\n",
    "@app.route(\"/blah\")\n",
    "def fun_response_yay():\n",
    "    return \"You went to /blah congratulations.\"\n",
    "\n",
    "@app.route(\"/\")\n",
    "def index_resource():\n",
    "    return \"Welcome to Example Server. Welcome.\"\n",
    "\n",
    "\n",
    "app.run()"
   ]
  },
  {
   "cell_type": "markdown",
   "metadata": {},
   "source": [
    "localhost = 127.0.0.1"
   ]
  },
  {
   "cell_type": "markdown",
   "metadata": {},
   "source": [
    "## the query string\n",
    "works like this:\n",
    " request: curl -s curl -s http://localhost:5000/reverse?word=mammoth\n",
    " \n",
    " responds with mammoth reversed:\n",
    " response: htommam"
   ]
  },
  {
   "cell_type": "code",
   "execution_count": 6,
   "metadata": {
    "collapsed": false
   },
   "outputs": [
    {
     "data": {
      "text/plain": [
       "'htommam'"
      ]
     },
     "execution_count": 6,
     "metadata": {},
     "output_type": "execute_result"
    }
   ],
   "source": [
    "''.join(reversed('mammoth'))"
   ]
  },
  {
   "cell_type": "code",
   "execution_count": 5,
   "metadata": {
    "collapsed": false
   },
   "outputs": [
    {
     "data": {
      "text/plain": [
       "'htommam'"
      ]
     },
     "execution_count": 5,
     "metadata": {},
     "output_type": "execute_result"
    }
   ],
   "source": [
    "''.join(list(reversed('mammoth')))"
   ]
  },
  {
   "cell_type": "code",
   "execution_count": 38,
   "metadata": {
    "collapsed": false
   },
   "outputs": [],
   "source": [
    "#default Flask port is 5000\n",
    "\n",
    "from flask import Flask, request\n",
    "app = Flask(__name__)\n",
    "\n",
    "\n",
    "#routing function\n",
    "#this application only has one path\n",
    "\n",
    "@app.route(\"/reverse\")\n",
    "def reverser():\n",
    "    word = request.args.get('word', None) #evalates to whatever the value is for the key word\n",
    "    if word:\n",
    "        word_in_reverse = ''.join(reversed(word))\n",
    "        return word_in_reverse\n",
    "    else:\n",
    "        return \"you did not use the API correctly. happens to us all.\"\n",
    "\n",
    "# can test with: http://localhost:5000/reverse?word=mammoth\n",
    "# which should return mammoth reversed\n",
    "# mammoth can be replaced with any word\n",
    "\n",
    "app.run()"
   ]
  },
  {
   "cell_type": "code",
   "execution_count": 32,
   "metadata": {
    "collapsed": true
   },
   "outputs": [],
   "source": [
    "x = {'oranges':6, 'apples':4, 'durians':2}"
   ]
  },
  {
   "cell_type": "code",
   "execution_count": 34,
   "metadata": {
    "collapsed": true
   },
   "outputs": [],
   "source": [
    "if 'passionfruit' in x:\n",
    "    print(x['passionfruit'])"
   ]
  },
  {
   "cell_type": "code",
   "execution_count": 36,
   "metadata": {
    "collapsed": false
   },
   "outputs": [
    {
     "data": {
      "text/plain": [
       "'not found'"
      ]
     },
     "execution_count": 36,
     "metadata": {},
     "output_type": "execute_result"
    }
   ],
   "source": [
    "x.get('passionfruit', 'not found')"
   ]
  },
  {
   "cell_type": "code",
   "execution_count": 37,
   "metadata": {
    "collapsed": false
   },
   "outputs": [
    {
     "data": {
      "text/plain": [
       "4"
      ]
     },
     "execution_count": 37,
     "metadata": {},
     "output_type": "execute_result"
    }
   ],
   "source": [
    "x.get('apples', 'not found')"
   ]
  },
  {
   "cell_type": "markdown",
   "metadata": {},
   "source": [
    "### a more interesting hello world\n",
    "    request: http://localhost:5000.greeting?to_greet=galaxy\n",
    "    response: Hello, galaxy!\n",
    "    \n",
    " additionally: choose a random greeting.\n",
    "     \n",
    "     [\"hello\",\"hi\",\"salutations\",\"howdy\",\"sup\",\"hey\"]"
   ]
  },
  {
   "cell_type": "code",
   "execution_count": 7,
   "metadata": {
    "collapsed": true
   },
   "outputs": [],
   "source": [
    "import random"
   ]
  },
  {
   "cell_type": "code",
   "execution_count": 8,
   "metadata": {
    "collapsed": false
   },
   "outputs": [
    {
     "data": {
      "text/plain": [
       "44"
      ]
     },
     "execution_count": 8,
     "metadata": {},
     "output_type": "execute_result"
    }
   ],
   "source": [
    "random.randrange(110) # random number between 0 and 110"
   ]
  },
  {
   "cell_type": "code",
   "execution_count": 9,
   "metadata": {
    "collapsed": false
   },
   "outputs": [
    {
     "data": {
      "text/plain": [
       "15"
      ]
     },
     "execution_count": 9,
     "metadata": {},
     "output_type": "execute_result"
    }
   ],
   "source": [
    "random.randrange(1,21)"
   ]
  },
  {
   "cell_type": "code",
   "execution_count": 10,
   "metadata": {
    "collapsed": false
   },
   "outputs": [
    {
     "data": {
      "text/plain": [
       "0.9623083309722569"
      ]
     },
     "execution_count": 10,
     "metadata": {},
     "output_type": "execute_result"
    }
   ],
   "source": [
    "random.uniform(0, 1)"
   ]
  },
  {
   "cell_type": "code",
   "execution_count": 11,
   "metadata": {
    "collapsed": false
   },
   "outputs": [
    {
     "data": {
      "text/plain": [
       "'hello'"
      ]
     },
     "execution_count": 11,
     "metadata": {},
     "output_type": "execute_result"
    }
   ],
   "source": [
    "random.choice(['hello', 'hi', 'salutations'])"
   ]
  },
  {
   "cell_type": "code",
   "execution_count": 12,
   "metadata": {
    "collapsed": false
   },
   "outputs": [],
   "source": [
    "#default Flask port is 5000\n",
    "\n",
    "from flask import Flask, request\n",
    "app = Flask(__name__)\n",
    "\n",
    "\n",
    "greets =  [\"hello\",\"hi\",\"salutations\",\"howdy\",\"sup\",\"hey\"]\n",
    "punc = [\"!\", \"!!\", \"?\", \".\", \"...\"]\n",
    "\n",
    "@app.route(\"/greeting\")\n",
    "def greet_generator():\n",
    "    thing = request.args['to_greet']\n",
    "    #generates a random greeting from the array of greetings\n",
    "    greeting = random.choice(greets) +  \" \" + thing + random.choice(punc)\n",
    "    # you can return HTML, .json and more from a web API\n",
    "    return \"<h1>Welcome to Greet-O-Tron</h1>\" + \"<b>\" + greeting + \"</b>\"\n",
    "\n",
    "app.run()"
   ]
  },
  {
   "cell_type": "markdown",
   "metadata": {
    "collapsed": true
   },
   "source": [
    "# Shortening Service"
   ]
  },
  {
   "cell_type": "code",
   "execution_count": null,
   "metadata": {
    "collapsed": true
   },
   "outputs": [],
   "source": [
    "from flask import Flask, request, render_template\n",
    "\n",
    "app = Flask(__name__)\n",
    "\n",
    "@app.route('/')\n",
    "def home():\n",
    "    return render_template(\"simplify_home.html\")\n",
    "\n",
    "@app.route('/transformed', methods=[\"POST\"])\n",
    "def transformed():\n",
    "    text = request.form['text']\n",
    "    words = [w for w in text.split() if len(w) <= 5]\n",
    "    return render_template(\"simplify_transformed.html\", output=' '.join(words))\n",
    "\n",
    "app.run()\n"
   ]
  },
  {
   "cell_type": "code",
   "execution_count": 14,
   "metadata": {
    "collapsed": false
   },
   "outputs": [],
   "source": [
    "\n",
    "from flask import Flask, request\n",
    "import pg8000\n",
    "app = Flask(__name__)\n",
    "conn = pg8000.connect(database=\"mondial\", user=\"Monica\")\n",
    "\n",
    "@app.route(\"/countries\")\n",
    "def country_info():\n",
    "    cname = request.args['lookup_name']\n",
    "    cursor = conn.cursor()\n",
    "    cursor.execute(\n",
    "    \"SELECT name, capital, population FROM country WHERE name = %s\", [cname]\n",
    "    )\n",
    "    response = cursor.fetchone()\n",
    "    #perform a database search\n",
    "    # format the rresults as text (html)\n",
    "    # return that text\n",
    "    return \"stuff\"\n",
    "\n",
    "app.run()"
   ]
  },
  {
   "cell_type": "code",
   "execution_count": null,
   "metadata": {
    "collapsed": true
   },
   "outputs": [],
   "source": []
  }
 ],
 "metadata": {
  "kernelspec": {
   "display_name": "Python 3",
   "language": "python",
   "name": "python3"
  },
  "language_info": {
   "codemirror_mode": {
    "name": "ipython",
    "version": 3
   },
   "file_extension": ".py",
   "mimetype": "text/x-python",
   "name": "python",
   "nbconvert_exporter": "python",
   "pygments_lexer": "ipython3",
   "version": "3.5.1"
  }
 },
 "nbformat": 4,
 "nbformat_minor": 0
}
