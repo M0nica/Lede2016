{
 "cells": [
  {
   "cell_type": "markdown",
   "metadata": {},
   "source": [
    "\"Web Applications\", Software running on server, computer program running on a server. The program is waiting for browsers to make requests and then it sends responses. \n",
    "\n",
    "We are going to write program that makes responses (instead of requests).\n",
    "\n",
    "HTTP Protocol - a plaintext protocol that can be written by hand. "
   ]
  },
  {
   "cell_type": "markdown",
   "metadata": {},
   "source": [
    "```nc``` gets data \n",
    "HTTP protocols are usually on port 80, unless it is otherwise specified. HTTP requests go through port 80."
   ]
  },
  {
   "cell_type": "markdown",
   "metadata": {},
   "source": [
    "```nc www.columbia.edu 80``` # open connection to columbia.edu's server via the terminal'\n",
    "\n",
    "```GET / HTTP/1.1``` # HTTP request, GET is the HTTP Method, then the path and then the version of the protocol\n",
    "\n",
    "```Host: www.columbia.edu``` # then there is a series of headers - key value pairs. The only header you have to include is the name of the host."
   ]
  },
  {
   "cell_type": "markdown",
   "metadata": {},
   "source": [
    "Responses: ```200 ok, 404 not found``` There are dozens of possible responses.\n",
    "\n",
    "Example response to an HTTP response from a server:\n",
    "```    \n",
    "HTTP/1.1 200 OK\n",
    "Date: Tue, 28 Jun 2016 14:54:57 GMT\n",
    "Server: Apache\n",
    "Accept-Ranges: bytes\n",
    "Vary: Accept-Encoding,User-Agent\n",
    "Transfer-Encoding: chunked\n",
    "Content-Type: text/html\n",
    "Set-Cookie: BIGipServer~CUIT~www.columbia.edu-80-pool=1781021568.20480.0000; expires=Tue, 28-Jun-2016 20:54:57 GMT; path=/```\n",
    "\n",
    "You can also view all requests and their responses in Chrome's Networks tab."
   ]
  },
  {
   "cell_type": "markdown",
   "metadata": {},
   "source": [
    "Web Frameworks have been created to simplify HTTP requests to functions that can be run whenever a browser makers a request to your program. For ex: Django, Node.js, Flask, Ruby on Rails. \n"
   ]
  },
  {
   "cell_type": "markdown",
   "metadata": {},
   "source": [
    "Flask is a simple, lightweight web framework but it is used in some relatively high traffic websites."
   ]
  }
 ],
 "metadata": {
  "kernelspec": {
   "display_name": "Python 3",
   "language": "python",
   "name": "python3"
  },
  "language_info": {
   "codemirror_mode": {
    "name": "ipython",
    "version": 3
   },
   "file_extension": ".py",
   "mimetype": "text/x-python",
   "name": "python",
   "nbconvert_exporter": "python",
   "pygments_lexer": "ipython3",
   "version": "3.5.1"
  }
 },
 "nbformat": 4,
 "nbformat_minor": 0
}
