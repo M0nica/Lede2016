{
 "cells": [
  {
   "cell_type": "markdown",
   "metadata": {},
   "source": [
    "# Notes for June 21st 2016"
   ]
  },
  {
   "cell_type": "markdown",
   "metadata": {},
   "source": [
    "## Sorting LISTS"
   ]
  },
  {
   "cell_type": "code",
   "execution_count": 1,
   "metadata": {
    "collapsed": true
   },
   "outputs": [],
   "source": [
    "x = [\"aardvark\", \"crocodile\", \"bee\", \"duck\", \"emu\"]"
   ]
  },
  {
   "cell_type": "code",
   "execution_count": 3,
   "metadata": {
    "collapsed": false
   },
   "outputs": [
    {
     "data": {
      "text/plain": [
       "['aardvark', 'bee', 'crocodile', 'duck', 'emu']"
      ]
     },
     "execution_count": 3,
     "metadata": {},
     "output_type": "execute_result"
    }
   ],
   "source": [
    "sorted(x)"
   ]
  },
  {
   "cell_type": "code",
   "execution_count": 4,
   "metadata": {
    "collapsed": true
   },
   "outputs": [],
   "source": [
    "x.sort() # doesn't return anything but then the underlying list is sorted "
   ]
  },
  {
   "cell_type": "code",
   "execution_count": 5,
   "metadata": {
    "collapsed": false
   },
   "outputs": [
    {
     "data": {
      "text/plain": [
       "['aardvark', 'bee', 'crocodile', 'duck', 'emu']"
      ]
     },
     "execution_count": 5,
     "metadata": {},
     "output_type": "execute_result"
    }
   ],
   "source": [
    "x"
   ]
  },
  {
   "cell_type": "code",
   "execution_count": 6,
   "metadata": {
    "collapsed": true
   },
   "outputs": [],
   "source": [
    "# sorted by second letter: ['aardvark', 'bee', 'emu', 'crocodile', 'duck']"
   ]
  },
  {
   "cell_type": "code",
   "execution_count": 7,
   "metadata": {
    "collapsed": false
   },
   "outputs": [
    {
     "data": {
      "text/plain": [
       "['emu', 'duck', 'crocodile', 'bee', 'aardvark']"
      ]
     },
     "execution_count": 7,
     "metadata": {},
     "output_type": "execute_result"
    }
   ],
   "source": [
    "sorted(x, reverse = True ) # sorts in reverse alpha order"
   ]
  },
  {
   "cell_type": "code",
   "execution_count": 9,
   "metadata": {
    "collapsed": false
   },
   "outputs": [],
   "source": [
    "# sorted(x, key=) # the value of key is a function that returns one paramter and returns a string "
   ]
  },
  {
   "cell_type": "code",
   "execution_count": 10,
   "metadata": {
    "collapsed": true
   },
   "outputs": [],
   "source": [
    "def get_second_letter(s):\n",
    "    return s[1]"
   ]
  },
  {
   "cell_type": "code",
   "execution_count": 11,
   "metadata": {
    "collapsed": false
   },
   "outputs": [
    {
     "data": {
      "text/plain": [
       "'h'"
      ]
     },
     "execution_count": 11,
     "metadata": {},
     "output_type": "execute_result"
    }
   ],
   "source": [
    "get_second_letter(\"cheese\")"
   ]
  },
  {
   "cell_type": "code",
   "execution_count": 12,
   "metadata": {
    "collapsed": false
   },
   "outputs": [
    {
     "data": {
      "text/plain": [
       "['aardvark', 'bee', 'emu', 'crocodile', 'duck']"
      ]
     },
     "execution_count": 12,
     "metadata": {},
     "output_type": "execute_result"
    }
   ],
   "source": [
    "sorted(x, key=get_second_letter) # call this function first with that value and use the value that is returned from the function to sort "
   ]
  },
  {
   "cell_type": "code",
   "execution_count": 13,
   "metadata": {
    "collapsed": false
   },
   "outputs": [
    {
     "data": {
      "text/plain": [
       "function"
      ]
     },
     "execution_count": 13,
     "metadata": {},
     "output_type": "execute_result"
    }
   ],
   "source": [
    "type(get_second_letter)"
   ]
  },
  {
   "cell_type": "code",
   "execution_count": 14,
   "metadata": {
    "collapsed": true
   },
   "outputs": [],
   "source": [
    "get_second_letter = lambda s: s[1] # only works with functions that do not have statements inside\n",
    "# lambda functions can be defined in one line! "
   ]
  },
  {
   "cell_type": "code",
   "execution_count": 15,
   "metadata": {
    "collapsed": true
   },
   "outputs": [],
   "source": [
    "planets = [\n",
    " {'diameter': 0.382,\n",
    "  'mass': 0.06,\n",
    "  'moons': 0,\n",
    "  'name': 'Mercury',\n",
    "  'orbital_period': 0.24,\n",
    "  'rings': 'no',\n",
    "  'type': 'terrestrial'},\n",
    " {'diameter': 0.949,\n",
    "  'mass': 0.82,\n",
    "  'moons': 0,\n",
    "  'name': 'Venus',\n",
    "  'orbital_period': 0.62,\n",
    "  'rings': 'no',\n",
    "  'type': 'terrestrial'},\n",
    " {'diameter': 1.00,\n",
    "  'mass': 1.00,\n",
    "  'moons': 1,\n",
    "  'name': 'Earth',\n",
    "  'orbital_period': 1.00,\n",
    "  'rings': 'no',\n",
    "  'type': 'terrestrial'},\n",
    " {'diameter': 0.532,\n",
    "  'mass': 0.11,\n",
    "  'moons': 2,\n",
    "  'name': 'Mars',\n",
    "  'orbital_period': 1.88,\n",
    "  'rings': 'no',\n",
    "  'type': 'terrestrial'},\n",
    " {'diameter': 11.209,\n",
    "  'mass': 317.8,\n",
    "  'moons': 67,\n",
    "  'name': 'Jupiter',\n",
    "  'orbital_period': 11.86,\n",
    "  'rings': 'yes',\n",
    "  'type': 'gas giant'},\n",
    " {'diameter': 9.449,\n",
    "  'mass': 95.2,\n",
    "  'moons': 62,\n",
    "  'name': 'Saturn',\n",
    "  'orbital_period': 29.46,\n",
    "  'rings': 'yes',\n",
    "  'type': 'gas giant'},\n",
    " {'diameter': 4.007,\n",
    "  'mass': 14.6,\n",
    "  'moons': 27,\n",
    "  'name': 'Uranus',\n",
    "  'orbital_period': 84.01,\n",
    "  'rings': 'yes',\n",
    "  'type': 'ice giant'},\n",
    " {'diameter': 3.883,\n",
    "  'mass': 17.2,\n",
    "  'moons': 14,\n",
    "  'name': 'Neptune',\n",
    "  'orbital_period': 164.8,\n",
    "  'rings': 'yes',\n",
    "  'type': 'ice giant'}]"
   ]
  },
  {
   "cell_type": "code",
   "execution_count": 16,
   "metadata": {
    "collapsed": true
   },
   "outputs": [],
   "source": [
    "def get_moon_count(d): # returns number of moonds \n",
    "    return d['moons']"
   ]
  },
  {
   "cell_type": "code",
   "execution_count": 17,
   "metadata": {
    "collapsed": false
   },
   "outputs": [
    {
     "data": {
      "text/plain": [
       "['Mercury', 'Venus', 'Earth', 'Mars', 'Neptune', 'Uranus', 'Saturn', 'Jupiter']"
      ]
     },
     "execution_count": 17,
     "metadata": {},
     "output_type": "execute_result"
    }
   ],
   "source": [
    "[p['name'] for p in sorted(planets, key=lambda x:x['moons'])] # sorts planets by number of moons "
   ]
  },
  {
   "cell_type": "code",
   "execution_count": 18,
   "metadata": {
    "collapsed": false
   },
   "outputs": [
    {
     "data": {
      "text/plain": [
       "['Mercury', 'Venus', 'Earth', 'Mars', 'Neptune', 'Uranus', 'Saturn', 'Jupiter']"
      ]
     },
     "execution_count": 18,
     "metadata": {},
     "output_type": "execute_result"
    }
   ],
   "source": [
    "[p['name'] for p in sorted(planets, key=get_moon_count)] # sorts planets by number of moons"
   ]
  },
  {
   "cell_type": "code",
   "execution_count": 20,
   "metadata": {
    "collapsed": false
   },
   "outputs": [
    {
     "data": {
      "text/plain": [
       "['Jupiter', 'Saturn', 'Uranus']"
      ]
     },
     "execution_count": 20,
     "metadata": {},
     "output_type": "execute_result"
    }
   ],
   "source": [
    "[p['name'] for p in \\\n",
    "sorted(planets, key=lambda d: d['diameter'], reverse=True)\\\n",
    "if p['diameter'] > 4]"
   ]
  },
  {
   "cell_type": "markdown",
   "metadata": {},
   "source": [
    "## tuple "
   ]
  },
  {
   "cell_type": "code",
   "execution_count": 23,
   "metadata": {
    "collapsed": true
   },
   "outputs": [],
   "source": [
    "t = (5,10,15) # similar to list"
   ]
  },
  {
   "cell_type": "code",
   "execution_count": 24,
   "metadata": {
    "collapsed": false
   },
   "outputs": [
    {
     "data": {
      "text/plain": [
       "tuple"
      ]
     },
     "execution_count": 24,
     "metadata": {},
     "output_type": "execute_result"
    }
   ],
   "source": [
    "type(t)"
   ]
  },
  {
   "cell_type": "code",
   "execution_count": 25,
   "metadata": {
    "collapsed": false
   },
   "outputs": [
    {
     "data": {
      "text/plain": [
       "5"
      ]
     },
     "execution_count": 25,
     "metadata": {},
     "output_type": "execute_result"
    }
   ],
   "source": [
    "t[0]"
   ]
  },
  {
   "cell_type": "code",
   "execution_count": 26,
   "metadata": {
    "collapsed": false
   },
   "outputs": [
    {
     "name": "stdout",
     "output_type": "stream",
     "text": [
      "25\n",
      "100\n",
      "225\n"
     ]
    }
   ],
   "source": [
    "for item in t:\n",
    "    print(item*item)"
   ]
  },
  {
   "cell_type": "code",
   "execution_count": 27,
   "metadata": {
    "collapsed": false
   },
   "outputs": [
    {
     "ename": "AttributeError",
     "evalue": "'tuple' object has no attribute 'append'",
     "output_type": "error",
     "traceback": [
      "\u001b[0;31m---------------------------------------------------------------------------\u001b[0m",
      "\u001b[0;31mAttributeError\u001b[0m                            Traceback (most recent call last)",
      "\u001b[0;32m<ipython-input-27-e0d05117f4e7>\u001b[0m in \u001b[0;36m<module>\u001b[0;34m()\u001b[0m\n\u001b[0;32m----> 1\u001b[0;31m \u001b[0mt\u001b[0m\u001b[0;34m.\u001b[0m\u001b[0mappend\u001b[0m\u001b[0;34m(\u001b[0m\u001b[0;36m30\u001b[0m\u001b[0;34m)\u001b[0m\u001b[0;34m\u001b[0m\u001b[0m\n\u001b[0m",
      "\u001b[0;31mAttributeError\u001b[0m: 'tuple' object has no attribute 'append'"
     ]
    }
   ],
   "source": [
    "t.append(30) # :O Tuple has no attribute append "
   ]
  },
  {
   "cell_type": "code",
   "execution_count": 28,
   "metadata": {
    "collapsed": true
   },
   "outputs": [],
   "source": [
    "carefree_list = [5,10,15,20,25]"
   ]
  },
  {
   "cell_type": "code",
   "execution_count": 29,
   "metadata": {
    "collapsed": true
   },
   "outputs": [],
   "source": [
    "carefree_list.append(30)"
   ]
  },
  {
   "cell_type": "code",
   "execution_count": 30,
   "metadata": {
    "collapsed": false
   },
   "outputs": [
    {
     "data": {
      "text/plain": [
       "[5, 10, 15, 20, 25, 30]"
      ]
     },
     "execution_count": 30,
     "metadata": {},
     "output_type": "execute_result"
    }
   ],
   "source": [
    "carefree_list"
   ]
  },
  {
   "cell_type": "code",
   "execution_count": 32,
   "metadata": {
    "collapsed": false
   },
   "outputs": [],
   "source": [
    "carefree_list[1] = \"Mr. Crabs\""
   ]
  },
  {
   "cell_type": "code",
   "execution_count": 33,
   "metadata": {
    "collapsed": false
   },
   "outputs": [
    {
     "data": {
      "text/plain": [
       "[5, 'Mr. Crabs', 15, 20, 25, 30]"
      ]
     },
     "execution_count": 33,
     "metadata": {},
     "output_type": "execute_result"
    }
   ],
   "source": [
    "carefree_list"
   ]
  },
  {
   "cell_type": "code",
   "execution_count": 35,
   "metadata": {
    "collapsed": false
   },
   "outputs": [],
   "source": [
    "# t[1] = \"Mr. Fluffypants\" #you cannot reassign elements in tuple. A tuple cannot be changed after it is assigned. It is an immutable data type. "
   ]
  },
  {
   "cell_type": "markdown",
   "metadata": {},
   "source": [
    "tuples are immutable, one benefit is exactly that it cannot be changed, other benegit is that tuples are memory-efficient. Whereas, when you create lists Python tries to overestimate the size of the list. It is slow for the computer to reallocate memory on the computer. "
   ]
  },
  {
   "cell_type": "code",
   "execution_count": 36,
   "metadata": {
    "collapsed": true
   },
   "outputs": [],
   "source": [
    "hello = [1,2,3]"
   ]
  },
  {
   "cell_type": "code",
   "execution_count": 37,
   "metadata": {
    "collapsed": true
   },
   "outputs": [],
   "source": [
    "foo = (1,2,3)"
   ]
  },
  {
   "cell_type": "code",
   "execution_count": 39,
   "metadata": {
    "collapsed": false
   },
   "outputs": [
    {
     "data": {
      "text/plain": [
       "88"
      ]
     },
     "execution_count": 39,
     "metadata": {},
     "output_type": "execute_result"
    }
   ],
   "source": [
    "import sys\n",
    "sys.getsizeof(hello)"
   ]
  },
  {
   "cell_type": "code",
   "execution_count": 40,
   "metadata": {
    "collapsed": false
   },
   "outputs": [
    {
     "data": {
      "text/plain": [
       "72"
      ]
     },
     "execution_count": 40,
     "metadata": {},
     "output_type": "execute_result"
    }
   ],
   "source": [
    "sys.getsizeof(foo) # tuple is smaller than list even thoiugh they have the same amount of items "
   ]
  },
  {
   "cell_type": "markdown",
   "metadata": {},
   "source": [
    "# back to regular expressions"
   ]
  },
  {
   "cell_type": "code",
   "execution_count": 46,
   "metadata": {
    "collapsed": false
   },
   "outputs": [
    {
     "data": {
      "text/plain": [
       "['one 1', 'two 1', 'three 3', 'four 4', 'five 5']"
      ]
     },
     "execution_count": 46,
     "metadata": {},
     "output_type": "execute_result"
    }
   ],
   "source": [
    "import re \n",
    "test = \"one 1 two 1 three 3 four 4 five 5\"\n",
    "re.findall(r\"\\w+ \\d\", test) #one or more alpha charactrs followed by a space and one ore more numbers "
   ]
  },
  {
   "cell_type": "code",
   "execution_count": 51,
   "metadata": {
    "collapsed": false
   },
   "outputs": [
    {
     "data": {
      "text/plain": [
       "[('one', '1'), ('two', '1'), ('three', '3'), ('four', '4'), ('five', '5')]"
      ]
     },
     "execution_count": 51,
     "metadata": {},
     "output_type": "execute_result"
    }
   ],
   "source": [
    "re.findall(r\"(\\w+) (\\d)\",test)\n",
    "# returns a list of tuples - where the 0th element corresponds to the first group and the 1st element corresponds to the second group\n",
    "\n",
    "    "
   ]
  },
  {
   "cell_type": "code",
   "execution_count": 53,
   "metadata": {
    "collapsed": true
   },
   "outputs": [],
   "source": [
    "all_subjects = open(\"enronsubjects.txt\").read()"
   ]
  },
  {
   "cell_type": "code",
   "execution_count": 60,
   "metadata": {
    "collapsed": false
   },
   "outputs": [
    {
     "name": "stdout",
     "output_type": "stream",
     "text": [
      "713\n",
      "713\n",
      "713\n",
      "713\n",
      "713\n",
      "713\n",
      "713\n",
      "713\n",
      "713\n",
      "713\n",
      "713\n",
      "281\n",
      "713\n",
      "713\n",
      "713\n",
      "713\n",
      "713\n",
      "713\n",
      "281\n",
      "713\n",
      "713\n",
      "713\n",
      "614\n",
      "713\n",
      "303\n",
      "281\n",
      "800\n",
      "800\n",
      "888\n"
     ]
    }
   ],
   "source": [
    "for item in re.findall(r\"(\\d{3})-(\\d{3})-(\\d{4})\", all_subjects):\n",
    "    print(item[0]) #returns area codes "
   ]
  },
  {
   "cell_type": "code",
   "execution_count": 62,
   "metadata": {
    "collapsed": false
   },
   "outputs": [
    {
     "data": {
      "text/plain": [
       "['713',\n",
       " '713',\n",
       " '713',\n",
       " '713',\n",
       " '713',\n",
       " '713',\n",
       " '713',\n",
       " '713',\n",
       " '713',\n",
       " '713',\n",
       " '713',\n",
       " '281',\n",
       " '713',\n",
       " '713',\n",
       " '713',\n",
       " '713',\n",
       " '713',\n",
       " '713',\n",
       " '281',\n",
       " '713',\n",
       " '713',\n",
       " '713',\n",
       " '614',\n",
       " '713',\n",
       " '303',\n",
       " '281',\n",
       " '800',\n",
       " '800',\n",
       " '888']"
      ]
     },
     "execution_count": 62,
     "metadata": {},
     "output_type": "execute_result"
    }
   ],
   "source": [
    "[item[0] for item in re.findall(r\"(\\d{3})-(\\d{3})-(\\d{4})\", all_subjects)]"
   ]
  },
  {
   "cell_type": "code",
   "execution_count": 63,
   "metadata": {
    "collapsed": true
   },
   "outputs": [],
   "source": [
    "### monetary amounts in subject lines "
   ]
  },
  {
   "cell_type": "code",
   "execution_count": 65,
   "metadata": {
    "collapsed": false
   },
   "outputs": [
    {
     "data": {
      "text/plain": [
       "[('22', '8'),\n",
       " ('22', '8'),\n",
       " ('10', 'M'),\n",
       " ('10', 'M'),\n",
       " ('10', 'M'),\n",
       " ('10', 'M'),\n",
       " ('6', '8'),\n",
       " ('25', 'million'),\n",
       " ('25', 'million'),\n",
       " ('25', 'million'),\n",
       " ('25', 'million'),\n",
       " ('25', 'million'),\n",
       " ('25', 'million'),\n",
       " ('25', 'million'),\n",
       " ('25', 'million'),\n",
       " ('25', 'million'),\n",
       " ('25', 'million'),\n",
       " ('25', 'million'),\n",
       " ('25', 'million'),\n",
       " ('25', 'million'),\n",
       " ('25', 'million'),\n",
       " ('82', '0'),\n",
       " ('82', '0'),\n",
       " ('40', 'Million'),\n",
       " ('27', 'Billion'),\n",
       " ('27', 'Billion'),\n",
       " ('5', '0'),\n",
       " ('5', '0'),\n",
       " ('89', '5'),\n",
       " ('89', '5'),\n",
       " ('1', '9'),\n",
       " ('1', '9'),\n",
       " ('1', '9'),\n",
       " ('1', '9'),\n",
       " ('870', 'K'),\n",
       " ('870', 'K'),\n",
       " ('14', '1'),\n",
       " ('14', '1'),\n",
       " ('21', 'billion'),\n",
       " ('6', 'million'),\n",
       " ('14', 'bln'),\n",
       " ('14', 'bln'),\n",
       " ('100', 'PRICE'),\n",
       " ('250', 'Cap'),\n",
       " ('350', 'MM'),\n",
       " ('1', '2'),\n",
       " ('1', '2'),\n",
       " ('1', '2'),\n",
       " ('1', '2'),\n",
       " ('10', 'Three'),\n",
       " ('70', '0'),\n",
       " ('70', '0'),\n",
       " ('70', '0'),\n",
       " ('10', 'you'),\n",
       " ('10', 'you'),\n",
       " ('13', 'B'),\n",
       " ('13', 'B'),\n",
       " ('100', 'on'),\n",
       " ('500', 'k'),\n",
       " ('500', 'k'),\n",
       " ('500', 'k'),\n",
       " ('500', 'k'),\n",
       " ('500', 'k'),\n",
       " ('500', 'k'),\n",
       " ('500', 'k'),\n",
       " ('500', 'k'),\n",
       " ('500', 'k'),\n",
       " ('2', 'Billion'),\n",
       " ('2', 'Billion'),\n",
       " ('2', 'Billion'),\n",
       " ('2', 'Billion'),\n",
       " ('97', '1'),\n",
       " ('97', '1'),\n",
       " ('97', '1'),\n",
       " ('97', '1'),\n",
       " ('97', '1'),\n",
       " ('97', '1'),\n",
       " ('1', 'Billion'),\n",
       " ('1', 'Billion'),\n",
       " ('39', 'in'),\n",
       " ('39', 'in'),\n",
       " ('1', '0'),\n",
       " ('1', '0'),\n",
       " ('14', '9'),\n",
       " ('5', '0'),\n",
       " ('5', '0'),\n",
       " ('5', '0'),\n",
       " ('2', '1'),\n",
       " ('21', 'P'),\n",
       " ('550', 'Million'),\n",
       " ('455', 'Million'),\n",
       " ('5', 'million'),\n",
       " ('5', 'million'),\n",
       " ('5', 'million'),\n",
       " ('7', 'MM'),\n",
       " ('7', 'MM'),\n",
       " ('7', 'MM'),\n",
       " ('7', 'MM'),\n",
       " ('7', 'MM'),\n",
       " ('7', 'MM'),\n",
       " ('100', 'Price'),\n",
       " ('2', '0'),\n",
       " ('2', '0'),\n",
       " ('2', '0'),\n",
       " ('2', '0'),\n",
       " ('10', '0'),\n",
       " ('10', '0'),\n",
       " ('10', '0'),\n",
       " ('2', '0'),\n",
       " ('2', '0'),\n",
       " ('2', '9'),\n",
       " ('2', '9'),\n",
       " ('2', '9'),\n",
       " ('2', '9'),\n",
       " ('2', '9'),\n",
       " ('2', '9'),\n",
       " ('160', '0'),\n",
       " ('160', '0'),\n",
       " ('160', '0'),\n",
       " ('160', '0'),\n",
       " ('160', '0'),\n",
       " ('160', '0'),\n",
       " ('160', '0'),\n",
       " ('2', 'Billion'),\n",
       " ('2', 'Billion'),\n",
       " ('2', 'Billion'),\n",
       " ('6', '7'),\n",
       " ('100', 'mil'),\n",
       " ('50', 'per'),\n",
       " ('21', '2'),\n",
       " ('21', '2'),\n",
       " ('21', '2'),\n",
       " ('21', '2'),\n",
       " ('21', '2'),\n",
       " ('21', '2'),\n",
       " ('19', '5'),\n",
       " ('19', '5'),\n",
       " ('19', '5'),\n",
       " ('19', '5'),\n",
       " ('19', '5'),\n",
       " ('19', '5'),\n",
       " ('19', '5'),\n",
       " ('19', '5'),\n",
       " ('19', '5'),\n",
       " ('19', '5'),\n",
       " ('19', '5'),\n",
       " ('19', '5'),\n",
       " ('4', '2'),\n",
       " ('4', '2'),\n",
       " ('4', '2'),\n",
       " ('7', 'MM'),\n",
       " ('7', 'MM'),\n",
       " ('7', 'MM'),\n",
       " ('1', '0'),\n",
       " ('1', '0'),\n",
       " ('1', '6'),\n",
       " ('1', '6'),\n",
       " ('1', '6'),\n",
       " ('8', 'Million'),\n",
       " ('8', 'Million'),\n",
       " ('500', 'mm'),\n",
       " ('500', 'mm'),\n",
       " ('500', 'mm'),\n",
       " ('80', 'million'),\n",
       " ('80', 'million'),\n",
       " ('80', 'million'),\n",
       " ('80', 'million'),\n",
       " ('80', 'million'),\n",
       " ('80', 'million'),\n",
       " ('80', 'million'),\n",
       " ('50', 'M'),\n",
       " ('102', 'Target'),\n",
       " ('102', 'Target'),\n",
       " ('20', '0'),\n",
       " ('5', '0'),\n",
       " ('25', 'Million'),\n",
       " ('25', 'Million'),\n",
       " ('25', 'Million'),\n",
       " ('120', 'EXTRA'),\n",
       " ('120', 'EXTRA'),\n",
       " ('45', 'Million'),\n",
       " ('45', 'Million'),\n",
       " ('14', '7'),\n",
       " ('14', '7'),\n",
       " ('14', '7'),\n",
       " ('14', '7'),\n",
       " ('14', '7'),\n",
       " ('14', '7'),\n",
       " ('14', '7'),\n",
       " ('600', 'B'),\n",
       " ('600', 'B'),\n",
       " ('14', '7'),\n",
       " ('14', '7'),\n",
       " ('14', '7'),\n",
       " ('24', '0'),\n",
       " ('24', '0'),\n",
       " ('2', '2'),\n",
       " ('2', '2'),\n",
       " ('2', '2'),\n",
       " ('100', 'k'),\n",
       " ('7', '7'),\n",
       " ('18', '3'),\n",
       " ('130', 'Million'),\n",
       " ('130', 'Million'),\n",
       " ('130', 'Million'),\n",
       " ('1', 'mm'),\n",
       " ('1', '0'),\n",
       " ('1', '0'),\n",
       " ('1', '0'),\n",
       " ('1', '0'),\n",
       " ('1', '0'),\n",
       " ('1', '0'),\n",
       " ('128', 'Return'),\n",
       " ('128', 'Return')]"
      ]
     },
     "execution_count": 65,
     "metadata": {},
     "output_type": "execute_result"
    }
   ],
   "source": [
    "# math somethlike $10 m,k,b\n",
    "re.findall(r\"\\$(\\d+) ?(\\w+)\", all_subjects) # money sgn, one or more digits, followed potentially by a space and one or more char"
   ]
  },
  {
   "cell_type": "code",
   "execution_count": 71,
   "metadata": {
    "collapsed": false
   },
   "outputs": [
    {
     "data": {
      "text/plain": [
       "1391516340000"
      ]
     },
     "execution_count": 71,
     "metadata": {},
     "output_type": "execute_result"
    }
   ],
   "source": [
    "vals = []\n",
    "for item in re.findall(r\"\\$(\\d+) ?([mMbBkK])\", all_subjects):\n",
    "    multiplier = item[1].lower()\n",
    "    number_val = int(item[0])\n",
    "    if multiplier == 'k':\n",
    "        number_val *= 1000\n",
    "    elif multiplier == 'm':\n",
    "        number_val *= 10000000\n",
    "    elif multiplier == 'b':\n",
    "        number_val *= 1000000000 \n",
    "    vals.append(number_val)\n",
    "sum(vals)"
   ]
  },
  {
   "cell_type": "markdown",
   "metadata": {},
   "source": [
    "### substitution with regular expressions"
   ]
  },
  {
   "cell_type": "code",
   "execution_count": 72,
   "metadata": {
    "collapsed": true
   },
   "outputs": [],
   "source": [
    "message = \"this is a test, this is only a test\""
   ]
  },
  {
   "cell_type": "code",
   "execution_count": 73,
   "metadata": {
    "collapsed": false
   },
   "outputs": [
    {
     "data": {
      "text/plain": [
       "'that is a test, that is only a test'"
      ]
     },
     "execution_count": 73,
     "metadata": {},
     "output_type": "execute_result"
    }
   ],
   "source": [
    "message.replace(\"this\", \"that\")"
   ]
  },
  {
   "cell_type": "code",
   "execution_count": 74,
   "metadata": {
    "collapsed": false
   },
   "outputs": [
    {
     "data": {
      "text/plain": [
       "'this is a test, this is only a test'"
      ]
     },
     "execution_count": 74,
     "metadata": {},
     "output_type": "execute_result"
    }
   ],
   "source": [
    "message"
   ]
  },
  {
   "cell_type": "code",
   "execution_count": 75,
   "metadata": {
    "collapsed": false
   },
   "outputs": [
    {
     "data": {
      "text/plain": [
       "'WALRUS WALRUS WALRUS WALRUS, WALRUS WALRUS WALRUS WALRUS WALRUS'"
      ]
     },
     "execution_count": 75,
     "metadata": {},
     "output_type": "execute_result"
    }
   ],
   "source": [
    "re.sub(r\"\\b\\w+\\b\", \"WALRUS\", message)"
   ]
  },
  {
   "cell_type": "code",
   "execution_count": 76,
   "metadata": {
    "collapsed": true
   },
   "outputs": [],
   "source": [
    "anon = re.sub(r\"\\d{3}-\\d{3}-\\d{4}\", \"555-555-5555\", all_subjects)"
   ]
  },
  {
   "cell_type": "code",
   "execution_count": 77,
   "metadata": {
    "collapsed": false
   },
   "outputs": [
    {
     "data": {
      "text/plain": [
       "['Call Chris 555-555-5555',\n",
       " \"git's Contact Info: 555-555-5555\",\n",
       " \"git's Contact Info: 555-555-5555\",\n",
       " \"git's Contact Info: 555-555-5555\",\n",
       " \"git's Contact Info: 555-555-5555\",\n",
       " \"git's Contact Info: 555-555-5555\",\n",
       " \"git's Contact Info: 555-555-5555\",\n",
       " \"git's Contact Info: 555-555-5555\",\n",
       " \"git's Contact Info: 555-555-5555\",\n",
       " \"git's Contact Info: 555-555-5555\",\n",
       " \"git's Contact Info: 555-555-5555\",\n",
       " 'Terry 555-555-5555',\n",
       " 'Re: 555-555-5555',\n",
       " \"W: Mark's number is 555-555-5555\",\n",
       " \"E: Mark's number is 555-555-5555\",\n",
       " \"Mark's number is 555-555-5555\",\n",
       " \"E: Mark's number is 555-555-5555\",\n",
       " \"Mark's number is 555-555-5555\",\n",
       " 'ease call for map 1-555-555-5555 or',\n",
       " 'Bill F 555-555-5555',\n",
       " ' Jonathon Fairbanks 555-555-5555w/555-555-5555c and ',\n",
       " 'irk re CGAS lawsuit 555-555-5555',\n",
       " ' Johnston at Dynegy 555-555-5555 re Debbie Chance',\n",
       " 'data /Tracy Ashmore-555-555-5555',\n",
       " 'Re: Kaye Ellis - 555-555-5555 (home)',\n",
       " 'n Paper Conf Call 1-555-555-5555,',\n",
       " 'O policies.  Dial 1-555-555-5555 and ask for the Jul',\n",
       " 'nf Call (Alvarez) 1-555-555-5555, HC:']"
      ]
     },
     "execution_count": 77,
     "metadata": {},
     "output_type": "execute_result"
    }
   ],
   "source": [
    "re.findall(r\".{,20}\\d{3}-\\d{3}-\\d{4}.{,20}\", anon)"
   ]
  },
  {
   "cell_type": "code",
   "execution_count": 85,
   "metadata": {
    "collapsed": true
   },
   "outputs": [],
   "source": [
    "x = \"This is a test\""
   ]
  },
  {
   "cell_type": "code",
   "execution_count": 89,
   "metadata": {
    "collapsed": false
   },
   "outputs": [
    {
     "data": {
      "text/plain": [
       "'\\that is a \\that'"
      ]
     },
     "execution_count": 89,
     "metadata": {},
     "output_type": "execute_result"
    }
   ],
   "source": [
    "re.sub(r\"([tT])\\w+\", \"\\that\", x)"
   ]
  },
  {
   "cell_type": "code",
   "execution_count": 90,
   "metadata": {
    "collapsed": false
   },
   "outputs": [
    {
     "data": {
      "text/plain": [
       "('menupages-morningsideheights.html', <http.client.HTTPMessage at 0x102888780>)"
      ]
     },
     "execution_count": 90,
     "metadata": {},
     "output_type": "execute_result"
    }
   ],
   "source": [
    "from urllib.request import urlretrieve\n",
    "#saves the file with that name in the same file that the jupyter server is running n . \n",
    "urlretrieve(\"https://raw.githubusercontent.com/ledeprogram/data-and-databases/master/menupages-morningside-heights.html\", \"menupages-morningsideheights.html\")"
   ]
  },
  {
   "cell_type": "markdown",
   "metadata": {},
   "source": [
    "We want to store:\n",
    " * restaurant name\n",
    " * price (\\$$$$)\n",
    " * cuisines\n",
    " \n",
    " research phase:\n",
    " * restaurants are in `<td>` tags with class `name-address`\n",
    " * restaurant names are in `<a>` tag inside that `<td>`\n",
    " * restaurant price in a `span` inside a `td` with class `price`\n",
    " * restaurant cuisine has no class and is in a `td` - it is the 5th child of the restaurant's `tr` tag \n",
    " \n",
    " target:\n",
    " * list of dictionaries \n",
    " [ \n",
    " {'name': \"Brad's\", 'price': 1, 'cuisine':}\n",
    " ]"
   ]
  },
  {
   "cell_type": "code",
   "execution_count": 1,
   "metadata": {
    "collapsed": false
   },
   "outputs": [],
   "source": [
    "from bs4 import BeautifulSoup"
   ]
  },
  {
   "cell_type": "code",
   "execution_count": 2,
   "metadata": {
    "collapsed": true
   },
   "outputs": [],
   "source": [
    "raw_html = open(\"menupages-morningsideheights.html\").read()\n",
    "soup = BeautifulSoup(raw_html, \"html.parser\")"
   ]
  },
  {
   "cell_type": "code",
   "execution_count": 17,
   "metadata": {
    "collapsed": false
   },
   "outputs": [
    {
     "name": "stdout",
     "output_type": "stream",
     "text": [
      "Milano Market\n",
      "Massawa\n",
      "China Place\n",
      "Subsconscious\n",
      "Famous Famiglia\n",
      "Kitchenette\n",
      "V & T Pizza\n",
      "New Aroma\n",
      "Peking Garden\n",
      "Tom's Restaurant\n",
      "Pisticci\n",
      "Deluxe\n",
      "Toast\n",
      "Tom's Delicious Pizza\n",
      "West Place\n",
      "Che' Bella Pizza\n",
      "Ajanta\n",
      "Panino Sportivo Roma\n",
      "Max Soha\n",
      "Strokos Pizza\n",
      "Camille's\n",
      "Amsterdam Restaurant\n",
      "Nussbaum & Wu\n",
      "Amir's Grill\n",
      "M2M - Morning To Midnight\n",
      "The Mill\n",
      "Le Monde\n",
      "Melba's\n",
      "Chuck E Cheese's\n",
      "Haagen-Dazs\n",
      "Oren's\n",
      "Dinosaur Bar-B-Que\n",
      "Symposium Greek Restaurant\n",
      "Koronet Pizza\n",
      "The Heights Bar & Grill\n",
      "Cafe Nana\n",
      "Hamilton Deli\n",
      "Community Food & Juice\n",
      "Haakon's Hall\n",
      "El Porton\n",
      "Brad's\n",
      "Mel's Burger Bar\n",
      "Bettolona\n",
      "Five Guys\n",
      "Nikko\n",
      "Falafel on Broadway\n",
      "Sushi Sushi\n",
      "Insomnia Cookies\n",
      "Cafe Amrita\n",
      "Pinkberry\n",
      "Artopolis Espresso Cafe\n",
      "Max Caffe\n",
      "Chipotle\n",
      "Chokolat Patisserie\n",
      "Chokolat Patisserie\n",
      "Joe's G-H Deli\n",
      "Joe the Art of Coffee\n",
      "Levain Bakery\n",
      "Silvana\n",
      "Bier International\n",
      "Vegenation\n",
      "Flat Top\n",
      "Kuro Kuma\n",
      "Vinateria\n",
      "Henan Cart\n",
      "Vine\n",
      "El Paso Truck\n",
      "Mama's Fried Chicken and Pizza\n",
      "Chapati House\n",
      "Dig Inn Seasonal Market\n",
      "Uncle Luoyang\n",
      "Pita Grill\n",
      "Kissaten Jin\n",
      "Serengeti Teas & Spices\n",
      "Lighthouse Fish Market & Restaurant\n",
      "Lolo's Seafood Shack\n",
      "Harmony\n",
      "Bernheim & Schwartz\n",
      "BTH (By The Hudson)\n",
      "Empanadas Monumental\n",
      "Friedman's\n",
      "176 Presbyterian Deli\n",
      "Nacho Mama's\n",
      "Streetbird Rotisserie\n",
      "Colum Chinese Restaurant\n",
      "Flacoz Tacoz\n",
      "sweetgreen\n",
      "La Salle Dumpling Room\n"
     ]
    }
   ],
   "source": [
    "search_table = soup.find(\"table\", {'class': 'search-results'})\n",
    "table_body = search_table.find('tbody')\n",
    "for tr_tag in table_body.findAll('tr'):\n",
    "    name_address_tag = tr_tag.find('td', {'class':'name-address'})\n",
    "    a_tag = name_address_tag.find('a')\n",
    "    print(a_tag.string)"
   ]
  },
  {
   "cell_type": "code",
   "execution_count": 26,
   "metadata": {
    "collapsed": false
   },
   "outputs": [
    {
     "name": "stdout",
     "output_type": "stream",
     "text": [
      "Milano Market 2\n",
      "Massawa 0\n",
      "China Place 0\n",
      "Subsconscious 0\n",
      "Famous Famiglia 0\n",
      "Kitchenette 0\n",
      "V & T Pizza 0\n",
      "New Aroma 1\n",
      "Peking Garden 1\n",
      "Tom's Restaurant 1\n",
      "Pisticci 1\n",
      "Deluxe 1\n",
      "Toast 2\n",
      "Tom's Delicious Pizza 2\n",
      "West Place 1\n",
      "Che' Bella Pizza 0\n",
      "Ajanta 0\n",
      "Panino Sportivo Roma 2\n",
      "Max Soha 2\n",
      "Strokos Pizza 3\n",
      "Camille's 1\n",
      "Amsterdam Restaurant 1\n",
      "Nussbaum & Wu 0\n",
      "Amir's Grill 1\n",
      "M2M - Morning To Midnight 1\n",
      "The Mill 2\n",
      "Le Monde 1\n",
      "Melba's 1\n",
      "Chuck E Cheese's 0\n",
      "Haagen-Dazs 1\n",
      "Oren's 0\n",
      "Dinosaur Bar-B-Que 3\n",
      "Symposium Greek Restaurant 0\n",
      "Koronet Pizza 1\n",
      "The Heights Bar & Grill 1\n",
      "Cafe Nana 0\n",
      "Hamilton Deli 0\n",
      "Community Food & Juice 0\n",
      "Haakon's Hall 0\n",
      "El Porton 0\n",
      "Brad's 1\n",
      "Mel's Burger Bar 2\n",
      "Bettolona 1\n",
      "Five Guys 1\n",
      "Nikko 2\n",
      "Falafel on Broadway 1\n",
      "Sushi Sushi 1\n",
      "Insomnia Cookies 1\n",
      "Cafe Amrita 1\n",
      "Pinkberry 2\n",
      "Artopolis Espresso Cafe 1\n",
      "Max Caffe 2\n",
      "Chipotle 1\n",
      "Chokolat Patisserie 5\n",
      "Chokolat Patisserie 1\n",
      "Joe's G-H Deli 2\n",
      "Joe the Art of Coffee 1\n",
      "Levain Bakery 2\n",
      "Silvana 1\n",
      "Bier International 1\n",
      "Vegenation 1\n",
      "Flat Top 4\n",
      "Kuro Kuma 1\n",
      "Vinateria 2\n",
      "Henan Cart 1\n",
      "Vine 2\n",
      "El Paso Truck 1\n",
      "Mama's Fried Chicken and Pizza 1\n",
      "Chapati House 2\n",
      "Dig Inn Seasonal Market 1\n",
      "Uncle Luoyang 1\n",
      "Pita Grill 2\n",
      "Kissaten Jin 1\n",
      "Serengeti Teas & Spices 2\n",
      "Lighthouse Fish Market & Restaurant 3\n",
      "Lolo's Seafood Shack 2\n",
      "Harmony 1\n",
      "Bernheim & Schwartz 2\n",
      "BTH (By The Hudson) 3\n",
      "Empanadas Monumental 0\n",
      "Friedman's 0\n",
      "176 Presbyterian Deli 0\n",
      "Nacho Mama's 0\n",
      "Streetbird Rotisserie 0\n",
      "Colum Chinese Restaurant 0\n",
      "Flacoz Tacoz 0\n",
      "sweetgreen 0\n",
      "La Salle Dumpling Room 0\n"
     ]
    }
   ],
   "source": [
    "search_table = soup.find(\"table\", {'class': 'search-results'})\n",
    "table_body = search_table.find('tbody')\n",
    "for tr_tag in table_body.findAll('tr'):\n",
    "    # get the restaurant name from the a inside a td\n",
    "    name_address_tag = tr_tag.find('td', {'class':'name-address'})\n",
    "    a_tag = name_address_tag.find('a')\n",
    "    restaurant_name = a_tag.string\n",
    "    \n",
    "    # get the price from the span if present \n",
    "    price_tag = tr_tag.find('td', {'class':'price'})\n",
    "    price_span_tag = price_tag.find('span')\n",
    "    if price_span_tag:\n",
    "        price = int(price_span_tag.string)\n",
    "    else: \n",
    "        price = 0\n",
    "   \n",
    "    #sometimes there is no span, if the price is N/A\n",
    "    \n",
    "    print(restaurant_name, price)"
   ]
  },
  {
   "cell_type": "code",
   "execution_count": 62,
   "metadata": {
    "collapsed": true
   },
   "outputs": [],
   "source": [
    "def get_name(tr_tag):\n",
    "    name_address_tag = tr_tag.find('td', {'class':'name-address'})\n",
    "    a_tag = name_address_tag.find('a')\n",
    "    restaurant_name = a_tag.string\n",
    "    return restaurant_name\n",
    "\n",
    "def get_price(tr_tag):\n",
    "    price_tag = tr_tag.find('td', {'class':'price'})\n",
    "    price_span_tag = price_tag.find('span')\n",
    "    if price_span_tag:\n",
    "        price = int(price_span_tag.string)\n",
    "    else: \n",
    "        price = 0\n",
    "    return price\n",
    "def get_cuisine(tr_tag):\n",
    "    all_td_tags = tr_tag.find_all('td')\n",
    "    cuisine_tag = all_td_tags[4]\n",
    "    #print(restaurant_name)\n",
    "    #print(cuisine_tag)\n",
    "    cuisines = cuisine_tag.string\n",
    "    if cuisines:\n",
    "        cuisine_list = cuisines.split(\" ,\")\n",
    "    else: # return an empty list of of the cuisines_tag does not have a cuisine\n",
    "        cuisine_list = []\n",
    "\n",
    "    # code here!\n",
    "    # * restaurant cuisine has no class and is in a `td` \n",
    "    #- it is the 5th child of the restaurant's `tr` tag \n",
    " \n",
    "    return cuisine_list"
   ]
  },
  {
   "cell_type": "code",
   "execution_count": 65,
   "metadata": {
    "collapsed": false
   },
   "outputs": [
    {
     "data": {
      "text/plain": [
       "[{'cuisines': ['deli, sandwiches'], 'name': 'Milano Market', 'price': 2},\n",
       " {'cuisines': ['ethiopian, african'], 'name': 'Massawa', 'price': 0},\n",
       " {'cuisines': ['chinese, japanese, sushi'], 'name': 'China Place', 'price': 0},\n",
       " {'cuisines': ['cheese-steaks, deli, sandwiches, salads'],\n",
       "  'name': 'Subsconscious',\n",
       "  'price': 0},\n",
       " {'cuisines': ['italian, pizza'], 'name': 'Famous Famiglia', 'price': 0},\n",
       " {'cuisines': ['bakery-pastries, american, desserts'],\n",
       "  'name': 'Kitchenette',\n",
       "  'price': 0},\n",
       " {'cuisines': ['italian, pizza'], 'name': 'V & T Pizza', 'price': 0},\n",
       " {'cuisines': ['chinese'], 'name': 'New Aroma', 'price': 1},\n",
       " {'cuisines': ['chinese'], 'name': 'Peking Garden', 'price': 1},\n",
       " {'cuisines': ['diner'], 'name': \"Tom's Restaurant\", 'price': 1},\n",
       " {'cuisines': ['italian'], 'name': 'Pisticci', 'price': 1},\n",
       " {'cuisines': ['diner, american'], 'name': 'Deluxe', 'price': 1},\n",
       " {'cuisines': ['american, bar-food'], 'name': 'Toast', 'price': 2},\n",
       " {'cuisines': ['italian, pizza'], 'name': \"Tom's Delicious Pizza\", 'price': 2},\n",
       " {'cuisines': ['chinese'], 'name': 'West Place', 'price': 1},\n",
       " {'cuisines': ['italian, pizza'], 'name': \"Che' Bella Pizza\", 'price': 0},\n",
       " {'cuisines': ['indian'], 'name': 'Ajanta', 'price': 0},\n",
       " {'cuisines': ['italian, coffee-tea, sandwiches'],\n",
       "  'name': 'Panino Sportivo Roma',\n",
       "  'price': 2},\n",
       " {'cuisines': ['italian'], 'name': 'Max Soha', 'price': 2},\n",
       " {'cuisines': ['deli, pizza, sandwiches, chicken'],\n",
       "  'name': 'Strokos Pizza',\n",
       "  'price': 3},\n",
       " {'cuisines': ['american'], 'name': \"Camille's\", 'price': 1},\n",
       " {'cuisines': ['american-new, tapas'],\n",
       "  'name': 'Amsterdam Restaurant',\n",
       "  'price': 1},\n",
       " {'cuisines': ['deli, sandwiches, bagels, salads'],\n",
       "  'name': 'Nussbaum & Wu',\n",
       "  'price': 0},\n",
       " {'cuisines': ['middle-eastern'], 'name': \"Amir's Grill\", 'price': 1},\n",
       " {'cuisines': ['japanese, sushi, deli, sandwiches'],\n",
       "  'name': 'M2M - Morning To Midnight',\n",
       "  'price': 1},\n",
       " {'cuisines': ['korean'], 'name': 'The Mill', 'price': 2},\n",
       " {'cuisines': ['french, bistro'], 'name': 'Le Monde', 'price': 1},\n",
       " {'cuisines': ['american-new, soul-food'], 'name': \"Melba's\", 'price': 1},\n",
       " {'cuisines': ['pizza, american'], 'name': \"Chuck E Cheese's\", 'price': 0},\n",
       " {'cuisines': ['desserts'], 'name': 'Haagen-Dazs', 'price': 1},\n",
       " {'cuisines': ['coffee-tea, sandwiches'], 'name': \"Oren's\", 'price': 0},\n",
       " {'cuisines': ['barbecue, soul-food'],\n",
       "  'name': 'Dinosaur Bar-B-Que',\n",
       "  'price': 3},\n",
       " {'cuisines': ['greek, vegetarian'],\n",
       "  'name': 'Symposium Greek Restaurant',\n",
       "  'price': 0},\n",
       " {'cuisines': ['pizza'], 'name': 'Koronet Pizza', 'price': 1},\n",
       " {'cuisines': ['southwestern, tapas, bar-food'],\n",
       "  'name': 'The Heights Bar & Grill',\n",
       "  'price': 1},\n",
       " {'cuisines': ['middle-eastern, kosher'], 'name': 'Cafe Nana', 'price': 0},\n",
       " {'cuisines': ['deli, sandwiches'], 'name': 'Hamilton Deli', 'price': 0},\n",
       " {'cuisines': ['american-new, smoothies-juices, vegetarian, healthy, localorganic'],\n",
       "  'name': 'Community Food & Juice',\n",
       "  'price': 0},\n",
       " {'cuisines': ['american, scandinavian'], 'name': \"Haakon's Hall\", 'price': 0},\n",
       " {'cuisines': ['mexican'], 'name': 'El Porton', 'price': 0},\n",
       " {'cuisines': ['coffee-tea'], 'name': \"Brad's\", 'price': 1},\n",
       " {'cuisines': ['burgers, bar-food'], 'name': \"Mel's Burger Bar\", 'price': 2},\n",
       " {'cuisines': ['italian, pizza, localorganic'],\n",
       "  'name': 'Bettolona',\n",
       "  'price': 1},\n",
       " {'cuisines': ['burgers, hot-dogs'], 'name': 'Five Guys', 'price': 1},\n",
       " {'cuisines': ['chinese, japanese, sushi, teahouses'],\n",
       "  'name': 'Nikko',\n",
       "  'price': 2},\n",
       " {'cuisines': ['middle-eastern'], 'name': 'Falafel on Broadway', 'price': 1},\n",
       " {'cuisines': ['japanese, sushi'], 'name': 'Sushi Sushi', 'price': 1},\n",
       " {'cuisines': ['bakery-pastries, desserts'],\n",
       "  'name': 'Insomnia Cookies',\n",
       "  'price': 1},\n",
       " {'cuisines': ['coffee-tea, sandwiches'], 'name': 'Cafe Amrita', 'price': 1},\n",
       " {'cuisines': ['desserts'], 'name': 'Pinkberry', 'price': 2},\n",
       " {'cuisines': ['coffee-tea, sandwiches, crepes'],\n",
       "  'name': 'Artopolis Espresso Cafe',\n",
       "  'price': 1},\n",
       " {'cuisines': ['coffee-tea, sandwiches'], 'name': 'Max Caffe', 'price': 2},\n",
       " {'cuisines': ['mexican'], 'name': 'Chipotle', 'price': 1},\n",
       " {'cuisines': ['bakery-pastries, desserts'],\n",
       "  'name': 'Chokolat Patisserie',\n",
       "  'price': 5},\n",
       " {'cuisines': ['bakery-pastries, coffee-tea, desserts'],\n",
       "  'name': 'Chokolat Patisserie',\n",
       "  'price': 1},\n",
       " {'cuisines': ['deli, sandwiches'], 'name': \"Joe's G-H Deli\", 'price': 2},\n",
       " {'cuisines': ['coffee-tea'], 'name': 'Joe the Art of Coffee', 'price': 1},\n",
       " {'cuisines': ['bakery-pastries, desserts'],\n",
       "  'name': 'Levain Bakery',\n",
       "  'price': 2},\n",
       " {'cuisines': ['middle-eastern, vegetarian'], 'name': 'Silvana', 'price': 1},\n",
       " {'cuisines': ['german, eclectic, bar-food'],\n",
       "  'name': 'Bier International',\n",
       "  'price': 1},\n",
       " {'cuisines': ['indian, vegetarian'], 'name': 'Vegenation', 'price': 1},\n",
       " {'cuisines': ['american-new, bistro'], 'name': 'Flat Top', 'price': 4},\n",
       " {'cuisines': ['coffee-tea'], 'name': 'Kuro Kuma', 'price': 1},\n",
       " {'cuisines': ['american-new'], 'name': 'Vinateria', 'price': 2},\n",
       " {'cuisines': ['chinese'], 'name': 'Henan Cart', 'price': 1},\n",
       " {'cuisines': ['japanese, sushi, thai'], 'name': 'Vine', 'price': 2},\n",
       " {'cuisines': ['mexican'], 'name': 'El Paso Truck', 'price': 1},\n",
       " {'cuisines': ['pizza, chicken'],\n",
       "  'name': \"Mama's Fried Chicken and Pizza\",\n",
       "  'price': 1},\n",
       " {'cuisines': ['indian'], 'name': 'Chapati House', 'price': 2},\n",
       " {'cuisines': ['american, localorganic'],\n",
       "  'name': 'Dig Inn Seasonal Market',\n",
       "  'price': 1},\n",
       " {'cuisines': ['chinese'], 'name': 'Uncle Luoyang', 'price': 1},\n",
       " {'cuisines': ['middle-eastern'], 'name': 'Pita Grill', 'price': 2},\n",
       " {'cuisines': ['japanese'], 'name': 'Kissaten Jin', 'price': 1},\n",
       " {'cuisines': ['coffee-tea, teahouses'],\n",
       "  'name': 'Serengeti Teas & Spices',\n",
       "  'price': 2},\n",
       " {'cuisines': ['seafood, wings, fish--chips'],\n",
       "  'name': 'Lighthouse Fish Market & Restaurant',\n",
       "  'price': 3},\n",
       " {'cuisines': ['seafood'], 'name': \"Lolo's Seafood Shack\", 'price': 2},\n",
       " {'cuisines': ['sandwiches, salads, teahouses'],\n",
       "  'name': 'Harmony',\n",
       "  'price': 1},\n",
       " {'cuisines': ['american, gastropub'],\n",
       "  'name': 'Bernheim & Schwartz',\n",
       "  'price': 2},\n",
       " {'cuisines': ['american-new'], 'name': 'BTH (By The Hudson)', 'price': 3},\n",
       " {'cuisines': [], 'name': 'Empanadas Monumental', 'price': 0},\n",
       " {'cuisines': [], 'name': \"Friedman's\", 'price': 0},\n",
       " {'cuisines': [], 'name': '176 Presbyterian Deli', 'price': 0},\n",
       " {'cuisines': [], 'name': \"Nacho Mama's\", 'price': 0},\n",
       " {'cuisines': [], 'name': 'Streetbird Rotisserie', 'price': 0},\n",
       " {'cuisines': [], 'name': 'Colum Chinese Restaurant', 'price': 0},\n",
       " {'cuisines': [], 'name': 'Flacoz Tacoz', 'price': 0},\n",
       " {'cuisines': [], 'name': 'sweetgreen', 'price': 0},\n",
       " {'cuisines': [], 'name': 'La Salle Dumpling Room', 'price': 0}]"
      ]
     },
     "execution_count": 65,
     "metadata": {},
     "output_type": "execute_result"
    }
   ],
   "source": [
    "restaurants = []\n",
    "search_table = soup.find(\"table\", {'class': 'search-results'})\n",
    "table_body = search_table.find('tbody')\n",
    "for tr_tag in table_body.findAll('tr'):\n",
    "    restaurant_name = get_name(tr_tag)\n",
    "    price = get_price(tr_tag)\n",
    "    cuisine = get_cuisine(tr_tag)\n",
    "    rest_dict = {\"name\": restaurant_name, \"price\": price, \"cuisines\": cuisine}\n",
    "    #print(restaurant_name, price, cuisine)\n",
    "    restaurants.append(rest_dict)\n",
    "restaurants"
   ]
  },
  {
   "cell_type": "code",
   "execution_count": 66,
   "metadata": {
    "collapsed": true
   },
   "outputs": [],
   "source": [
    "import pandas as pd\n",
    "df = pd.DataFrame(restaurants)"
   ]
  },
  {
   "cell_type": "code",
   "execution_count": 67,
   "metadata": {
    "collapsed": false
   },
   "outputs": [
    {
     "data": {
      "text/html": [
       "<div>\n",
       "<table border=\"1\" class=\"dataframe\">\n",
       "  <thead>\n",
       "    <tr style=\"text-align: right;\">\n",
       "      <th></th>\n",
       "      <th>cuisines</th>\n",
       "      <th>name</th>\n",
       "      <th>price</th>\n",
       "    </tr>\n",
       "  </thead>\n",
       "  <tbody>\n",
       "    <tr>\n",
       "      <th>0</th>\n",
       "      <td>[deli, sandwiches]</td>\n",
       "      <td>Milano Market</td>\n",
       "      <td>2</td>\n",
       "    </tr>\n",
       "    <tr>\n",
       "      <th>1</th>\n",
       "      <td>[ethiopian, african]</td>\n",
       "      <td>Massawa</td>\n",
       "      <td>0</td>\n",
       "    </tr>\n",
       "    <tr>\n",
       "      <th>2</th>\n",
       "      <td>[chinese, japanese, sushi]</td>\n",
       "      <td>China Place</td>\n",
       "      <td>0</td>\n",
       "    </tr>\n",
       "    <tr>\n",
       "      <th>3</th>\n",
       "      <td>[cheese-steaks, deli, sandwiches, salads]</td>\n",
       "      <td>Subsconscious</td>\n",
       "      <td>0</td>\n",
       "    </tr>\n",
       "    <tr>\n",
       "      <th>4</th>\n",
       "      <td>[italian, pizza]</td>\n",
       "      <td>Famous Famiglia</td>\n",
       "      <td>0</td>\n",
       "    </tr>\n",
       "  </tbody>\n",
       "</table>\n",
       "</div>"
      ],
      "text/plain": [
       "                                    cuisines             name  price\n",
       "0                         [deli, sandwiches]    Milano Market      2\n",
       "1                       [ethiopian, african]          Massawa      0\n",
       "2                 [chinese, japanese, sushi]      China Place      0\n",
       "3  [cheese-steaks, deli, sandwiches, salads]    Subsconscious      0\n",
       "4                           [italian, pizza]  Famous Famiglia      0"
      ]
     },
     "execution_count": 67,
     "metadata": {},
     "output_type": "execute_result"
    }
   ],
   "source": [
    "df.head()"
   ]
  },
  {
   "cell_type": "code",
   "execution_count": 69,
   "metadata": {
    "collapsed": false
   },
   "outputs": [
    {
     "data": {
      "text/html": [
       "<div>\n",
       "<table border=\"1\" class=\"dataframe\">\n",
       "  <thead>\n",
       "    <tr style=\"text-align: right;\">\n",
       "      <th></th>\n",
       "      <th>cuisines</th>\n",
       "      <th>name</th>\n",
       "      <th>price</th>\n",
       "    </tr>\n",
       "  </thead>\n",
       "  <tbody>\n",
       "    <tr>\n",
       "      <th>19</th>\n",
       "      <td>[deli, pizza, sandwiches, chicken]</td>\n",
       "      <td>Strokos Pizza</td>\n",
       "      <td>3</td>\n",
       "    </tr>\n",
       "    <tr>\n",
       "      <th>31</th>\n",
       "      <td>[barbecue, soul-food]</td>\n",
       "      <td>Dinosaur Bar-B-Que</td>\n",
       "      <td>3</td>\n",
       "    </tr>\n",
       "    <tr>\n",
       "      <th>53</th>\n",
       "      <td>[bakery-pastries, desserts]</td>\n",
       "      <td>Chokolat Patisserie</td>\n",
       "      <td>5</td>\n",
       "    </tr>\n",
       "    <tr>\n",
       "      <th>61</th>\n",
       "      <td>[american-new, bistro]</td>\n",
       "      <td>Flat Top</td>\n",
       "      <td>4</td>\n",
       "    </tr>\n",
       "    <tr>\n",
       "      <th>74</th>\n",
       "      <td>[seafood, wings, fish--chips]</td>\n",
       "      <td>Lighthouse Fish Market &amp; Restaurant</td>\n",
       "      <td>3</td>\n",
       "    </tr>\n",
       "    <tr>\n",
       "      <th>78</th>\n",
       "      <td>[american-new]</td>\n",
       "      <td>BTH (By The Hudson)</td>\n",
       "      <td>3</td>\n",
       "    </tr>\n",
       "  </tbody>\n",
       "</table>\n",
       "</div>"
      ],
      "text/plain": [
       "                              cuisines                                 name  \\\n",
       "19  [deli, pizza, sandwiches, chicken]                        Strokos Pizza   \n",
       "31               [barbecue, soul-food]                   Dinosaur Bar-B-Que   \n",
       "53         [bakery-pastries, desserts]                  Chokolat Patisserie   \n",
       "61              [american-new, bistro]                             Flat Top   \n",
       "74       [seafood, wings, fish--chips]  Lighthouse Fish Market & Restaurant   \n",
       "78                      [american-new]                  BTH (By The Hudson)   \n",
       "\n",
       "    price  \n",
       "19      3  \n",
       "31      3  \n",
       "53      5  \n",
       "61      4  \n",
       "74      3  \n",
       "78      3  "
      ]
     },
     "execution_count": 69,
     "metadata": {},
     "output_type": "execute_result"
    }
   ],
   "source": [
    "df[df['price'] > 2]"
   ]
  },
  {
   "cell_type": "code",
   "execution_count": null,
   "metadata": {
    "collapsed": true
   },
   "outputs": [],
   "source": []
  }
 ],
 "metadata": {
  "kernelspec": {
   "display_name": "Python 3",
   "language": "python",
   "name": "python3"
  },
  "language_info": {
   "codemirror_mode": {
    "name": "ipython",
    "version": 3
   },
   "file_extension": ".py",
   "mimetype": "text/x-python",
   "name": "python",
   "nbconvert_exporter": "python",
   "pygments_lexer": "ipython3",
   "version": "3.5.1"
  }
 },
 "nbformat": 4,
 "nbformat_minor": 0
}
