{
 "cells": [
  {
   "cell_type": "markdown",
   "metadata": {},
   "source": [
    "# Notes for June 21st 2016"
   ]
  },
  {
   "cell_type": "markdown",
   "metadata": {},
   "source": [
    "## Sorting LISTS"
   ]
  },
  {
   "cell_type": "code",
   "execution_count": 1,
   "metadata": {
    "collapsed": true
   },
   "outputs": [],
   "source": [
    "x = [\"aardvark\", \"crocodile\", \"bee\", \"duck\", \"emu\"]"
   ]
  },
  {
   "cell_type": "code",
   "execution_count": 3,
   "metadata": {
    "collapsed": false
   },
   "outputs": [
    {
     "data": {
      "text/plain": [
       "['aardvark', 'bee', 'crocodile', 'duck', 'emu']"
      ]
     },
     "execution_count": 3,
     "metadata": {},
     "output_type": "execute_result"
    }
   ],
   "source": [
    "sorted(x)"
   ]
  },
  {
   "cell_type": "code",
   "execution_count": 4,
   "metadata": {
    "collapsed": true
   },
   "outputs": [],
   "source": [
    "x.sort() # doesn't return anything but then the underlying list is sorted "
   ]
  },
  {
   "cell_type": "code",
   "execution_count": 5,
   "metadata": {
    "collapsed": false
   },
   "outputs": [
    {
     "data": {
      "text/plain": [
       "['aardvark', 'bee', 'crocodile', 'duck', 'emu']"
      ]
     },
     "execution_count": 5,
     "metadata": {},
     "output_type": "execute_result"
    }
   ],
   "source": [
    "x"
   ]
  },
  {
   "cell_type": "code",
   "execution_count": 6,
   "metadata": {
    "collapsed": true
   },
   "outputs": [],
   "source": [
    "# sorted by second letter: ['aardvark', 'bee', 'emu', 'crocodile', 'duck']"
   ]
  },
  {
   "cell_type": "code",
   "execution_count": 7,
   "metadata": {
    "collapsed": false
   },
   "outputs": [
    {
     "data": {
      "text/plain": [
       "['emu', 'duck', 'crocodile', 'bee', 'aardvark']"
      ]
     },
     "execution_count": 7,
     "metadata": {},
     "output_type": "execute_result"
    }
   ],
   "source": [
    "sorted(x, reverse = True ) # sorts in reverse alpha order"
   ]
  },
  {
   "cell_type": "code",
   "execution_count": 9,
   "metadata": {
    "collapsed": false
   },
   "outputs": [],
   "source": [
    "# sorted(x, key=) # the value of key is a function that returns one paramter and returns a string "
   ]
  },
  {
   "cell_type": "code",
   "execution_count": 10,
   "metadata": {
    "collapsed": true
   },
   "outputs": [],
   "source": [
    "def get_second_letter(s):\n",
    "    return s[1]"
   ]
  },
  {
   "cell_type": "code",
   "execution_count": 11,
   "metadata": {
    "collapsed": false
   },
   "outputs": [
    {
     "data": {
      "text/plain": [
       "'h'"
      ]
     },
     "execution_count": 11,
     "metadata": {},
     "output_type": "execute_result"
    }
   ],
   "source": [
    "get_second_letter(\"cheese\")"
   ]
  },
  {
   "cell_type": "code",
   "execution_count": 12,
   "metadata": {
    "collapsed": false
   },
   "outputs": [
    {
     "data": {
      "text/plain": [
       "['aardvark', 'bee', 'emu', 'crocodile', 'duck']"
      ]
     },
     "execution_count": 12,
     "metadata": {},
     "output_type": "execute_result"
    }
   ],
   "source": [
    "sorted(x, key=get_second_letter) # call this function first with that value and use the value that is returned from the function to sort "
   ]
  },
  {
   "cell_type": "code",
   "execution_count": 13,
   "metadata": {
    "collapsed": false
   },
   "outputs": [
    {
     "data": {
      "text/plain": [
       "function"
      ]
     },
     "execution_count": 13,
     "metadata": {},
     "output_type": "execute_result"
    }
   ],
   "source": [
    "type(get_second_letter)"
   ]
  },
  {
   "cell_type": "code",
   "execution_count": 14,
   "metadata": {
    "collapsed": true
   },
   "outputs": [],
   "source": [
    "get_second_letter = lambda s: s[1] # only works with functions that do not have statements inside\n",
    "# lambda functions can be defined in one line! "
   ]
  },
  {
   "cell_type": "code",
   "execution_count": 15,
   "metadata": {
    "collapsed": true
   },
   "outputs": [],
   "source": [
    "planets = [\n",
    " {'diameter': 0.382,\n",
    "  'mass': 0.06,\n",
    "  'moons': 0,\n",
    "  'name': 'Mercury',\n",
    "  'orbital_period': 0.24,\n",
    "  'rings': 'no',\n",
    "  'type': 'terrestrial'},\n",
    " {'diameter': 0.949,\n",
    "  'mass': 0.82,\n",
    "  'moons': 0,\n",
    "  'name': 'Venus',\n",
    "  'orbital_period': 0.62,\n",
    "  'rings': 'no',\n",
    "  'type': 'terrestrial'},\n",
    " {'diameter': 1.00,\n",
    "  'mass': 1.00,\n",
    "  'moons': 1,\n",
    "  'name': 'Earth',\n",
    "  'orbital_period': 1.00,\n",
    "  'rings': 'no',\n",
    "  'type': 'terrestrial'},\n",
    " {'diameter': 0.532,\n",
    "  'mass': 0.11,\n",
    "  'moons': 2,\n",
    "  'name': 'Mars',\n",
    "  'orbital_period': 1.88,\n",
    "  'rings': 'no',\n",
    "  'type': 'terrestrial'},\n",
    " {'diameter': 11.209,\n",
    "  'mass': 317.8,\n",
    "  'moons': 67,\n",
    "  'name': 'Jupiter',\n",
    "  'orbital_period': 11.86,\n",
    "  'rings': 'yes',\n",
    "  'type': 'gas giant'},\n",
    " {'diameter': 9.449,\n",
    "  'mass': 95.2,\n",
    "  'moons': 62,\n",
    "  'name': 'Saturn',\n",
    "  'orbital_period': 29.46,\n",
    "  'rings': 'yes',\n",
    "  'type': 'gas giant'},\n",
    " {'diameter': 4.007,\n",
    "  'mass': 14.6,\n",
    "  'moons': 27,\n",
    "  'name': 'Uranus',\n",
    "  'orbital_period': 84.01,\n",
    "  'rings': 'yes',\n",
    "  'type': 'ice giant'},\n",
    " {'diameter': 3.883,\n",
    "  'mass': 17.2,\n",
    "  'moons': 14,\n",
    "  'name': 'Neptune',\n",
    "  'orbital_period': 164.8,\n",
    "  'rings': 'yes',\n",
    "  'type': 'ice giant'}]"
   ]
  },
  {
   "cell_type": "code",
   "execution_count": 16,
   "metadata": {
    "collapsed": true
   },
   "outputs": [],
   "source": [
    "def get_moon_count(d): # returns number of moonds \n",
    "    return d['moons']"
   ]
  },
  {
   "cell_type": "code",
   "execution_count": 17,
   "metadata": {
    "collapsed": false
   },
   "outputs": [
    {
     "data": {
      "text/plain": [
       "['Mercury', 'Venus', 'Earth', 'Mars', 'Neptune', 'Uranus', 'Saturn', 'Jupiter']"
      ]
     },
     "execution_count": 17,
     "metadata": {},
     "output_type": "execute_result"
    }
   ],
   "source": [
    "[p['name'] for p in sorted(planets, key=lambda x:x['moons'])] # sorts planets by number of moons "
   ]
  },
  {
   "cell_type": "code",
   "execution_count": 18,
   "metadata": {
    "collapsed": false
   },
   "outputs": [
    {
     "data": {
      "text/plain": [
       "['Mercury', 'Venus', 'Earth', 'Mars', 'Neptune', 'Uranus', 'Saturn', 'Jupiter']"
      ]
     },
     "execution_count": 18,
     "metadata": {},
     "output_type": "execute_result"
    }
   ],
   "source": [
    "[p['name'] for p in sorted(planets, key=get_moon_count)] # sorts planets by number of moons"
   ]
  },
  {
   "cell_type": "code",
   "execution_count": 20,
   "metadata": {
    "collapsed": false
   },
   "outputs": [
    {
     "data": {
      "text/plain": [
       "['Jupiter', 'Saturn', 'Uranus']"
      ]
     },
     "execution_count": 20,
     "metadata": {},
     "output_type": "execute_result"
    }
   ],
   "source": [
    "[p['name'] for p in \\\n",
    "sorted(planets, key=lambda d: d['diameter'], reverse=True)\\\n",
    "if p['diameter'] > 4]"
   ]
  },
  {
   "cell_type": "markdown",
   "metadata": {},
   "source": [
    "## tuple "
   ]
  },
  {
   "cell_type": "code",
   "execution_count": 23,
   "metadata": {
    "collapsed": true
   },
   "outputs": [],
   "source": [
    "t = (5,10,15) # similar to list"
   ]
  },
  {
   "cell_type": "code",
   "execution_count": 24,
   "metadata": {
    "collapsed": false
   },
   "outputs": [
    {
     "data": {
      "text/plain": [
       "tuple"
      ]
     },
     "execution_count": 24,
     "metadata": {},
     "output_type": "execute_result"
    }
   ],
   "source": [
    "type(t)"
   ]
  },
  {
   "cell_type": "code",
   "execution_count": 25,
   "metadata": {
    "collapsed": false
   },
   "outputs": [
    {
     "data": {
      "text/plain": [
       "5"
      ]
     },
     "execution_count": 25,
     "metadata": {},
     "output_type": "execute_result"
    }
   ],
   "source": [
    "t[0]"
   ]
  },
  {
   "cell_type": "code",
   "execution_count": 26,
   "metadata": {
    "collapsed": false
   },
   "outputs": [
    {
     "name": "stdout",
     "output_type": "stream",
     "text": [
      "25\n",
      "100\n",
      "225\n"
     ]
    }
   ],
   "source": [
    "for item in t:\n",
    "    print(item*item)"
   ]
  },
  {
   "cell_type": "code",
   "execution_count": 27,
   "metadata": {
    "collapsed": false
   },
   "outputs": [
    {
     "ename": "AttributeError",
     "evalue": "'tuple' object has no attribute 'append'",
     "output_type": "error",
     "traceback": [
      "\u001b[0;31m---------------------------------------------------------------------------\u001b[0m",
      "\u001b[0;31mAttributeError\u001b[0m                            Traceback (most recent call last)",
      "\u001b[0;32m<ipython-input-27-e0d05117f4e7>\u001b[0m in \u001b[0;36m<module>\u001b[0;34m()\u001b[0m\n\u001b[0;32m----> 1\u001b[0;31m \u001b[0mt\u001b[0m\u001b[0;34m.\u001b[0m\u001b[0mappend\u001b[0m\u001b[0;34m(\u001b[0m\u001b[0;36m30\u001b[0m\u001b[0;34m)\u001b[0m\u001b[0;34m\u001b[0m\u001b[0m\n\u001b[0m",
      "\u001b[0;31mAttributeError\u001b[0m: 'tuple' object has no attribute 'append'"
     ]
    }
   ],
   "source": [
    "t.append(30) # :O Tuple has no attribute append "
   ]
  },
  {
   "cell_type": "code",
   "execution_count": 28,
   "metadata": {
    "collapsed": true
   },
   "outputs": [],
   "source": [
    "carefree_list = [5,10,15,20,25]"
   ]
  },
  {
   "cell_type": "code",
   "execution_count": 29,
   "metadata": {
    "collapsed": true
   },
   "outputs": [],
   "source": [
    "carefree_list.append(30)"
   ]
  },
  {
   "cell_type": "code",
   "execution_count": 30,
   "metadata": {
    "collapsed": false
   },
   "outputs": [
    {
     "data": {
      "text/plain": [
       "[5, 10, 15, 20, 25, 30]"
      ]
     },
     "execution_count": 30,
     "metadata": {},
     "output_type": "execute_result"
    }
   ],
   "source": [
    "carefree_list"
   ]
  },
  {
   "cell_type": "code",
   "execution_count": 32,
   "metadata": {
    "collapsed": false
   },
   "outputs": [],
   "source": [
    "carefree_list[1] = \"Mr. Crabs\""
   ]
  },
  {
   "cell_type": "code",
   "execution_count": 33,
   "metadata": {
    "collapsed": false
   },
   "outputs": [
    {
     "data": {
      "text/plain": [
       "[5, 'Mr. Crabs', 15, 20, 25, 30]"
      ]
     },
     "execution_count": 33,
     "metadata": {},
     "output_type": "execute_result"
    }
   ],
   "source": [
    "carefree_list"
   ]
  },
  {
   "cell_type": "code",
   "execution_count": 35,
   "metadata": {
    "collapsed": false
   },
   "outputs": [],
   "source": [
    "# t[1] = \"Mr. Fluffypants\" #you cannot reassign elements in tuple. A tuple cannot be changed after it is assigned. It is an immutable data type. "
   ]
  },
  {
   "cell_type": "markdown",
   "metadata": {},
   "source": [
    "tuples are immutable, one benefit is exactly that it cannot be changed, other benegit is that tuples are memory-efficient. Whereas, when you create lists Python tries to overestimate the size of the list. It is slow for the computer to reallocate memory on the computer. "
   ]
  },
  {
   "cell_type": "code",
   "execution_count": 36,
   "metadata": {
    "collapsed": true
   },
   "outputs": [],
   "source": [
    "hello = [1,2,3]"
   ]
  },
  {
   "cell_type": "code",
   "execution_count": 37,
   "metadata": {
    "collapsed": true
   },
   "outputs": [],
   "source": [
    "foo = (1,2,3)"
   ]
  },
  {
   "cell_type": "code",
   "execution_count": 39,
   "metadata": {
    "collapsed": false
   },
   "outputs": [
    {
     "data": {
      "text/plain": [
       "88"
      ]
     },
     "execution_count": 39,
     "metadata": {},
     "output_type": "execute_result"
    }
   ],
   "source": [
    "import sys\n",
    "sys.getsizeof(hello)"
   ]
  },
  {
   "cell_type": "code",
   "execution_count": 40,
   "metadata": {
    "collapsed": false
   },
   "outputs": [
    {
     "data": {
      "text/plain": [
       "72"
      ]
     },
     "execution_count": 40,
     "metadata": {},
     "output_type": "execute_result"
    }
   ],
   "source": [
    "sys.getsizeof(foo) # tuple is smaller than list even thoiugh they have the same amount of items "
   ]
  },
  {
   "cell_type": "markdown",
   "metadata": {},
   "source": [
    "# back to regular expressions"
   ]
  },
  {
   "cell_type": "code",
   "execution_count": 46,
   "metadata": {
    "collapsed": false
   },
   "outputs": [
    {
     "data": {
      "text/plain": [
       "['one 1', 'two 1', 'three 3', 'four 4', 'five 5']"
      ]
     },
     "execution_count": 46,
     "metadata": {},
     "output_type": "execute_result"
    }
   ],
   "source": [
    "import re \n",
    "test = \"one 1 two 1 three 3 four 4 five 5\"\n",
    "re.findall(r\"\\w+ \\d\", test) #one or more alpha charactrs followed by a space and one ore more numbers "
   ]
  },
  {
   "cell_type": "code",
   "execution_count": 51,
   "metadata": {
    "collapsed": false
   },
   "outputs": [
    {
     "data": {
      "text/plain": [
       "[('one', '1'), ('two', '1'), ('three', '3'), ('four', '4'), ('five', '5')]"
      ]
     },
     "execution_count": 51,
     "metadata": {},
     "output_type": "execute_result"
    }
   ],
   "source": [
    "re.findall(r\"(\\w+) (\\d)\",test)\n",
    "# returns a list of tuples - where the 0th element corresponds to the first group and the 1st element corresponds to the second group\n",
    "\n",
    "    "
   ]
  },
  {
   "cell_type": "code",
   "execution_count": 53,
   "metadata": {
    "collapsed": true
   },
   "outputs": [],
   "source": [
    "all_subjects = open(\"enronsubjects.txt\").read()"
   ]
  },
  {
   "cell_type": "code",
   "execution_count": 60,
   "metadata": {
    "collapsed": false
   },
   "outputs": [
    {
     "name": "stdout",
     "output_type": "stream",
     "text": [
      "713\n",
      "713\n",
      "713\n",
      "713\n",
      "713\n",
      "713\n",
      "713\n",
      "713\n",
      "713\n",
      "713\n",
      "713\n",
      "281\n",
      "713\n",
      "713\n",
      "713\n",
      "713\n",
      "713\n",
      "713\n",
      "281\n",
      "713\n",
      "713\n",
      "713\n",
      "614\n",
      "713\n",
      "303\n",
      "281\n",
      "800\n",
      "800\n",
      "888\n"
     ]
    }
   ],
   "source": [
    "for item in re.findall(r\"(\\d{3})-(\\d{3})-(\\d{4})\", all_subjects):\n",
    "    print(item[0]) #returns area codes "
   ]
  },
  {
   "cell_type": "code",
   "execution_count": 62,
   "metadata": {
    "collapsed": false
   },
   "outputs": [
    {
     "data": {
      "text/plain": [
       "['713',\n",
       " '713',\n",
       " '713',\n",
       " '713',\n",
       " '713',\n",
       " '713',\n",
       " '713',\n",
       " '713',\n",
       " '713',\n",
       " '713',\n",
       " '713',\n",
       " '281',\n",
       " '713',\n",
       " '713',\n",
       " '713',\n",
       " '713',\n",
       " '713',\n",
       " '713',\n",
       " '281',\n",
       " '713',\n",
       " '713',\n",
       " '713',\n",
       " '614',\n",
       " '713',\n",
       " '303',\n",
       " '281',\n",
       " '800',\n",
       " '800',\n",
       " '888']"
      ]
     },
     "execution_count": 62,
     "metadata": {},
     "output_type": "execute_result"
    }
   ],
   "source": [
    "[item[0] for item in re.findall(r\"(\\d{3})-(\\d{3})-(\\d{4})\", all_subjects)]"
   ]
  },
  {
   "cell_type": "code",
   "execution_count": 63,
   "metadata": {
    "collapsed": true
   },
   "outputs": [],
   "source": [
    "### monetary amounts in subject lines "
   ]
  },
  {
   "cell_type": "code",
   "execution_count": 65,
   "metadata": {
    "collapsed": false
   },
   "outputs": [
    {
     "data": {
      "text/plain": [
       "[('22', '8'),\n",
       " ('22', '8'),\n",
       " ('10', 'M'),\n",
       " ('10', 'M'),\n",
       " ('10', 'M'),\n",
       " ('10', 'M'),\n",
       " ('6', '8'),\n",
       " ('25', 'million'),\n",
       " ('25', 'million'),\n",
       " ('25', 'million'),\n",
       " ('25', 'million'),\n",
       " ('25', 'million'),\n",
       " ('25', 'million'),\n",
       " ('25', 'million'),\n",
       " ('25', 'million'),\n",
       " ('25', 'million'),\n",
       " ('25', 'million'),\n",
       " ('25', 'million'),\n",
       " ('25', 'million'),\n",
       " ('25', 'million'),\n",
       " ('25', 'million'),\n",
       " ('82', '0'),\n",
       " ('82', '0'),\n",
       " ('40', 'Million'),\n",
       " ('27', 'Billion'),\n",
       " ('27', 'Billion'),\n",
       " ('5', '0'),\n",
       " ('5', '0'),\n",
       " ('89', '5'),\n",
       " ('89', '5'),\n",
       " ('1', '9'),\n",
       " ('1', '9'),\n",
       " ('1', '9'),\n",
       " ('1', '9'),\n",
       " ('870', 'K'),\n",
       " ('870', 'K'),\n",
       " ('14', '1'),\n",
       " ('14', '1'),\n",
       " ('21', 'billion'),\n",
       " ('6', 'million'),\n",
       " ('14', 'bln'),\n",
       " ('14', 'bln'),\n",
       " ('100', 'PRICE'),\n",
       " ('250', 'Cap'),\n",
       " ('350', 'MM'),\n",
       " ('1', '2'),\n",
       " ('1', '2'),\n",
       " ('1', '2'),\n",
       " ('1', '2'),\n",
       " ('10', 'Three'),\n",
       " ('70', '0'),\n",
       " ('70', '0'),\n",
       " ('70', '0'),\n",
       " ('10', 'you'),\n",
       " ('10', 'you'),\n",
       " ('13', 'B'),\n",
       " ('13', 'B'),\n",
       " ('100', 'on'),\n",
       " ('500', 'k'),\n",
       " ('500', 'k'),\n",
       " ('500', 'k'),\n",
       " ('500', 'k'),\n",
       " ('500', 'k'),\n",
       " ('500', 'k'),\n",
       " ('500', 'k'),\n",
       " ('500', 'k'),\n",
       " ('500', 'k'),\n",
       " ('2', 'Billion'),\n",
       " ('2', 'Billion'),\n",
       " ('2', 'Billion'),\n",
       " ('2', 'Billion'),\n",
       " ('97', '1'),\n",
       " ('97', '1'),\n",
       " ('97', '1'),\n",
       " ('97', '1'),\n",
       " ('97', '1'),\n",
       " ('97', '1'),\n",
       " ('1', 'Billion'),\n",
       " ('1', 'Billion'),\n",
       " ('39', 'in'),\n",
       " ('39', 'in'),\n",
       " ('1', '0'),\n",
       " ('1', '0'),\n",
       " ('14', '9'),\n",
       " ('5', '0'),\n",
       " ('5', '0'),\n",
       " ('5', '0'),\n",
       " ('2', '1'),\n",
       " ('21', 'P'),\n",
       " ('550', 'Million'),\n",
       " ('455', 'Million'),\n",
       " ('5', 'million'),\n",
       " ('5', 'million'),\n",
       " ('5', 'million'),\n",
       " ('7', 'MM'),\n",
       " ('7', 'MM'),\n",
       " ('7', 'MM'),\n",
       " ('7', 'MM'),\n",
       " ('7', 'MM'),\n",
       " ('7', 'MM'),\n",
       " ('100', 'Price'),\n",
       " ('2', '0'),\n",
       " ('2', '0'),\n",
       " ('2', '0'),\n",
       " ('2', '0'),\n",
       " ('10', '0'),\n",
       " ('10', '0'),\n",
       " ('10', '0'),\n",
       " ('2', '0'),\n",
       " ('2', '0'),\n",
       " ('2', '9'),\n",
       " ('2', '9'),\n",
       " ('2', '9'),\n",
       " ('2', '9'),\n",
       " ('2', '9'),\n",
       " ('2', '9'),\n",
       " ('160', '0'),\n",
       " ('160', '0'),\n",
       " ('160', '0'),\n",
       " ('160', '0'),\n",
       " ('160', '0'),\n",
       " ('160', '0'),\n",
       " ('160', '0'),\n",
       " ('2', 'Billion'),\n",
       " ('2', 'Billion'),\n",
       " ('2', 'Billion'),\n",
       " ('6', '7'),\n",
       " ('100', 'mil'),\n",
       " ('50', 'per'),\n",
       " ('21', '2'),\n",
       " ('21', '2'),\n",
       " ('21', '2'),\n",
       " ('21', '2'),\n",
       " ('21', '2'),\n",
       " ('21', '2'),\n",
       " ('19', '5'),\n",
       " ('19', '5'),\n",
       " ('19', '5'),\n",
       " ('19', '5'),\n",
       " ('19', '5'),\n",
       " ('19', '5'),\n",
       " ('19', '5'),\n",
       " ('19', '5'),\n",
       " ('19', '5'),\n",
       " ('19', '5'),\n",
       " ('19', '5'),\n",
       " ('19', '5'),\n",
       " ('4', '2'),\n",
       " ('4', '2'),\n",
       " ('4', '2'),\n",
       " ('7', 'MM'),\n",
       " ('7', 'MM'),\n",
       " ('7', 'MM'),\n",
       " ('1', '0'),\n",
       " ('1', '0'),\n",
       " ('1', '6'),\n",
       " ('1', '6'),\n",
       " ('1', '6'),\n",
       " ('8', 'Million'),\n",
       " ('8', 'Million'),\n",
       " ('500', 'mm'),\n",
       " ('500', 'mm'),\n",
       " ('500', 'mm'),\n",
       " ('80', 'million'),\n",
       " ('80', 'million'),\n",
       " ('80', 'million'),\n",
       " ('80', 'million'),\n",
       " ('80', 'million'),\n",
       " ('80', 'million'),\n",
       " ('80', 'million'),\n",
       " ('50', 'M'),\n",
       " ('102', 'Target'),\n",
       " ('102', 'Target'),\n",
       " ('20', '0'),\n",
       " ('5', '0'),\n",
       " ('25', 'Million'),\n",
       " ('25', 'Million'),\n",
       " ('25', 'Million'),\n",
       " ('120', 'EXTRA'),\n",
       " ('120', 'EXTRA'),\n",
       " ('45', 'Million'),\n",
       " ('45', 'Million'),\n",
       " ('14', '7'),\n",
       " ('14', '7'),\n",
       " ('14', '7'),\n",
       " ('14', '7'),\n",
       " ('14', '7'),\n",
       " ('14', '7'),\n",
       " ('14', '7'),\n",
       " ('600', 'B'),\n",
       " ('600', 'B'),\n",
       " ('14', '7'),\n",
       " ('14', '7'),\n",
       " ('14', '7'),\n",
       " ('24', '0'),\n",
       " ('24', '0'),\n",
       " ('2', '2'),\n",
       " ('2', '2'),\n",
       " ('2', '2'),\n",
       " ('100', 'k'),\n",
       " ('7', '7'),\n",
       " ('18', '3'),\n",
       " ('130', 'Million'),\n",
       " ('130', 'Million'),\n",
       " ('130', 'Million'),\n",
       " ('1', 'mm'),\n",
       " ('1', '0'),\n",
       " ('1', '0'),\n",
       " ('1', '0'),\n",
       " ('1', '0'),\n",
       " ('1', '0'),\n",
       " ('1', '0'),\n",
       " ('128', 'Return'),\n",
       " ('128', 'Return')]"
      ]
     },
     "execution_count": 65,
     "metadata": {},
     "output_type": "execute_result"
    }
   ],
   "source": [
    "# math somethlike $10 m,k,b\n",
    "re.findall(r\"\\$(\\d+) ?(\\w+)\", all_subjects) # money sgn, one or more digits, followed potentially by a space and one or more char"
   ]
  },
  {
   "cell_type": "code",
   "execution_count": 71,
   "metadata": {
    "collapsed": false
   },
   "outputs": [
    {
     "data": {
      "text/plain": [
       "1391516340000"
      ]
     },
     "execution_count": 71,
     "metadata": {},
     "output_type": "execute_result"
    }
   ],
   "source": [
    "vals = []\n",
    "for item in re.findall(r\"\\$(\\d+) ?([mMbBkK])\", all_subjects):\n",
    "    multiplier = item[1].lower()\n",
    "    number_val = int(item[0])\n",
    "    if multiplier == 'k':\n",
    "        number_val *= 1000\n",
    "    elif multiplier == 'm':\n",
    "        number_val *= 10000000\n",
    "    elif multiplier == 'b':\n",
    "        number_val *= 1000000000 \n",
    "    vals.append(number_val)\n",
    "sum(vals)"
   ]
  },
  {
   "cell_type": "markdown",
   "metadata": {},
   "source": [
    "### substitution with regular expressions"
   ]
  },
  {
   "cell_type": "code",
   "execution_count": 72,
   "metadata": {
    "collapsed": true
   },
   "outputs": [],
   "source": [
    "message = \"this is a test, this is only a test\""
   ]
  },
  {
   "cell_type": "code",
   "execution_count": 73,
   "metadata": {
    "collapsed": false
   },
   "outputs": [
    {
     "data": {
      "text/plain": [
       "'that is a test, that is only a test'"
      ]
     },
     "execution_count": 73,
     "metadata": {},
     "output_type": "execute_result"
    }
   ],
   "source": [
    "message.replace(\"this\", \"that\")"
   ]
  },
  {
   "cell_type": "code",
   "execution_count": 74,
   "metadata": {
    "collapsed": false
   },
   "outputs": [
    {
     "data": {
      "text/plain": [
       "'this is a test, this is only a test'"
      ]
     },
     "execution_count": 74,
     "metadata": {},
     "output_type": "execute_result"
    }
   ],
   "source": [
    "message"
   ]
  },
  {
   "cell_type": "code",
   "execution_count": 75,
   "metadata": {
    "collapsed": false
   },
   "outputs": [
    {
     "data": {
      "text/plain": [
       "'WALRUS WALRUS WALRUS WALRUS, WALRUS WALRUS WALRUS WALRUS WALRUS'"
      ]
     },
     "execution_count": 75,
     "metadata": {},
     "output_type": "execute_result"
    }
   ],
   "source": [
    "re.sub(r\"\\b\\w+\\b\", \"WALRUS\", message)"
   ]
  },
  {
   "cell_type": "code",
   "execution_count": 76,
   "metadata": {
    "collapsed": true
   },
   "outputs": [],
   "source": [
    "anon = re.sub(r\"\\d{3}-\\d{3}-\\d{4}\", \"555-555-5555\", all_subjects)"
   ]
  },
  {
   "cell_type": "code",
   "execution_count": 77,
   "metadata": {
    "collapsed": false
   },
   "outputs": [
    {
     "data": {
      "text/plain": [
       "['Call Chris 555-555-5555',\n",
       " \"git's Contact Info: 555-555-5555\",\n",
       " \"git's Contact Info: 555-555-5555\",\n",
       " \"git's Contact Info: 555-555-5555\",\n",
       " \"git's Contact Info: 555-555-5555\",\n",
       " \"git's Contact Info: 555-555-5555\",\n",
       " \"git's Contact Info: 555-555-5555\",\n",
       " \"git's Contact Info: 555-555-5555\",\n",
       " \"git's Contact Info: 555-555-5555\",\n",
       " \"git's Contact Info: 555-555-5555\",\n",
       " \"git's Contact Info: 555-555-5555\",\n",
       " 'Terry 555-555-5555',\n",
       " 'Re: 555-555-5555',\n",
       " \"W: Mark's number is 555-555-5555\",\n",
       " \"E: Mark's number is 555-555-5555\",\n",
       " \"Mark's number is 555-555-5555\",\n",
       " \"E: Mark's number is 555-555-5555\",\n",
       " \"Mark's number is 555-555-5555\",\n",
       " 'ease call for map 1-555-555-5555 or',\n",
       " 'Bill F 555-555-5555',\n",
       " ' Jonathon Fairbanks 555-555-5555w/555-555-5555c and ',\n",
       " 'irk re CGAS lawsuit 555-555-5555',\n",
       " ' Johnston at Dynegy 555-555-5555 re Debbie Chance',\n",
       " 'data /Tracy Ashmore-555-555-5555',\n",
       " 'Re: Kaye Ellis - 555-555-5555 (home)',\n",
       " 'n Paper Conf Call 1-555-555-5555,',\n",
       " 'O policies.  Dial 1-555-555-5555 and ask for the Jul',\n",
       " 'nf Call (Alvarez) 1-555-555-5555, HC:']"
      ]
     },
     "execution_count": 77,
     "metadata": {},
     "output_type": "execute_result"
    }
   ],
   "source": [
    "re.findall(r\".{,20}\\d{3}-\\d{3}-\\d{4}.{,20}\", anon)"
   ]
  },
  {
   "cell_type": "code",
   "execution_count": 85,
   "metadata": {
    "collapsed": true
   },
   "outputs": [],
   "source": [
    "x = \"This is a test\""
   ]
  },
  {
   "cell_type": "code",
   "execution_count": 89,
   "metadata": {
    "collapsed": false
   },
   "outputs": [
    {
     "data": {
      "text/plain": [
       "'\\that is a \\that'"
      ]
     },
     "execution_count": 89,
     "metadata": {},
     "output_type": "execute_result"
    }
   ],
   "source": [
    "re.sub(r\"([tT])\\w+\", \"\\that\", x)"
   ]
  },
  {
   "cell_type": "code",
   "execution_count": 90,
   "metadata": {
    "collapsed": false
   },
   "outputs": [
    {
     "data": {
      "text/plain": [
       "('menupages-morningsideheights.html', <http.client.HTTPMessage at 0x102888780>)"
      ]
     },
     "execution_count": 90,
     "metadata": {},
     "output_type": "execute_result"
    }
   ],
   "source": [
    "from urllib.request import urlretrieve\n",
    "#saves the file with that name in the same file that the jupyter server is running n . \n",
    "urlretrieve(\"https://raw.githubusercontent.com/ledeprogram/data-and-databases/master/menupages-morningside-heights.html\", \"menupages-morningsideheights.html\")"
   ]
  },
  {
   "cell_type": "markdown",
   "metadata": {},
   "source": [
    "We want to store:\n",
    " * restaurant name\n",
    " * price (\\$$$$)\n",
    " * cuisines\n",
    " \n",
    " research phase:\n",
    " * restaurants are in `<td>` tags with class `name-address`\n",
    " * restaurant names are in `<a>` tag inside that `<td>`\n",
    " * restaurant price in a `span` inside a `td` with class `price`\n",
    " * restaurant cuisine has no class and is in a `td` - it is the 5th child of the restaurant's `tr` tag \n",
    " \n",
    " target:\n",
    " * list of dictionaries \n",
    " [ \n",
    " {'name': \"Brad's\", 'price': 1, 'cuisine':}\n",
    " ]"
   ]
  },
  {
   "cell_type": "code",
   "execution_count": 1,
   "metadata": {
    "collapsed": false
   },
   "outputs": [],
   "source": [
    "from bs4 import BeautifulSoup"
   ]
  },
  {
   "cell_type": "code",
   "execution_count": 2,
   "metadata": {
    "collapsed": true
   },
   "outputs": [],
   "source": [
    "raw_html = open(\"menupages-morningsideheights.html\").read()\n",
    "soup = BeautifulSoup(raw_html, \"html.parser\")"
   ]
  },
  {
   "cell_type": "code",
   "execution_count": 17,
   "metadata": {
    "collapsed": false
   },
   "outputs": [
    {
     "name": "stdout",
     "output_type": "stream",
     "text": [
      "Milano Market\n",
      "Massawa\n",
      "China Place\n",
      "Subsconscious\n",
      "Famous Famiglia\n",
      "Kitchenette\n",
      "V & T Pizza\n",
      "New Aroma\n",
      "Peking Garden\n",
      "Tom's Restaurant\n",
      "Pisticci\n",
      "Deluxe\n",
      "Toast\n",
      "Tom's Delicious Pizza\n",
      "West Place\n",
      "Che' Bella Pizza\n",
      "Ajanta\n",
      "Panino Sportivo Roma\n",
      "Max Soha\n",
      "Strokos Pizza\n",
      "Camille's\n",
      "Amsterdam Restaurant\n",
      "Nussbaum & Wu\n",
      "Amir's Grill\n",
      "M2M - Morning To Midnight\n",
      "The Mill\n",
      "Le Monde\n",
      "Melba's\n",
      "Chuck E Cheese's\n",
      "Haagen-Dazs\n",
      "Oren's\n",
      "Dinosaur Bar-B-Que\n",
      "Symposium Greek Restaurant\n",
      "Koronet Pizza\n",
      "The Heights Bar & Grill\n",
      "Cafe Nana\n",
      "Hamilton Deli\n",
      "Community Food & Juice\n",
      "Haakon's Hall\n",
      "El Porton\n",
      "Brad's\n",
      "Mel's Burger Bar\n",
      "Bettolona\n",
      "Five Guys\n",
      "Nikko\n",
      "Falafel on Broadway\n",
      "Sushi Sushi\n",
      "Insomnia Cookies\n",
      "Cafe Amrita\n",
      "Pinkberry\n",
      "Artopolis Espresso Cafe\n",
      "Max Caffe\n",
      "Chipotle\n",
      "Chokolat Patisserie\n",
      "Chokolat Patisserie\n",
      "Joe's G-H Deli\n",
      "Joe the Art of Coffee\n",
      "Levain Bakery\n",
      "Silvana\n",
      "Bier International\n",
      "Vegenation\n",
      "Flat Top\n",
      "Kuro Kuma\n",
      "Vinateria\n",
      "Henan Cart\n",
      "Vine\n",
      "El Paso Truck\n",
      "Mama's Fried Chicken and Pizza\n",
      "Chapati House\n",
      "Dig Inn Seasonal Market\n",
      "Uncle Luoyang\n",
      "Pita Grill\n",
      "Kissaten Jin\n",
      "Serengeti Teas & Spices\n",
      "Lighthouse Fish Market & Restaurant\n",
      "Lolo's Seafood Shack\n",
      "Harmony\n",
      "Bernheim & Schwartz\n",
      "BTH (By The Hudson)\n",
      "Empanadas Monumental\n",
      "Friedman's\n",
      "176 Presbyterian Deli\n",
      "Nacho Mama's\n",
      "Streetbird Rotisserie\n",
      "Colum Chinese Restaurant\n",
      "Flacoz Tacoz\n",
      "sweetgreen\n",
      "La Salle Dumpling Room\n"
     ]
    }
   ],
   "source": [
    "search_table = soup.find(\"table\", {'class': 'search-results'})\n",
    "table_body = search_table.find('tbody')\n",
    "for tr_tag in table_body.findAll('tr'):\n",
    "    name_address_tag = tr_tag.find('td', {'class':'name-address'})\n",
    "    a_tag = name_address_tag.find('a')\n",
    "    print(a_tag.string)"
   ]
  },
  {
   "cell_type": "code",
   "execution_count": 26,
   "metadata": {
    "collapsed": false
   },
   "outputs": [
    {
     "name": "stdout",
     "output_type": "stream",
     "text": [
      "Milano Market 2\n",
      "Massawa 0\n",
      "China Place 0\n",
      "Subsconscious 0\n",
      "Famous Famiglia 0\n",
      "Kitchenette 0\n",
      "V & T Pizza 0\n",
      "New Aroma 1\n",
      "Peking Garden 1\n",
      "Tom's Restaurant 1\n",
      "Pisticci 1\n",
      "Deluxe 1\n",
      "Toast 2\n",
      "Tom's Delicious Pizza 2\n",
      "West Place 1\n",
      "Che' Bella Pizza 0\n",
      "Ajanta 0\n",
      "Panino Sportivo Roma 2\n",
      "Max Soha 2\n",
      "Strokos Pizza 3\n",
      "Camille's 1\n",
      "Amsterdam Restaurant 1\n",
      "Nussbaum & Wu 0\n",
      "Amir's Grill 1\n",
      "M2M - Morning To Midnight 1\n",
      "The Mill 2\n",
      "Le Monde 1\n",
      "Melba's 1\n",
      "Chuck E Cheese's 0\n",
      "Haagen-Dazs 1\n",
      "Oren's 0\n",
      "Dinosaur Bar-B-Que 3\n",
      "Symposium Greek Restaurant 0\n",
      "Koronet Pizza 1\n",
      "The Heights Bar & Grill 1\n",
      "Cafe Nana 0\n",
      "Hamilton Deli 0\n",
      "Community Food & Juice 0\n",
      "Haakon's Hall 0\n",
      "El Porton 0\n",
      "Brad's 1\n",
      "Mel's Burger Bar 2\n",
      "Bettolona 1\n",
      "Five Guys 1\n",
      "Nikko 2\n",
      "Falafel on Broadway 1\n",
      "Sushi Sushi 1\n",
      "Insomnia Cookies 1\n",
      "Cafe Amrita 1\n",
      "Pinkberry 2\n",
      "Artopolis Espresso Cafe 1\n",
      "Max Caffe 2\n",
      "Chipotle 1\n",
      "Chokolat Patisserie 5\n",
      "Chokolat Patisserie 1\n",
      "Joe's G-H Deli 2\n",
      "Joe the Art of Coffee 1\n",
      "Levain Bakery 2\n",
      "Silvana 1\n",
      "Bier International 1\n",
      "Vegenation 1\n",
      "Flat Top 4\n",
      "Kuro Kuma 1\n",
      "Vinateria 2\n",
      "Henan Cart 1\n",
      "Vine 2\n",
      "El Paso Truck 1\n",
      "Mama's Fried Chicken and Pizza 1\n",
      "Chapati House 2\n",
      "Dig Inn Seasonal Market 1\n",
      "Uncle Luoyang 1\n",
      "Pita Grill 2\n",
      "Kissaten Jin 1\n",
      "Serengeti Teas & Spices 2\n",
      "Lighthouse Fish Market & Restaurant 3\n",
      "Lolo's Seafood Shack 2\n",
      "Harmony 1\n",
      "Bernheim & Schwartz 2\n",
      "BTH (By The Hudson) 3\n",
      "Empanadas Monumental 0\n",
      "Friedman's 0\n",
      "176 Presbyterian Deli 0\n",
      "Nacho Mama's 0\n",
      "Streetbird Rotisserie 0\n",
      "Colum Chinese Restaurant 0\n",
      "Flacoz Tacoz 0\n",
      "sweetgreen 0\n",
      "La Salle Dumpling Room 0\n"
     ]
    }
   ],
   "source": [
    "search_table = soup.find(\"table\", {'class': 'search-results'})\n",
    "table_body = search_table.find('tbody')\n",
    "for tr_tag in table_body.findAll('tr'):\n",
    "    # get the restaurant name from the a inside a td\n",
    "    name_address_tag = tr_tag.find('td', {'class':'name-address'})\n",
    "    a_tag = name_address_tag.find('a')\n",
    "    restaurant_name = a_tag.string\n",
    "    \n",
    "    # get the price from the span if present \n",
    "    price_tag = tr_tag.find('td', {'class':'price'})\n",
    "    price_span_tag = price_tag.find('span')\n",
    "    if price_span_tag:\n",
    "        price = int(price_span_tag.string)\n",
    "    else: \n",
    "        price = 0\n",
    "   \n",
    "    #sometimes there is no span, if the price is N/A\n",
    "    \n",
    "    print(restaurant_name, price)"
   ]
  },
  {
   "cell_type": "code",
   "execution_count": 60,
   "metadata": {
    "collapsed": true
   },
   "outputs": [],
   "source": [
    "def get_name(tr_tag):\n",
    "    name_address_tag = tr_tag.find('td', {'class':'name-address'})\n",
    "    a_tag = name_address_tag.find('a')\n",
    "    restaurant_name = a_tag.string\n",
    "    return restaurant_name\n",
    "\n",
    "def get_price(tr_tag):\n",
    "    price_tag = tr_tag.find('td', {'class':'price'})\n",
    "    price_span_tag = price_tag.find('span')\n",
    "    if price_span_tag:\n",
    "        price = int(price_span_tag.string)\n",
    "    else: \n",
    "        price = 0\n",
    "    return price\n",
    "def get_cuisine(tr_tag):\n",
    "    all_td_tags = tr_tag.find_all('td')\n",
    "    cuisine_tag = all_td_tags[4]\n",
    "    #print(restaurant_name)\n",
    "    #print(cuisine_tag)\n",
    "    cuisines = cuisine_tag.string\n",
    "    if cuisines:\n",
    "        cuisine_list = cuisines.split(\" ,\")\n",
    "    else: # return an empty list of of the cuisines_tag does not have a cuisine\n",
    "        cuisine_list = []\n",
    "\n",
    "    # code here!\n",
    "    # * restaurant cuisine has no class and is in a `td` \n",
    "    #- it is the 5th child of the restaurant's `tr` tag \n",
    " \n",
    "    return cuisine_list"
   ]
  },
  {
   "cell_type": "code",
   "execution_count": 61,
   "metadata": {
    "collapsed": false
   },
   "outputs": [
    {
     "name": "stdout",
     "output_type": "stream",
     "text": [
      "Milano Market\n",
      "<td>deli, sandwiches</td>\n",
      "Milano Market 2 ['deli, sandwiches']\n",
      "Massawa\n",
      "<td>ethiopian, african</td>\n",
      "Massawa 0 ['ethiopian, african']\n",
      "China Place\n",
      "<td>chinese, japanese, sushi</td>\n",
      "China Place 0 ['chinese, japanese, sushi']\n",
      "Subsconscious\n",
      "<td>cheese-steaks, deli, sandwiches, salads</td>\n",
      "Subsconscious 0 ['cheese-steaks, deli, sandwiches, salads']\n",
      "Famous Famiglia\n",
      "<td>italian, pizza</td>\n",
      "Famous Famiglia 0 ['italian, pizza']\n",
      "Kitchenette\n",
      "<td>bakery-pastries, american, desserts</td>\n",
      "Kitchenette 0 ['bakery-pastries, american, desserts']\n",
      "V & T Pizza\n",
      "<td>italian, pizza</td>\n",
      "V & T Pizza 0 ['italian, pizza']\n",
      "New Aroma\n",
      "<td>chinese</td>\n",
      "New Aroma 1 ['chinese']\n",
      "Peking Garden\n",
      "<td>chinese</td>\n",
      "Peking Garden 1 ['chinese']\n",
      "Tom's Restaurant\n",
      "<td>diner</td>\n",
      "Tom's Restaurant 1 ['diner']\n",
      "Pisticci\n",
      "<td>italian</td>\n",
      "Pisticci 1 ['italian']\n",
      "Deluxe\n",
      "<td>diner, american</td>\n",
      "Deluxe 1 ['diner, american']\n",
      "Toast\n",
      "<td>american, bar-food</td>\n",
      "Toast 2 ['american, bar-food']\n",
      "Tom's Delicious Pizza\n",
      "<td>italian, pizza</td>\n",
      "Tom's Delicious Pizza 2 ['italian, pizza']\n",
      "West Place\n",
      "<td>chinese</td>\n",
      "West Place 1 ['chinese']\n",
      "Che' Bella Pizza\n",
      "<td>italian, pizza</td>\n",
      "Che' Bella Pizza 0 ['italian, pizza']\n",
      "Ajanta\n",
      "<td>indian</td>\n",
      "Ajanta 0 ['indian']\n",
      "Panino Sportivo Roma\n",
      "<td>italian, coffee-tea, sandwiches</td>\n",
      "Panino Sportivo Roma 2 ['italian, coffee-tea, sandwiches']\n",
      "Max Soha\n",
      "<td>italian</td>\n",
      "Max Soha 2 ['italian']\n",
      "Strokos Pizza\n",
      "<td>deli, pizza, sandwiches, chicken</td>\n",
      "Strokos Pizza 3 ['deli, pizza, sandwiches, chicken']\n",
      "Camille's\n",
      "<td>american</td>\n",
      "Camille's 1 ['american']\n",
      "Amsterdam Restaurant\n",
      "<td>american-new, tapas</td>\n",
      "Amsterdam Restaurant 1 ['american-new, tapas']\n",
      "Nussbaum & Wu\n",
      "<td>deli, sandwiches, bagels, salads</td>\n",
      "Nussbaum & Wu 0 ['deli, sandwiches, bagels, salads']\n",
      "Amir's Grill\n",
      "<td>middle-eastern</td>\n",
      "Amir's Grill 1 ['middle-eastern']\n",
      "M2M - Morning To Midnight\n",
      "<td>japanese, sushi, deli, sandwiches</td>\n",
      "M2M - Morning To Midnight 1 ['japanese, sushi, deli, sandwiches']\n",
      "The Mill\n",
      "<td>korean</td>\n",
      "The Mill 2 ['korean']\n",
      "Le Monde\n",
      "<td>french, bistro</td>\n",
      "Le Monde 1 ['french, bistro']\n",
      "Melba's\n",
      "<td>american-new, soul-food</td>\n",
      "Melba's 1 ['american-new, soul-food']\n",
      "Chuck E Cheese's\n",
      "<td>pizza, american</td>\n",
      "Chuck E Cheese's 0 ['pizza, american']\n",
      "Haagen-Dazs\n",
      "<td>desserts</td>\n",
      "Haagen-Dazs 1 ['desserts']\n",
      "Oren's\n",
      "<td>coffee-tea, sandwiches</td>\n",
      "Oren's 0 ['coffee-tea, sandwiches']\n",
      "Dinosaur Bar-B-Que\n",
      "<td>barbecue, soul-food</td>\n",
      "Dinosaur Bar-B-Que 3 ['barbecue, soul-food']\n",
      "Symposium Greek Restaurant\n",
      "<td>greek, vegetarian</td>\n",
      "Symposium Greek Restaurant 0 ['greek, vegetarian']\n",
      "Koronet Pizza\n",
      "<td>pizza</td>\n",
      "Koronet Pizza 1 ['pizza']\n",
      "The Heights Bar & Grill\n",
      "<td>southwestern, tapas, bar-food</td>\n",
      "The Heights Bar & Grill 1 ['southwestern, tapas, bar-food']\n",
      "Cafe Nana\n",
      "<td>middle-eastern, kosher</td>\n",
      "Cafe Nana 0 ['middle-eastern, kosher']\n",
      "Hamilton Deli\n",
      "<td>deli, sandwiches</td>\n",
      "Hamilton Deli 0 ['deli, sandwiches']\n",
      "Community Food & Juice\n",
      "<td>american-new, smoothies-juices, vegetarian, healthy, localorganic</td>\n",
      "Community Food & Juice 0 ['american-new, smoothies-juices, vegetarian, healthy, localorganic']\n",
      "Haakon's Hall\n",
      "<td>american, scandinavian</td>\n",
      "Haakon's Hall 0 ['american, scandinavian']\n",
      "El Porton\n",
      "<td>mexican</td>\n",
      "El Porton 0 ['mexican']\n",
      "Brad's\n",
      "<td>coffee-tea</td>\n",
      "Brad's 1 ['coffee-tea']\n",
      "Mel's Burger Bar\n",
      "<td>burgers, bar-food</td>\n",
      "Mel's Burger Bar 2 ['burgers, bar-food']\n",
      "Bettolona\n",
      "<td>italian, pizza, localorganic</td>\n",
      "Bettolona 1 ['italian, pizza, localorganic']\n",
      "Five Guys\n",
      "<td>burgers, hot-dogs</td>\n",
      "Five Guys 1 ['burgers, hot-dogs']\n",
      "Nikko\n",
      "<td>chinese, japanese, sushi, teahouses</td>\n",
      "Nikko 2 ['chinese, japanese, sushi, teahouses']\n",
      "Falafel on Broadway\n",
      "<td>middle-eastern</td>\n",
      "Falafel on Broadway 1 ['middle-eastern']\n",
      "Sushi Sushi\n",
      "<td>japanese, sushi</td>\n",
      "Sushi Sushi 1 ['japanese, sushi']\n",
      "Insomnia Cookies\n",
      "<td>bakery-pastries, desserts</td>\n",
      "Insomnia Cookies 1 ['bakery-pastries, desserts']\n",
      "Cafe Amrita\n",
      "<td>coffee-tea, sandwiches</td>\n",
      "Cafe Amrita 1 ['coffee-tea, sandwiches']\n",
      "Pinkberry\n",
      "<td>desserts</td>\n",
      "Pinkberry 2 ['desserts']\n",
      "Artopolis Espresso Cafe\n",
      "<td>coffee-tea, sandwiches, crepes</td>\n",
      "Artopolis Espresso Cafe 1 ['coffee-tea, sandwiches, crepes']\n",
      "Max Caffe\n",
      "<td>coffee-tea, sandwiches</td>\n",
      "Max Caffe 2 ['coffee-tea, sandwiches']\n",
      "Chipotle\n",
      "<td>mexican</td>\n",
      "Chipotle 1 ['mexican']\n",
      "Chokolat Patisserie\n",
      "<td>bakery-pastries, desserts</td>\n",
      "Chokolat Patisserie 5 ['bakery-pastries, desserts']\n",
      "Chokolat Patisserie\n",
      "<td>bakery-pastries, coffee-tea, desserts</td>\n",
      "Chokolat Patisserie 1 ['bakery-pastries, coffee-tea, desserts']\n",
      "Joe's G-H Deli\n",
      "<td>deli, sandwiches</td>\n",
      "Joe's G-H Deli 2 ['deli, sandwiches']\n",
      "Joe the Art of Coffee\n",
      "<td>coffee-tea</td>\n",
      "Joe the Art of Coffee 1 ['coffee-tea']\n",
      "Levain Bakery\n",
      "<td>bakery-pastries, desserts</td>\n",
      "Levain Bakery 2 ['bakery-pastries, desserts']\n",
      "Silvana\n",
      "<td>middle-eastern, vegetarian</td>\n",
      "Silvana 1 ['middle-eastern, vegetarian']\n",
      "Bier International\n",
      "<td>german, eclectic, bar-food</td>\n",
      "Bier International 1 ['german, eclectic, bar-food']\n",
      "Vegenation\n",
      "<td>indian, vegetarian</td>\n",
      "Vegenation 1 ['indian, vegetarian']\n",
      "Flat Top\n",
      "<td>american-new, bistro</td>\n",
      "Flat Top 4 ['american-new, bistro']\n",
      "Kuro Kuma\n",
      "<td>coffee-tea</td>\n",
      "Kuro Kuma 1 ['coffee-tea']\n",
      "Vinateria\n",
      "<td>american-new</td>\n",
      "Vinateria 2 ['american-new']\n",
      "Henan Cart\n",
      "<td>chinese</td>\n",
      "Henan Cart 1 ['chinese']\n",
      "Vine\n",
      "<td>japanese, sushi, thai</td>\n",
      "Vine 2 ['japanese, sushi, thai']\n",
      "El Paso Truck\n",
      "<td>mexican</td>\n",
      "El Paso Truck 1 ['mexican']\n",
      "Mama's Fried Chicken and Pizza\n",
      "<td>pizza, chicken</td>\n",
      "Mama's Fried Chicken and Pizza 1 ['pizza, chicken']\n",
      "Chapati House\n",
      "<td>indian</td>\n",
      "Chapati House 2 ['indian']\n",
      "Dig Inn Seasonal Market\n",
      "<td>american, localorganic</td>\n",
      "Dig Inn Seasonal Market 1 ['american, localorganic']\n",
      "Uncle Luoyang\n",
      "<td>chinese</td>\n",
      "Uncle Luoyang 1 ['chinese']\n",
      "Pita Grill\n",
      "<td>middle-eastern</td>\n",
      "Pita Grill 2 ['middle-eastern']\n",
      "Kissaten Jin\n",
      "<td>japanese</td>\n",
      "Kissaten Jin 1 ['japanese']\n",
      "Serengeti Teas & Spices\n",
      "<td>coffee-tea, teahouses</td>\n",
      "Serengeti Teas & Spices 2 ['coffee-tea, teahouses']\n",
      "Lighthouse Fish Market & Restaurant\n",
      "<td>seafood, wings, fish--chips</td>\n",
      "Lighthouse Fish Market & Restaurant 3 ['seafood, wings, fish--chips']\n",
      "Lolo's Seafood Shack\n",
      "<td>seafood</td>\n",
      "Lolo's Seafood Shack 2 ['seafood']\n",
      "Harmony\n",
      "<td>sandwiches, salads, teahouses</td>\n",
      "Harmony 1 ['sandwiches, salads, teahouses']\n",
      "Bernheim & Schwartz\n",
      "<td>american, gastropub</td>\n",
      "Bernheim & Schwartz 2 ['american, gastropub']\n",
      "BTH (By The Hudson)\n",
      "<td>american-new</td>\n",
      "BTH (By The Hudson) 3 ['american-new']\n",
      "Empanadas Monumental\n",
      "<td></td>\n",
      "Empanadas Monumental 0 []\n",
      "Friedman's\n",
      "<td></td>\n",
      "Friedman's 0 []\n",
      "176 Presbyterian Deli\n",
      "<td></td>\n",
      "176 Presbyterian Deli 0 []\n",
      "Nacho Mama's\n",
      "<td></td>\n",
      "Nacho Mama's 0 []\n",
      "Streetbird Rotisserie\n",
      "<td></td>\n",
      "Streetbird Rotisserie 0 []\n",
      "Colum Chinese Restaurant\n",
      "<td></td>\n",
      "Colum Chinese Restaurant 0 []\n",
      "Flacoz Tacoz\n",
      "<td></td>\n",
      "Flacoz Tacoz 0 []\n",
      "sweetgreen\n",
      "<td></td>\n",
      "sweetgreen 0 []\n",
      "La Salle Dumpling Room\n",
      "<td></td>\n",
      "La Salle Dumpling Room 0 []\n"
     ]
    }
   ],
   "source": [
    "search_table = soup.find(\"table\", {'class': 'search-results'})\n",
    "table_body = search_table.find('tbody')\n",
    "for tr_tag in table_body.findAll('tr'):\n",
    "    restaurant_name = get_name(tr_tag)\n",
    "    price = get_price(tr_tag)\n",
    "    cuisine = get_cuisine(tr_tag)\n",
    "    print(restaurant_name, price, cuisine)"
   ]
  },
  {
   "cell_type": "code",
   "execution_count": null,
   "metadata": {
    "collapsed": true
   },
   "outputs": [],
   "source": []
  },
  {
   "cell_type": "code",
   "execution_count": null,
   "metadata": {
    "collapsed": true
   },
   "outputs": [],
   "source": []
  }
 ],
 "metadata": {
  "kernelspec": {
   "display_name": "Python 3",
   "language": "python",
   "name": "python3"
  },
  "language_info": {
   "codemirror_mode": {
    "name": "ipython",
    "version": 3
   },
   "file_extension": ".py",
   "mimetype": "text/x-python",
   "name": "python",
   "nbconvert_exporter": "python",
   "pygments_lexer": "ipython3",
   "version": "3.5.1"
  }
 },
 "nbformat": 4,
 "nbformat_minor": 0
}
