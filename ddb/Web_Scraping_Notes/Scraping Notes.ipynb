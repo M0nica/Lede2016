{
 "cells": [
  {
   "cell_type": "markdown",
   "metadata": {},
   "source": [
    "Scraping Kitten information from the web with BeautifulSoup/Python"
   ]
  },
  {
   "cell_type": "code",
   "execution_count": 5,
   "metadata": {
    "collapsed": false
   },
   "outputs": [
    {
     "ename": "SyntaxError",
     "evalue": "invalid syntax (<ipython-input-5-46f0b576f85a>, line 1)",
     "output_type": "error",
     "traceback": [
      "\u001b[0;36m  File \u001b[0;32m\"<ipython-input-5-46f0b576f85a>\"\u001b[0;36m, line \u001b[0;32m1\u001b[0m\n\u001b[0;31m    pip install bs4\u001b[0m\n\u001b[0m              ^\u001b[0m\n\u001b[0;31mSyntaxError\u001b[0m\u001b[0;31m:\u001b[0m invalid syntax\n"
     ]
    }
   ],
   "source": [
    "pip install bs4"
   ]
  },
  {
   "cell_type": "code",
   "execution_count": 6,
   "metadata": {
    "collapsed": false
   },
   "outputs": [],
   "source": [
    "from bs4 import BeautifulSoup"
   ]
  },
  {
   "cell_type": "code",
   "execution_count": 7,
   "metadata": {
    "collapsed": false
   },
   "outputs": [],
   "source": [
    "from urllib.request import urlopen\n",
    "html_str = urlopen(\"http://static.decontextualize.com/kittens.html\").read()"
   ]
  },
  {
   "cell_type": "code",
   "execution_count": 8,
   "metadata": {
    "collapsed": false
   },
   "outputs": [
    {
     "name": "stdout",
     "output_type": "stream",
     "text": [
      "b'<!doctype html>\\n<html>\\n\\t<head>\\n\\t\\t<title>Kittens!</title>\\n\\t\\t<style type=\"text/css\">\\n\\t\\t\\tspan.lastcheckup { font-family: \"Courier\", fixed; font-size: 11px; }\\n\\t\\t</style>\\n\\t</head>\\n\\t<body>\\n\\t\\t<h1>Kittens and the TV Shows They Love</h1>\\n\\t\\t<div class=\"kitten\">\\n\\t\\t\\t<h2>Fluffy</h2>\\n\\t\\t\\t<div><img src=\"http://placekitten.com/120/120\"></div>\\n\\t\\t\\t<ul class=\"tvshows\">\\n\\t\\t\\t\\t<li>\\n\\t\\t\\t\\t\\t<a href=\"http://www.imdb.com/title/tt0106145/\">Deep Space Nine</a>\\n\\t\\t\\t\\t</li>\\n\\t\\t\\t\\t<li>\\n\\t\\t\\t\\t\\t<a href=\"http://www.imdb.com/title/tt0088576/\">Mr. Belvedere</a>\\n\\t\\t\\t\\t</li>\\n\\t\\t\\t</ul>\\n\\t\\t\\tLast check-up: <span class=\"lastcheckup\">2014-01-17</span>\\n\\t\\t</div>\\n\\t\\t<div class=\"kitten\">\\n\\t\\t\\t<h2>Monsieur Whiskeurs</h2>\\n\\t\\t\\t<div><img src=\"http://placekitten.com/110/110\"></div>\\n\\t\\t\\t<ul class=\"tvshows\">\\n\\t\\t\\t\\t<li>\\n\\t\\t\\t\\t\\t<a href=\"http://www.imdb.com/title/tt0106179/\">The X-Files</a>\\n\\t\\t\\t\\t</li>\\n\\t\\t\\t\\t<li>\\n\\t\\t\\t\\t\\t<a href=\"http://www.imdb.com/title/tt0098800/\">Fresh Prince</a>\\n\\t\\t\\t\\t</li>\\n\\t\\t\\t</ul>\\n\\t\\t\\tLast check-up: <span class=\"lastcheckup\">2013-11-02</span>\\n\\t\\t</div>\\n\\t</body>\\n</html>\\n\\n'\n"
     ]
    }
   ],
   "source": [
    "print(html_str)"
   ]
  },
  {
   "cell_type": "code",
   "execution_count": 9,
   "metadata": {
    "collapsed": false
   },
   "outputs": [],
   "source": [
    "# This module defines a class HTMLParser which serves as the basis for parsing text files formatted in\n",
    "# HTML (HyperText Mark-up Language) and XHTML. \n",
    "document = BeautifulSoup(html_str, \"html.parser\")"
   ]
  },
  {
   "cell_type": "code",
   "execution_count": 10,
   "metadata": {
    "collapsed": false
   },
   "outputs": [
    {
     "data": {
      "text/plain": [
       "bs4.BeautifulSoup"
      ]
     },
     "execution_count": 10,
     "metadata": {},
     "output_type": "execute_result"
    }
   ],
   "source": [
    "type(document) # the type of this variable is bs4.BeautifulSoup"
   ]
  },
  {
   "cell_type": "code",
   "execution_count": 11,
   "metadata": {
    "collapsed": true
   },
   "outputs": [],
   "source": [
    "# document. + [tab] will show you all the possible commands you can use with document "
   ]
  },
  {
   "cell_type": "code",
   "execution_count": 12,
   "metadata": {
    "collapsed": false
   },
   "outputs": [],
   "source": [
    "#can only do this with beautiful soup \n",
    "# document.find('h1')\n",
    "h1_tag = document.find('h1')"
   ]
  },
  {
   "cell_type": "code",
   "execution_count": 13,
   "metadata": {
    "collapsed": false
   },
   "outputs": [
    {
     "data": {
      "text/plain": [
       "'Kittens and the TV Shows They Love'"
      ]
     },
     "execution_count": 13,
     "metadata": {},
     "output_type": "execute_result"
    }
   ],
   "source": [
    "#this returns the string attribute associated with 'h1'\n",
    "# can be used on beautiful soup - can not be used on variables that are strings\n",
    "h1_tag.string"
   ]
  },
  {
   "cell_type": "code",
   "execution_count": 14,
   "metadata": {
    "collapsed": true
   },
   "outputs": [],
   "source": [
    "#unrelated diversion\n",
    "x = \"this is\\na test\""
   ]
  },
  {
   "cell_type": "code",
   "execution_count": 15,
   "metadata": {
    "collapsed": false
   },
   "outputs": [
    {
     "name": "stdout",
     "output_type": "stream",
     "text": [
      "this is\n",
      "a test\n"
     ]
    }
   ],
   "source": [
    "print(x) # prints it out properly w/ correct formatting"
   ]
  },
  {
   "cell_type": "code",
   "execution_count": 16,
   "metadata": {
    "collapsed": false
   },
   "outputs": [
    {
     "data": {
      "text/plain": [
       "'this is\\na test'"
      ]
     },
     "execution_count": 16,
     "metadata": {},
     "output_type": "execute_result"
    }
   ],
   "source": [
    "x # python shows you what it thinks it looks like "
   ]
  },
  {
   "cell_type": "code",
   "execution_count": 17,
   "metadata": {
    "collapsed": false
   },
   "outputs": [
    {
     "data": {
      "text/plain": [
       "str"
      ]
     },
     "execution_count": 17,
     "metadata": {},
     "output_type": "execute_result"
    }
   ],
   "source": [
    "type(x)"
   ]
  },
  {
   "cell_type": "code",
   "execution_count": 18,
   "metadata": {
    "collapsed": true
   },
   "outputs": [],
   "source": [
    "img_tag = document.find('img') # this only finds the first matching element"
   ]
  },
  {
   "cell_type": "code",
   "execution_count": 19,
   "metadata": {
    "collapsed": false
   },
   "outputs": [
    {
     "name": "stdout",
     "output_type": "stream",
     "text": [
      "<img src=\"http://placekitten.com/120/120\"/>\n"
     ]
    }
   ],
   "source": [
    "print(img_tag)"
   ]
  },
  {
   "cell_type": "code",
   "execution_count": 20,
   "metadata": {
    "collapsed": true
   },
   "outputs": [],
   "source": [
    "img_tag.string # returns nothing because img tags do not have strings between them \n",
    "#-- there is no closing  tag, therefore an image tag cannot have content! "
   ]
  },
  {
   "cell_type": "code",
   "execution_count": 21,
   "metadata": {
    "collapsed": false
   },
   "outputs": [
    {
     "data": {
      "text/plain": [
       "'http://placekitten.com/120/120'"
      ]
     },
     "execution_count": 21,
     "metadata": {},
     "output_type": "execute_result"
    }
   ],
   "source": [
    "img_tag['src'] #this gives us the valu for the source attribute of that tag.\n",
    "# access similar to how you would access data in a dictionarty "
   ]
  },
  {
   "cell_type": "code",
   "execution_count": 22,
   "metadata": {
    "collapsed": true
   },
   "outputs": [],
   "source": [
    "img_tags = document.findAll('img')"
   ]
  },
  {
   "cell_type": "code",
   "execution_count": 23,
   "metadata": {
    "collapsed": false
   },
   "outputs": [
    {
     "name": "stdout",
     "output_type": "stream",
     "text": [
      "http://placekitten.com/120/120\n",
      "http://placekitten.com/110/110\n"
     ]
    }
   ],
   "source": [
    "for img_tag in img_tags:\n",
    "    print(img_tag['src'])"
   ]
  },
  {
   "cell_type": "code",
   "execution_count": 24,
   "metadata": {
    "collapsed": false
   },
   "outputs": [],
   "source": [
    "type(img_tags)\n",
    "first_img = img_tags[0]\n",
    "second_img = img_tags[1]"
   ]
  },
  {
   "cell_type": "code",
   "execution_count": 25,
   "metadata": {
    "collapsed": false
   },
   "outputs": [
    {
     "data": {
      "text/plain": [
       "'http://placekitten.com/120/120'"
      ]
     },
     "execution_count": 25,
     "metadata": {},
     "output_type": "execute_result"
    }
   ],
   "source": [
    "first_img['src']"
   ]
  },
  {
   "cell_type": "code",
   "execution_count": 26,
   "metadata": {
    "collapsed": false
   },
   "outputs": [
    {
     "data": {
      "text/plain": [
       "'http://placekitten.com/110/110'"
      ]
     },
     "execution_count": 26,
     "metadata": {},
     "output_type": "execute_result"
    }
   ],
   "source": [
    "second_img['src']"
   ]
  },
  {
   "cell_type": "code",
   "execution_count": 27,
   "metadata": {
    "collapsed": false
   },
   "outputs": [
    {
     "name": "stdout",
     "output_type": "stream",
     "text": [
      "Fluffy\n",
      "Monsieur Whiskeurs\n"
     ]
    }
   ],
   "source": [
    "h2_tags = document.findAll('h2')\n",
    "for name in h2_tags:\n",
    "    print(name.string) # returns the string that is contained between the h2 open/close tag"
   ]
  },
  {
   "cell_type": "code",
   "execution_count": 28,
   "metadata": {
    "collapsed": false
   },
   "outputs": [
    {
     "name": "stdout",
     "output_type": "stream",
     "text": [
      "[<span class=\"lastcheckup\">2014-01-17</span>, <span class=\"lastcheckup\">2013-11-02</span>]\n",
      "2014-01-17\n",
      "2013-11-02\n"
     ]
    }
   ],
   "source": [
    "#need to use classes when web scraping in order to differentiate from the same tags with different purposes\n",
    "checkups = document.find_all('span', {'class': 'lastcheckup'})\n",
    "print(checkups)\n",
    "for checkup in checkups:\n",
    "    print(checkup.string)"
   ]
  },
  {
   "cell_type": "code",
   "execution_count": 29,
   "metadata": {
    "collapsed": false
   },
   "outputs": [
    {
     "name": "stdout",
     "output_type": "stream",
     "text": [
      "Fluffy: 2014-01-17\n",
      "Monsieur Whiskeurs: 2013-11-02\n"
     ]
    }
   ],
   "source": [
    "kittens = document.find_all('div',{'class':'kitten'})\n",
    "for item in kittens:\n",
    "    #do not look at entire document\n",
    "    #only want to find tags associated with that particular item\n",
    "    h2_tag = item.find('h2')\n",
    "    # print(h2_tag.string)\n",
    "    checkup = item.find('span')\n",
    "    # print(checkup.string)\n",
    "    print(h2_tag.string + \": \" + checkup.string)\n",
    "     "
   ]
  },
  {
   "cell_type": "code",
   "execution_count": 30,
   "metadata": {
    "collapsed": true
   },
   "outputs": [],
   "source": [
    "kittens = document.find_all('div',{'class':'kitten'})"
   ]
  },
  {
   "cell_type": "code",
   "execution_count": 31,
   "metadata": {
    "collapsed": false
   },
   "outputs": [
    {
     "name": "stdout",
     "output_type": "stream",
     "text": [
      "Fluffy\n"
     ]
    }
   ],
   "source": [
    "first_kitten = kittens[0]\n",
    "first_kitten_h2 = first_kitten.find('h2')\n",
    "print(first_kitten_h2.string)"
   ]
  },
  {
   "cell_type": "code",
   "execution_count": 32,
   "metadata": {
    "collapsed": true
   },
   "outputs": [],
   "source": [
    "planets = ['Mercury', 'Venus', 'Earth', 'Mars', 'Jupiter', 'Saturn', 'Uranus', 'Neptune']"
   ]
  },
  {
   "cell_type": "code",
   "execution_count": 33,
   "metadata": {
    "collapsed": true
   },
   "outputs": [],
   "source": [
    "seperator = ','"
   ]
  },
  {
   "cell_type": "code",
   "execution_count": 34,
   "metadata": {
    "collapsed": false
   },
   "outputs": [
    {
     "data": {
      "text/plain": [
       "'Mercury,Venus,Earth,Mars,Jupiter,Saturn,Uranus,Neptune'"
      ]
     },
     "execution_count": 34,
     "metadata": {},
     "output_type": "execute_result"
    }
   ],
   "source": [
    "seperator.join(planets)"
   ]
  },
  {
   "cell_type": "code",
   "execution_count": 35,
   "metadata": {
    "collapsed": false
   },
   "outputs": [
    {
     "name": "stdout",
     "output_type": "stream",
     "text": [
      "Mercury&\n",
      "Venus&\n",
      "Earth&\n",
      "Mars&\n",
      "Jupiter&\n",
      "Saturn&\n",
      "Uranus&\n",
      "Neptune\n"
     ]
    }
   ],
   "source": [
    "print(\"&\\n\".join(planets))"
   ]
  },
  {
   "cell_type": "code",
   "execution_count": 36,
   "metadata": {
    "collapsed": false
   },
   "outputs": [
    {
     "name": "stdout",
     "output_type": "stream",
     "text": [
      "Mercury&\n",
      "Venus&\n",
      "Earth&\n",
      "Mars\n"
     ]
    }
   ],
   "source": [
    "print(\"&\\n\".join(planets[:4]))"
   ]
  },
  {
   "cell_type": "code",
   "execution_count": 41,
   "metadata": {
    "collapsed": false
   },
   "outputs": [
    {
     "name": "stdout",
     "output_type": "stream",
     "text": [
      "Fluffy: Deep Space Nine, Mr. Belvedere\n",
      "Monsieur Whiskeurs: The X-Files, Fresh Prince\n"
     ]
    }
   ],
   "source": [
    "kittens = document.find_all('div',{'class':'kitten'})\n",
    "for item in kittens:\n",
    "    #do not look at entire document\n",
    "    #only want to find tags associated with that particular item\n",
    "   \n",
    "    h2_tag = item.find('h2')\n",
    "\n",
    "# each tv show is associated with an anchor tag, \n",
    "# each anchor tag is associated with a tv show \n",
    "    a_tags = item.find_all('a')\n",
    "    all_show_name = []\n",
    "    # print(h2_tag.string)\n",
    "    \n",
    "    \n",
    "    #look at every movie in the movies \n",
    "    for atag_item in a_tags:\n",
    "        #append show to a list of all of the tv shoes \n",
    "        all_show_name.append(atag_item.string)\n",
    "    # after exiting the loop join the shows with a ,\n",
    "    all_show_name_string = ', '.join(all_show_name)\n",
    "    # print out the final statement\n",
    "    print(h2_tag.string + \": \" + all_show_name_string)"
   ]
  },
  {
   "cell_type": "code",
   "execution_count": 54,
   "metadata": {
    "collapsed": false
   },
   "outputs": [
    {
     "name": "stdout",
     "output_type": "stream",
     "text": [
      "Fluffy: Deep Space Nine, Mr. Belvedere\n",
      "Monsieur Whiskeurs: The X-Files, Fresh Prince\n"
     ]
    },
    {
     "data": {
      "text/plain": [
       "[{'name': 'Fluffy', 'tvshows': 'Deep Space Nine, Mr. Belvedere'},\n",
       " {'name': 'Monsieur Whiskeurs', 'tvshows': 'The X-Files, Fresh Prince'}]"
      ]
     },
     "execution_count": 54,
     "metadata": {},
     "output_type": "execute_result"
    }
   ],
   "source": [
    "\n",
    "kittens_data = []\n",
    "kittens = document.find_all('div',{'class':'kitten'})\n",
    "for item in kittens:\n",
    "    #do not look at entire document\n",
    "    #only want to find tags associated with that particular item\n",
    "   \n",
    "    h2_tag = item.find('h2')\n",
    "\n",
    "# each tv show is associated with an anchor tag, \n",
    "# each anchor tag is associated with a tv show \n",
    "    a_tags = item.find_all('a')\n",
    "    all_show_name = []\n",
    "    # print(h2_tag.string)\n",
    "    \n",
    "    \n",
    "    #look at every movie in the movies \n",
    "    for atag_item in a_tags:\n",
    "        #append show to a list of all of the tv shoes \n",
    "        all_show_name.append(atag_item.string)\n",
    "    # after exiting the loop join the shows with a ,\n",
    "    all_show_name_string = ', '.join(all_show_name)\n",
    "    # print out the final statement\n",
    "    print(h2_tag.string + \": \" + all_show_name_string)\n",
    "    \n",
    "    kitten_map = {}\n",
    "    kitten_map['name'] = h2_tag.string\n",
    "    kitten_map['tvshows'] = all_show_name_string\n",
    "    \n",
    "    kittens_data.append(kitten_map)\n",
    "kittens_data"
   ]
  },
  {
   "cell_type": "code",
   "execution_count": 57,
   "metadata": {
    "collapsed": false
   },
   "outputs": [
    {
     "name": "stdout",
     "output_type": "stream",
     "text": [
      "Fluffy: Deep Space Nine, Mr. Belvedere\n",
      "Monsieur Whiskeurs: The X-Files, Fresh Prince\n"
     ]
    },
    {
     "data": {
      "text/plain": [
       "[{'name': 'Fluffy', 'tvshows': 'Deep Space Nine, Mr. Belvedere'},\n",
       " {'name': 'Monsieur Whiskeurs', 'tvshows': 'The X-Files, Fresh Prince'}]"
      ]
     },
     "execution_count": 57,
     "metadata": {},
     "output_type": "execute_result"
    }
   ],
   "source": [
    "kittens_data = []\n",
    "kittens = document.find_all('div',{'class':'kitten'})\n",
    "for item in kittens:\n",
    "    #do not look at entire document\n",
    "    #only want to find tags associated with that particular item\n",
    "   \n",
    "    h2_tag = item.find('h2')\n",
    "\n",
    "# each tv show is associated with an anchor tag, \n",
    "# each anchor tag is associated with a tv show \n",
    "    a_tags = item.find_all('a')\n",
    "    all_show_name = []\n",
    "    # print(h2_tag.string)\n",
    "    \n",
    "    \n",
    "    #look at every movie in the movies \n",
    "    for atag_item in a_tags:\n",
    "        #append show to a list of all of the tv shoes \n",
    "        all_show_name.append(atag_item.string)\n",
    "    # after exiting the loop join the shows with a ,\n",
    "    all_show_name_string = ', '.join(all_show_name)\n",
    "    # print out the final statement\n",
    "    print(h2_tag.string + \": \" + all_show_name_string)\n",
    "    \n",
    "    kitten_map = {'name': h2_tag.string,'tvshows': all_show_name_string}\n",
    "    \n",
    "    kittens_data.append(kitten_map)\n",
    "kittens_data"
   ]
  },
  {
   "cell_type": "code",
   "execution_count": 58,
   "metadata": {
    "collapsed": false
   },
   "outputs": [
    {
     "name": "stdout",
     "output_type": "stream",
     "text": [
      "Fluffy: Deep Space Nine, Mr. Belvedere\n",
      "Monsieur Whiskeurs: The X-Files, Fresh Prince\n"
     ]
    },
    {
     "data": {
      "text/plain": [
       "[{'name': 'Fluffy', 'tvshows': 'Deep Space Nine, Mr. Belvedere'},\n",
       " {'name': 'Monsieur Whiskeurs', 'tvshows': 'The X-Files, Fresh Prince'}]"
      ]
     },
     "execution_count": 58,
     "metadata": {},
     "output_type": "execute_result"
    }
   ],
   "source": [
    "kittens_data = []\n",
    "kittens = document.find_all('div',{'class':'kitten'})\n",
    "for item in kittens:\n",
    "    #do not look at entire document\n",
    "    #only want to find tags associated with that particular item\n",
    "   \n",
    "    h2_tag = item.find('h2')\n",
    "\n",
    "# each tv show is associated with an anchor tag, \n",
    "# each anchor tag is associated with a tv show \n",
    "    a_tags = item.find_all('a')\n",
    "    all_show_name = []\n",
    "    # print(h2_tag.string)\n",
    "    \n",
    "    \n",
    "    #look at every movie in the movies \n",
    "    for atag_item in a_tags:\n",
    "        #append show to a list of all of the tv shoes \n",
    "        all_show_name.append(atag_item.string)\n",
    "    # after exiting the loop join the shows with a ,\n",
    "    all_show_name_string = ', '.join(all_show_name)\n",
    "    # print out the final statement\n",
    "    print(h2_tag.string + \": \" + all_show_name_string)\n",
    "  \n",
    "    \n",
    "    kittens_data.append({'name': h2_tag.string,'tvshows': all_show_name_string})\n",
    "kittens_data"
   ]
  },
  {
   "cell_type": "code",
   "execution_count": 55,
   "metadata": {
    "collapsed": false
   },
   "outputs": [
    {
     "data": {
      "text/plain": [
       "2"
      ]
     },
     "execution_count": 55,
     "metadata": {},
     "output_type": "execute_result"
    }
   ],
   "source": [
    "len(kittens_data) #how many kittens are there?"
   ]
  },
  {
   "cell_type": "code",
   "execution_count": 85,
   "metadata": {
    "collapsed": false
   },
   "outputs": [
    {
     "name": "stdout",
     "output_type": "stream",
     "text": [
      "Deep Space Nine, Mr. Belvedere\n",
      "2014-01-17\n",
      "Fluffy: Deep Space Nine, Mr. Belvedere\n",
      "2013-11-02\n",
      "Monsieur Whiskeurs: The X-Files, Fresh Prince\n"
     ]
    },
    {
     "data": {
      "text/plain": [
       "[{'checkups': '2014-01-17',\n",
       "  'name': 'Fluffy',\n",
       "  'tvshows': 'Deep Space Nine, Mr. Belvedere'},\n",
       " {'checkups': '2014-01-17, 2013-11-02',\n",
       "  'name': 'Monsieur Whiskeurs',\n",
       "  'tvshows': 'The X-Files, Fresh Prince'}]"
      ]
     },
     "execution_count": 85,
     "metadata": {},
     "output_type": "execute_result"
    }
   ],
   "source": [
    "for kitten in kittens_data:\n",
    "    print(kitten['tvshows'])\n",
    "    #for show in kitten['tvshows']:\n",
    "     #   print(show)\n",
    "kittens_data = []\n",
    "kittens = document.find_all('div',{'class':'kitten'})\n",
    "\n",
    "\n",
    "#need to use classes when web scraping in order to differentiate from the same tags with different purposes\n",
    "#checkups = document.find_all('span', {'class': 'lastcheckup'})\n",
    "# print(checkups)\n",
    "\n",
    "#all_checkups = []\n",
    "#for checkup in checkups:\n",
    " #   all_checkups.append(checkup.string)\n",
    "#all_checkups = ', '.join(all_checkups)\n",
    "    \n",
    "all_checkups = []\n",
    "    \n",
    "for item in kittens:\n",
    "   \n",
    " #do not look at entire document\n",
    "    #only want to find tags associated with that particular item\n",
    "    \n",
    "    checkup = item.find('span')\n",
    "    print(checkup.string)\n",
    "    all_checkups.append(checkup.string)\n",
    "    all_checkups_string = ', '.join(all_checkups)\n",
    "    \n",
    "   \n",
    "   \n",
    "    h2_tag = item.find('h2')\n",
    "\n",
    "# each tv show is associated with an anchor tag, \n",
    "# each anchor tag is associated with a tv show \n",
    "    a_tags = item.find_all('a')\n",
    "    all_show_name = []\n",
    "    # print(h2_tag.string)\n",
    "    \n",
    "    \n",
    "    \n",
    "    #look at every movie in the movies \n",
    "    for atag_item in a_tags:\n",
    "        #append show to a list of all of the tv shoes \n",
    "        all_show_name.append(atag_item.string)\n",
    "    # after exiting the loop join the shows with a ,\n",
    "    all_show_name_string = ', '.join(all_show_name)\n",
    "    # print out the final statement\n",
    "    print(h2_tag.string + \": \" + all_show_name_string)\n",
    "  \n",
    "    \n",
    "    kittens_data.append({'name': h2_tag.string,'tvshows': all_show_name_string, 'checkups': all_checkups_string})\n",
    "kittens_data    "
   ]
  },
  {
   "cell_type": "code",
   "execution_count": 65,
   "metadata": {
    "collapsed": false
   },
   "outputs": [
    {
     "name": "stdout",
     "output_type": "stream",
     "text": [
      "2014-01-17\n",
      "2013-11-02\n"
     ]
    }
   ],
   "source": []
  },
  {
   "cell_type": "code",
   "execution_count": 108,
   "metadata": {
    "collapsed": true
   },
   "outputs": [],
   "source": [
    "x = [ 'a','b','c']"
   ]
  },
  {
   "cell_type": "code",
   "execution_count": 40,
   "metadata": {
    "collapsed": false
   },
   "outputs": [
    {
     "data": {
      "text/plain": [
       "1"
      ]
     },
     "execution_count": 40,
     "metadata": {},
     "output_type": "execute_result"
    }
   ],
   "source": [
    "# declaring a dictionary\n",
    "x = {'a': 1, 'b':2, 'c':3}\n",
    "\n",
    "#get a value out of a dictionary\n",
    "x['a']"
   ]
  },
  {
   "cell_type": "code",
   "execution_count": 44,
   "metadata": {
    "collapsed": false
   },
   "outputs": [
    {
     "data": {
      "text/plain": [
       "dict_keys(['a', 'c', 'b'])"
      ]
     },
     "execution_count": 44,
     "metadata": {},
     "output_type": "execute_result"
    }
   ],
   "source": [
    "x.keys() # keys do not print in order - it is not random "
   ]
  },
  {
   "cell_type": "code",
   "execution_count": 46,
   "metadata": {
    "collapsed": false
   },
   "outputs": [
    {
     "name": "stdout",
     "output_type": "stream",
     "text": [
      "a\n",
      "c\n",
      "b\n"
     ]
    }
   ],
   "source": [
    "for k in x.keys():\n",
    "    print(k)"
   ]
  },
  {
   "cell_type": "code",
   "execution_count": 51,
   "metadata": {
    "collapsed": false
   },
   "outputs": [
    {
     "name": "stdout",
     "output_type": "stream",
     "text": [
      "{1: 1, 2: 4, 3: 9, 4: 16, 5: 25, 6: 36, 7: 49, 8: 64, 9: 81, 10: 100}\n",
      "The square of 7 is 49\n"
     ]
    }
   ],
   "source": [
    "squares = {}\n",
    "for n in range(1,11):\n",
    "    #assigning the name of a key here - overwrites or writes in a value for the key\n",
    "    squares[n] = n * n\n",
    "print(squares)\n",
    "\n",
    "print(\"The square of 7 is\", squares[7])"
   ]
  },
  {
   "cell_type": "code",
   "execution_count": 52,
   "metadata": {
    "collapsed": false
   },
   "outputs": [
    {
     "name": "stdout",
     "output_type": "stream",
     "text": [
      "{'Bob': 3, 'Caroline': 8, 'Aaron': 5, 'Daphne': 6}\n"
     ]
    }
   ],
   "source": [
    "names = ['Aaron', 'Bob', 'Caroline', 'Daphne']\n",
    "\n",
    "name_length_map = {}\n",
    "for item in names:\n",
    "    name_length_map[item] = len(item)\n",
    "print(name_length_map)"
   ]
  },
  {
   "cell_type": "code",
   "execution_count": 109,
   "metadata": {
    "collapsed": false
   },
   "outputs": [
    {
     "data": {
      "text/plain": [
       "'a'"
      ]
     },
     "execution_count": 109,
     "metadata": {},
     "output_type": "execute_result"
    }
   ],
   "source": [
    "x[0]"
   ]
  },
  {
   "cell_type": "code",
   "execution_count": 110,
   "metadata": {
    "collapsed": false
   },
   "outputs": [
    {
     "data": {
      "text/plain": [
       "'c'"
      ]
     },
     "execution_count": 110,
     "metadata": {},
     "output_type": "execute_result"
    }
   ],
   "source": [
    "x[2]"
   ]
  },
  {
   "cell_type": "code",
   "execution_count": 111,
   "metadata": {
    "collapsed": true
   },
   "outputs": [],
   "source": [
    "x.append(\"e\")"
   ]
  },
  {
   "cell_type": "code",
   "execution_count": 112,
   "metadata": {
    "collapsed": false
   },
   "outputs": [
    {
     "data": {
      "text/plain": [
       "4"
      ]
     },
     "execution_count": 112,
     "metadata": {},
     "output_type": "execute_result"
    }
   ],
   "source": [
    "len(x)"
   ]
  },
  {
   "cell_type": "code",
   "execution_count": 113,
   "metadata": {
    "collapsed": true
   },
   "outputs": [],
   "source": [
    "numbers = [1,2,3,4,5,6]"
   ]
  },
  {
   "cell_type": "code",
   "execution_count": 114,
   "metadata": {
    "collapsed": true
   },
   "outputs": [],
   "source": [
    "squared = []\n",
    "for item in numbers:\n",
    "    s = item * item\n",
    "    squared.append(s)"
   ]
  },
  {
   "cell_type": "code",
   "execution_count": 115,
   "metadata": {
    "collapsed": false
   },
   "outputs": [
    {
     "name": "stdout",
     "output_type": "stream",
     "text": [
      "[1, 4, 9, 16, 25, 36]\n"
     ]
    }
   ],
   "source": [
    "print(squared)"
   ]
  },
  {
   "cell_type": "code",
   "execution_count": null,
   "metadata": {
    "collapsed": true
   },
   "outputs": [],
   "source": []
  }
 ],
 "metadata": {
  "kernelspec": {
   "display_name": "Python 3",
   "language": "python",
   "name": "python3"
  },
  "language_info": {
   "codemirror_mode": {
    "name": "ipython",
    "version": 3
   },
   "file_extension": ".py",
   "mimetype": "text/x-python",
   "name": "python",
   "nbconvert_exporter": "python",
   "pygments_lexer": "ipython3",
   "version": "3.5.1"
  }
 },
 "nbformat": 4,
 "nbformat_minor": 0
}
